{
 "cells": [
  {
   "cell_type": "markdown",
   "source": [
    "Os comandos abaixo carregam o famoso dataset do titanic no objeto chamado *df*. Explore a tabela e responda as seguintes questões **sempre colocando o código em Python utilizado para chegar às respostas.**\n",
    "\n",
    "1) Quantas pessoas sobreviveram ao acidente?\n",
    "2) Quantas criancas menores de 12 anos sobreviveram ao acidente?\n",
    "3) Quantas pessoas embarcaram nos portos de Southampton OU Queenstow?\n",
    "4) Crie um objeto chamado **passageiras** que seleciona somente as passageiras.\n",
    "5) Crie um objeto chamado **criancas_cherbourg** que seleciona as crianças com menos de 12 anos E que embarcaram na cidade de Cherbourg.\n",
    "6) Crie um objeto chamado **titanic_menor** e selecione as colunas de *nome*, *idade*, *classe* e *embarque*\n",
    "7) Supondo que o valor da tarifa no dataset está em libras, e que 1£ = R$ 6.43, crie uma nova coluna chamada **tarifa_real** que contenha a tarifa de embarque em reais.\n",
    "8) Agrupe pela coluna sobreviveu e calcule o número de passageiros por grupo (sim/nao)\n",
    "9) Agrupe pelo local de embarque e calcule a média e a mediana da tarifa de cada grupo.\n",
    "10) Agrupe pela classe e conte a quantidade de pessoas por classe\n",
    "11) Agrupe pela classe e pela coluna sobreviveu e conte a quantidade de pessoas que sobreviveu de acordo com cada classe. Quem sobreviveu mais? A classe mais alta ou a mais baixa?\n",
    "12) Agrupe pelo sexo e pela coluna sobreviveu e conte a quantidade de pessoas que sobreviveram de acordo com o sexo. Quem sobreviveu mais? Homens ou mulheres?"
   ],
   "metadata": {
    "collapsed": false,
    "pycharm": {
     "name": "#%% md\n"
    }
   }
  },
  {
   "cell_type": "code",
   "execution_count": 2,
   "outputs": [],
   "source": [
    "import pandas as pd"
   ],
   "metadata": {
    "collapsed": false,
    "pycharm": {
     "name": "#%%\n"
    }
   }
  },
  {
   "cell_type": "code",
   "execution_count": 4,
   "outputs": [
    {
     "data": {
      "text/plain": "     id_passageiro sobreviveu  classe  \\\n0                1        nao       3   \n1                2        sim       1   \n2                3        sim       3   \n3                4        sim       1   \n4                5        nao       3   \n..             ...        ...     ...   \n886            887        nao       2   \n887            888        sim       1   \n888            889        nao       3   \n889            890        sim       1   \n890            891        nao       3   \n\n                                                  nome       sexo  idade  \\\n0                              Braund, Mr. Owen Harris  masculino   22.0   \n1    Cumings, Mrs. John Bradley (Florence Briggs Th...   feminino   38.0   \n2                               Heikkinen, Miss. Laina   feminino   26.0   \n3         Futrelle, Mrs. Jacques Heath (Lily May Peel)   feminino   35.0   \n4                             Allen, Mr. William Henry  masculino   35.0   \n..                                                 ...        ...    ...   \n886                              Montvila, Rev. Juozas  masculino   27.0   \n887                       Graham, Miss. Margaret Edith   feminino   19.0   \n888           Johnston, Miss. Catherine Helen \"Carrie\"   feminino    NaN   \n889                              Behr, Mr. Karl Howell  masculino   26.0   \n890                                Dooley, Mr. Patrick  masculino   32.0   \n\n     irmaos_conjuge  pais_criancas          passagem     tarifa cabine  \\\n0                 1              0         A/5 21171     7.2500    NaN   \n1                 1              0          PC 17599    71.2833    C85   \n2                 0              0  STON/O2. 3101282  7925.0000    NaN   \n3                 1              0            113803    53.1000   C123   \n4                 0              0            373450     8.0500    NaN   \n..              ...            ...               ...        ...    ...   \n886               0              0            211536    13.0000    NaN   \n887               0              0            112053    30.0000    B42   \n888               1              2        W./C. 6607    23.4500    NaN   \n889               0              0            111369    30.0000   C148   \n890               0              0            370376     7.7500    NaN   \n\n        embarque  \n0    Southampton  \n1      Cherbourg  \n2    Southampton  \n3    Southampton  \n4    Southampton  \n..           ...  \n886  Southampton  \n887  Southampton  \n888  Southampton  \n889    Cherbourg  \n890    Queenstow  \n\n[891 rows x 12 columns]",
      "text/html": "<div>\n<style scoped>\n    .dataframe tbody tr th:only-of-type {\n        vertical-align: middle;\n    }\n\n    .dataframe tbody tr th {\n        vertical-align: top;\n    }\n\n    .dataframe thead th {\n        text-align: right;\n    }\n</style>\n<table border=\"1\" class=\"dataframe\">\n  <thead>\n    <tr style=\"text-align: right;\">\n      <th></th>\n      <th>id_passageiro</th>\n      <th>sobreviveu</th>\n      <th>classe</th>\n      <th>nome</th>\n      <th>sexo</th>\n      <th>idade</th>\n      <th>irmaos_conjuge</th>\n      <th>pais_criancas</th>\n      <th>passagem</th>\n      <th>tarifa</th>\n      <th>cabine</th>\n      <th>embarque</th>\n    </tr>\n  </thead>\n  <tbody>\n    <tr>\n      <th>0</th>\n      <td>1</td>\n      <td>nao</td>\n      <td>3</td>\n      <td>Braund, Mr. Owen Harris</td>\n      <td>masculino</td>\n      <td>22.0</td>\n      <td>1</td>\n      <td>0</td>\n      <td>A/5 21171</td>\n      <td>7.2500</td>\n      <td>NaN</td>\n      <td>Southampton</td>\n    </tr>\n    <tr>\n      <th>1</th>\n      <td>2</td>\n      <td>sim</td>\n      <td>1</td>\n      <td>Cumings, Mrs. John Bradley (Florence Briggs Th...</td>\n      <td>feminino</td>\n      <td>38.0</td>\n      <td>1</td>\n      <td>0</td>\n      <td>PC 17599</td>\n      <td>71.2833</td>\n      <td>C85</td>\n      <td>Cherbourg</td>\n    </tr>\n    <tr>\n      <th>2</th>\n      <td>3</td>\n      <td>sim</td>\n      <td>3</td>\n      <td>Heikkinen, Miss. Laina</td>\n      <td>feminino</td>\n      <td>26.0</td>\n      <td>0</td>\n      <td>0</td>\n      <td>STON/O2. 3101282</td>\n      <td>7925.0000</td>\n      <td>NaN</td>\n      <td>Southampton</td>\n    </tr>\n    <tr>\n      <th>3</th>\n      <td>4</td>\n      <td>sim</td>\n      <td>1</td>\n      <td>Futrelle, Mrs. Jacques Heath (Lily May Peel)</td>\n      <td>feminino</td>\n      <td>35.0</td>\n      <td>1</td>\n      <td>0</td>\n      <td>113803</td>\n      <td>53.1000</td>\n      <td>C123</td>\n      <td>Southampton</td>\n    </tr>\n    <tr>\n      <th>4</th>\n      <td>5</td>\n      <td>nao</td>\n      <td>3</td>\n      <td>Allen, Mr. William Henry</td>\n      <td>masculino</td>\n      <td>35.0</td>\n      <td>0</td>\n      <td>0</td>\n      <td>373450</td>\n      <td>8.0500</td>\n      <td>NaN</td>\n      <td>Southampton</td>\n    </tr>\n    <tr>\n      <th>...</th>\n      <td>...</td>\n      <td>...</td>\n      <td>...</td>\n      <td>...</td>\n      <td>...</td>\n      <td>...</td>\n      <td>...</td>\n      <td>...</td>\n      <td>...</td>\n      <td>...</td>\n      <td>...</td>\n      <td>...</td>\n    </tr>\n    <tr>\n      <th>886</th>\n      <td>887</td>\n      <td>nao</td>\n      <td>2</td>\n      <td>Montvila, Rev. Juozas</td>\n      <td>masculino</td>\n      <td>27.0</td>\n      <td>0</td>\n      <td>0</td>\n      <td>211536</td>\n      <td>13.0000</td>\n      <td>NaN</td>\n      <td>Southampton</td>\n    </tr>\n    <tr>\n      <th>887</th>\n      <td>888</td>\n      <td>sim</td>\n      <td>1</td>\n      <td>Graham, Miss. Margaret Edith</td>\n      <td>feminino</td>\n      <td>19.0</td>\n      <td>0</td>\n      <td>0</td>\n      <td>112053</td>\n      <td>30.0000</td>\n      <td>B42</td>\n      <td>Southampton</td>\n    </tr>\n    <tr>\n      <th>888</th>\n      <td>889</td>\n      <td>nao</td>\n      <td>3</td>\n      <td>Johnston, Miss. Catherine Helen \"Carrie\"</td>\n      <td>feminino</td>\n      <td>NaN</td>\n      <td>1</td>\n      <td>2</td>\n      <td>W./C. 6607</td>\n      <td>23.4500</td>\n      <td>NaN</td>\n      <td>Southampton</td>\n    </tr>\n    <tr>\n      <th>889</th>\n      <td>890</td>\n      <td>sim</td>\n      <td>1</td>\n      <td>Behr, Mr. Karl Howell</td>\n      <td>masculino</td>\n      <td>26.0</td>\n      <td>0</td>\n      <td>0</td>\n      <td>111369</td>\n      <td>30.0000</td>\n      <td>C148</td>\n      <td>Cherbourg</td>\n    </tr>\n    <tr>\n      <th>890</th>\n      <td>891</td>\n      <td>nao</td>\n      <td>3</td>\n      <td>Dooley, Mr. Patrick</td>\n      <td>masculino</td>\n      <td>32.0</td>\n      <td>0</td>\n      <td>0</td>\n      <td>370376</td>\n      <td>7.7500</td>\n      <td>NaN</td>\n      <td>Queenstow</td>\n    </tr>\n  </tbody>\n</table>\n<p>891 rows × 12 columns</p>\n</div>"
     },
     "execution_count": 4,
     "metadata": {},
     "output_type": "execute_result"
    }
   ],
   "source": [
    "df = pd.read_csv('../dados/titanic.csv')\n",
    "df"
   ],
   "metadata": {
    "collapsed": false,
    "pycharm": {
     "name": "#%%\n"
    }
   }
  },
  {
   "cell_type": "code",
   "execution_count": null,
   "outputs": [],
   "source": [],
   "metadata": {
    "collapsed": false,
    "pycharm": {
     "name": "#%%\n"
    }
   }
  }
 ],
 "metadata": {
  "kernelspec": {
   "display_name": "Python 3",
   "language": "python",
   "name": "python3"
  },
  "language_info": {
   "codemirror_mode": {
    "name": "ipython",
    "version": 2
   },
   "file_extension": ".py",
   "mimetype": "text/x-python",
   "name": "python",
   "nbconvert_exporter": "python",
   "pygments_lexer": "ipython2",
   "version": "2.7.6"
  }
 },
 "nbformat": 4,
 "nbformat_minor": 0
}