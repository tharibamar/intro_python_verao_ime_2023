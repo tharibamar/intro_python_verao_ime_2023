{
 "cells": [
  {
   "cell_type": "markdown",
   "metadata": {
    "collapsed": true,
    "pycharm": {
     "name": "#%% md\n"
    }
   },
   "source": [
    "# Introdução ao Python para análise exploratória de dados - aula02"
   ]
  },
  {
   "cell_type": "markdown",
   "metadata": {
    "pycharm": {
     "name": "#%% md\n"
    }
   },
   "source": [
    "![](../img/intro_python.png)"
   ]
  },
  {
   "cell_type": "markdown",
   "metadata": {
    "pycharm": {
     "name": "#%% md\n"
    }
   },
   "source": [
    "Na aula de hoje vamos falar sobre definição de funções, criação e importação de módulos e o conceito e criação de pacotes no Python. Também vamos comecar a falar sobre o pacote Pandas"
   ]
  },
  {
   "cell_type": "markdown",
   "metadata": {
    "pycharm": {
     "name": "#%% md\n"
    }
   },
   "source": [
    "## Funcões\n",
    "São blocos de códigos nomeados e que são criados para executar uma tarefa específica. O grande propósito das funções é evitar repetir trechos de códigos que fazem a mesma coisa ao longo de todo o nosso código."
   ]
  },
  {
   "cell_type": "code",
   "execution_count": 31,
   "metadata": {
    "pycharm": {
     "name": "#%%\n"
    }
   },
   "outputs": [],
   "source": [
    "def nao_faz_nada():\n",
    "   pass"
   ]
  },
  {
   "cell_type": "code",
   "execution_count": 32,
   "metadata": {
    "pycharm": {
     "name": "#%%\n"
    }
   },
   "outputs": [],
   "source": [
    "nao_faz_nada()"
   ]
  },
  {
   "cell_type": "code",
   "execution_count": 33,
   "metadata": {
    "pycharm": {
     "name": "#%%\n"
    }
   },
   "outputs": [],
   "source": [
    "def faz_barulho():\n",
    "   print(\"quack\")"
   ]
  },
  {
   "cell_type": "code",
   "execution_count": 34,
   "metadata": {
    "pycharm": {
     "name": "#%%\n"
    }
   },
   "outputs": [
    {
     "name": "stdout",
     "output_type": "stream",
     "text": [
      "quack\n"
     ]
    }
   ],
   "source": [
    "faz_barulho()"
   ]
  },
  {
   "cell_type": "markdown",
   "metadata": {
    "pycharm": {
     "name": "#%% md\n"
    }
   },
   "source": [
    "É sempre bom criarmos docstrings para documentar o que a funcão faz"
   ]
  },
  {
   "cell_type": "code",
   "execution_count": 35,
   "metadata": {
    "pycharm": {
     "name": "#%%\n"
    }
   },
   "outputs": [
    {
     "name": "stdout",
     "output_type": "stream",
     "text": [
      "Olá!\n"
     ]
    }
   ],
   "source": [
    "def cumprimentar():\n",
    "   \"\"\" Exibe uma saudação ao usuário \"\"\"\n",
    "   print('Olá!')\n",
    "\n",
    "cumprimentar()"
   ]
  },
  {
   "cell_type": "code",
   "execution_count": 36,
   "metadata": {
    "pycharm": {
     "name": "#%%\n"
    }
   },
   "outputs": [
    {
     "name": "stdout",
     "output_type": "stream",
     "text": [
      "Hello, Bruna!\n"
     ]
    }
   ],
   "source": [
    "def cumprimenta_usuario(nome):\n",
    "   \"\"\" Exibe uma saudação com o nome do usuário \"\"\"\n",
    "   print('Hello, ' + nome.title() + '!')\n",
    "\n",
    "cumprimenta_usuario('bruna')"
   ]
  },
  {
   "cell_type": "markdown",
   "metadata": {
    "pycharm": {
     "name": "#%% md\n"
    }
   },
   "source": [
    "Quando criamos docstrings, podemos acessar elas através do comando help"
   ]
  },
  {
   "cell_type": "code",
   "execution_count": 37,
   "metadata": {
    "pycharm": {
     "name": "#%%\n"
    }
   },
   "outputs": [
    {
     "name": "stdout",
     "output_type": "stream",
     "text": [
      "Help on function cumprimenta_usuario in module __main__:\n",
      "\n",
      "cumprimenta_usuario(nome)\n",
      "    Exibe uma saudação com o nome do usuário\n",
      "\n"
     ]
    }
   ],
   "source": [
    "help(cumprimenta_usuario) # funcoes são objetos no python também"
   ]
  },
  {
   "cell_type": "code",
   "execution_count": 38,
   "metadata": {
    "pycharm": {
     "name": "#%%\n"
    }
   },
   "outputs": [
    {
     "name": "stdout",
     "output_type": "stream",
     "text": [
      "Help on built-in function sum in module builtins:\n",
      "\n",
      "sum(iterable, /, start=0)\n",
      "    Return the sum of a 'start' value (default: 0) plus an iterable of numbers\n",
      "    \n",
      "    When the iterable is empty, return the start value.\n",
      "    This function is intended specifically for use with numeric values and may\n",
      "    reject non-numeric types.\n",
      "\n"
     ]
    }
   ],
   "source": [
    "help(sum) # docstring do comando sum que é nativo do Python"
   ]
  },
  {
   "cell_type": "code",
   "execution_count": 39,
   "metadata": {
    "pycharm": {
     "name": "#%%\n"
    }
   },
   "outputs": [
    {
     "name": "stdout",
     "output_type": "stream",
     "text": [
      "Seu IMC é 25.71\n"
     ]
    }
   ],
   "source": [
    "def imc():\n",
    "   peso = float(input('Entre com seu peso em kg:'))\n",
    "   altura = float(input('Entre com sua altura em metros:'))\n",
    "   indice = peso / (altura ** 2)\n",
    "   print('Seu IMC é {:.2f}'.format(indice))\n",
    "\n",
    "imc() # chamando a funcao"
   ]
  },
  {
   "cell_type": "code",
   "execution_count": 22,
   "metadata": {
    "pycharm": {
     "name": "#%%\n"
    }
   },
   "outputs": [
    {
     "name": "stdout",
     "output_type": "stream",
     "text": [
      "Seu IMC é 25.71\n",
      "None\n"
     ]
    }
   ],
   "source": [
    "resultado = imc()\n",
    "print(resultado) # como não usamos um return a funcao retorna o valor None"
   ]
  },
  {
   "cell_type": "code",
   "execution_count": 23,
   "metadata": {
    "pycharm": {
     "name": "#%%\n"
    }
   },
   "outputs": [
    {
     "name": "stdout",
     "output_type": "stream",
     "text": [
      "Seu IMC é 25.71\n"
     ]
    }
   ],
   "source": [
    "def imc():\n",
    "   peso = float(input('Entre com seu peso em kg:'))\n",
    "   altura = float(input('Entre com sua altura em metros:'))\n",
    "   indice = peso / (altura ** 2)\n",
    "   print('Seu IMC é {:.2f}'.format(indice))\n",
    "   return indice\n",
    "\n",
    "resultado = imc()"
   ]
  },
  {
   "cell_type": "code",
   "execution_count": 24,
   "metadata": {
    "pycharm": {
     "name": "#%%\n"
    }
   },
   "outputs": [
    {
     "name": "stdout",
     "output_type": "stream",
     "text": [
      "25.71100826707804\n"
     ]
    }
   ],
   "source": [
    "print(resultado)"
   ]
  },
  {
   "cell_type": "code",
   "execution_count": 25,
   "metadata": {
    "pycharm": {
     "name": "#%%\n"
    }
   },
   "outputs": [
    {
     "name": "stdout",
     "output_type": "stream",
     "text": [
      "Você está com sobrepeso\n"
     ]
    }
   ],
   "source": [
    "def mostra_mensagem_imc(valor_imc):\n",
    "    if valor_imc < 20:\n",
    "       print('Você está abaixo do peso')\n",
    "    elif valor_imc < 24.9:\n",
    "       print('Você está com o peso normal')\n",
    "    elif valor_imc < 29.9:\n",
    "       print('Você está com sobrepeso')\n",
    "    else:\n",
    "       print('Você está com obesidade')\n",
    "\n",
    "mostra_mensagem_imc(resultado)"
   ]
  },
  {
   "cell_type": "markdown",
   "metadata": {
    "pycharm": {
     "name": "#%% md\n"
    }
   },
   "source": [
    "Cada funcão pode ter *argumentos posicionais* e *argumentos chave*. Argumentos chave são muito usados para especificar valores padrão."
   ]
  },
  {
   "cell_type": "code",
   "execution_count": 40,
   "metadata": {
    "pycharm": {
     "name": "#%%\n"
    }
   },
   "outputs": [],
   "source": [
    "def minha_funcao(x, y, z=1.5):\n",
    "   # se o usuario nao escolher um valor para z, o valor 1.5 será usado\n",
    "   if z > 1:\n",
    "      return z * (x + y)\n",
    "   else:\n",
    "      return z / (x + y)"
   ]
  },
  {
   "cell_type": "code",
   "execution_count": 41,
   "metadata": {
    "pycharm": {
     "name": "#%%\n"
    }
   },
   "outputs": [
    {
     "data": {
      "text/plain": "0.06363636363636363"
     },
     "execution_count": 41,
     "metadata": {},
     "output_type": "execute_result"
    }
   ],
   "source": [
    "minha_funcao(x = 5, y = 6, z = 0.7)"
   ]
  },
  {
   "cell_type": "code",
   "execution_count": 28,
   "metadata": {
    "pycharm": {
     "name": "#%%\n"
    }
   },
   "outputs": [
    {
     "data": {
      "text/plain": "0.06363636363636363"
     },
     "execution_count": 28,
     "metadata": {},
     "output_type": "execute_result"
    }
   ],
   "source": [
    "minha_funcao(5, 6, 0.7)"
   ]
  },
  {
   "cell_type": "code",
   "execution_count": 29,
   "metadata": {
    "pycharm": {
     "name": "#%%\n"
    }
   },
   "outputs": [
    {
     "data": {
      "text/plain": "45.0"
     },
     "execution_count": 29,
     "metadata": {},
     "output_type": "execute_result"
    }
   ],
   "source": [
    "minha_funcao(10, 20)"
   ]
  },
  {
   "cell_type": "markdown",
   "metadata": {
    "pycharm": {
     "name": "#%% md\n"
    }
   },
   "source": [
    "Enquanto argumentos chave são opcionais para o usuario, os argumentos posicionais são obrigatórios"
   ]
  },
  {
   "cell_type": "code",
   "execution_count": 30,
   "metadata": {
    "pycharm": {
     "name": "#%%\n"
    }
   },
   "outputs": [
    {
     "ename": "TypeError",
     "evalue": "minha_funcao() missing 1 required positional argument: 'x'",
     "output_type": "error",
     "traceback": [
      "\u001B[0;31m---------------------------------------------------------------------------\u001B[0m",
      "\u001B[0;31mTypeError\u001B[0m                                 Traceback (most recent call last)",
      "Cell \u001B[0;32mIn[30], line 1\u001B[0m\n\u001B[0;32m----> 1\u001B[0m \u001B[43mminha_funcao\u001B[49m\u001B[43m(\u001B[49m\u001B[43my\u001B[49m\u001B[43m \u001B[49m\u001B[38;5;241;43m=\u001B[39;49m\u001B[43m \u001B[49m\u001B[38;5;241;43m1\u001B[39;49m\u001B[43m,\u001B[49m\u001B[43m \u001B[49m\u001B[43mz\u001B[49m\u001B[43m \u001B[49m\u001B[38;5;241;43m=\u001B[39;49m\u001B[43m \u001B[49m\u001B[38;5;241;43m2\u001B[39;49m\u001B[43m)\u001B[49m\n",
      "\u001B[0;31mTypeError\u001B[0m: minha_funcao() missing 1 required positional argument: 'x'"
     ]
    }
   ],
   "source": [
    "minha_funcao(y = 1, z = 2)"
   ]
  },
  {
   "cell_type": "markdown",
   "metadata": {
    "pycharm": {
     "name": "#%% md\n"
    }
   },
   "source": [
    "Podemos retornar multiplos valores de uma funcão"
   ]
  },
  {
   "cell_type": "code",
   "execution_count": 46,
   "metadata": {
    "pycharm": {
     "name": "#%%\n"
    }
   },
   "outputs": [],
   "source": [
    "def imc():\n",
    "   peso = float(input('Entre com seu peso em kg:'))\n",
    "   altura = float(input('Entre com sua altura em metros:'))\n",
    "   indice = peso / (altura ** 2)\n",
    "   print('Seu IMC é {:.2f}'.format(indice))\n",
    "   return peso, altura, indice"
   ]
  },
  {
   "cell_type": "code",
   "execution_count": 47,
   "metadata": {
    "pycharm": {
     "name": "#%%\n"
    }
   },
   "outputs": [
    {
     "name": "stdout",
     "output_type": "stream",
     "text": [
      "Seu IMC é 25.71\n"
     ]
    }
   ],
   "source": [
    "p, a, i = imc() # cada valor retornado é atribuído a uma funcão"
   ]
  },
  {
   "cell_type": "code",
   "execution_count": 48,
   "metadata": {
    "pycharm": {
     "name": "#%%\n"
    }
   },
   "outputs": [
    {
     "name": "stdout",
     "output_type": "stream",
     "text": [
      "25.71100826707804\n"
     ]
    }
   ],
   "source": [
    "print(i)"
   ]
  },
  {
   "cell_type": "code",
   "execution_count": 49,
   "metadata": {
    "pycharm": {
     "name": "#%%\n"
    }
   },
   "outputs": [
    {
     "name": "stdout",
     "output_type": "stream",
     "text": [
      "Seu IMC é 25.71\n"
     ]
    }
   ],
   "source": [
    "resultado = imc()"
   ]
  },
  {
   "cell_type": "code",
   "execution_count": 50,
   "metadata": {
    "pycharm": {
     "name": "#%%\n"
    }
   },
   "outputs": [
    {
     "name": "stdout",
     "output_type": "stream",
     "text": [
      "(65.0, 1.59, 25.71100826707804)\n"
     ]
    }
   ],
   "source": [
    "print(resultado)"
   ]
  },
  {
   "cell_type": "markdown",
   "metadata": {
    "pycharm": {
     "name": "#%% md\n"
    }
   },
   "source": [
    "Como as funções do Python são objetos, muitas construções que são difíceis de fazer em outras linguagens podem ser facilmente feitas no Python. Suponha que estivéssemos fazendo alguma limpeza de dados e precisássemos aplicar várias transformações à seguinte lista de strings:"
   ]
  },
  {
   "cell_type": "code",
   "execution_count": 51,
   "metadata": {
    "pycharm": {
     "name": "#%%\n"
    }
   },
   "outputs": [],
   "source": [
    "cidades = [\"são paulo\", \"FORTALEZA\", \"Rio de Janeiro   \", \"sALvador\", \"manaus##\", \"Natal?\"]"
   ]
  },
  {
   "cell_type": "markdown",
   "metadata": {
    "pycharm": {
     "name": "#%% md\n"
    }
   },
   "source": [
    "Todo mundo que já trabalhou com enquetes que coletam dados do usuário sabe que podemos ter esse tipo de situacão. Nesse exemplo, temos de fazer várias operacões para uniformizar e padronizar os nossos dados: remover espacos em branco, remover pontuacões, padronizar letras maiúsculas e minúsculas."
   ]
  },
  {
   "cell_type": "code",
   "execution_count": 52,
   "metadata": {
    "pycharm": {
     "name": "#%%\n"
    }
   },
   "outputs": [],
   "source": [
    "import re\n",
    "\n",
    "def clean_strings(strings):\n",
    "    result = []\n",
    "    for value in strings:\n",
    "        value = value.strip() # remove espacos em branco extras\n",
    "        value = re.sub(\"[!#?]\", \"\", value) # remove pontuacoes\n",
    "        value = value.title() # uniformiza as letras maiusculas e minúsculas deixando só 1 letra maiuscula\n",
    "        result.append(value) # pendura o novo resultado em uma lista nova que guarda os nomes limpos\n",
    "    return result"
   ]
  },
  {
   "cell_type": "code",
   "execution_count": 53,
   "metadata": {
    "pycharm": {
     "name": "#%%\n"
    }
   },
   "outputs": [
    {
     "name": "stdout",
     "output_type": "stream",
     "text": [
      "['São Paulo', 'Fortaleza', 'Rio De Janeiro', 'Salvador', 'Manaus', 'Natal']\n"
     ]
    }
   ],
   "source": [
    "teste = clean_strings(cidades)\n",
    "print(teste)"
   ]
  },
  {
   "cell_type": "code",
   "execution_count": 54,
   "metadata": {
    "pycharm": {
     "name": "#%%\n"
    }
   },
   "outputs": [],
   "source": [
    "import re\n",
    "\n",
    "def clean_strings(value):\n",
    "  value = value.strip()\n",
    "  value = re.sub(\"[!#?]\", \"\", value)\n",
    "  value = value.title()\n",
    "  return value"
   ]
  },
  {
   "cell_type": "markdown",
   "metadata": {
    "pycharm": {
     "name": "#%% md\n"
    }
   },
   "source": [
    "Podemos usar funções como argumentos para outras funções, como a função *map*, que aplica uma função a uma sequência de algum tipo, como uma lista:"
   ]
  },
  {
   "cell_type": "code",
   "execution_count": 55,
   "metadata": {
    "pycharm": {
     "name": "#%%\n"
    }
   },
   "outputs": [
    {
     "name": "stdout",
     "output_type": "stream",
     "text": [
      "São Paulo\n",
      "Fortaleza\n",
      "Rio De Janeiro\n",
      "Salvador\n",
      "Manaus\n",
      "Natal\n"
     ]
    },
    {
     "data": {
      "text/plain": "['São Paulo', 'Fortaleza', 'Rio De Janeiro', 'Salvador', 'Manaus', 'Natal']"
     },
     "execution_count": 55,
     "metadata": {},
     "output_type": "execute_result"
    }
   ],
   "source": [
    "result = []\n",
    "for x in map(clean_strings, cidades):\n",
    "    print(x)\n",
    "    result.append(x)\n",
    "\n",
    "result"
   ]
  },
  {
   "cell_type": "markdown",
   "metadata": {
    "pycharm": {
     "name": "#%% md\n"
    }
   },
   "source": [
    "## Módulos"
   ]
  },
  {
   "cell_type": "markdown",
   "metadata": {
    "pycharm": {
     "name": "#%% md\n"
    }
   },
   "source": [
    "Uma vantagem das funcões é a maneira como elas separam blocos de código do nosso programa principal. Ao usar nomes descritivos para as suas funcões, será bem mais fácil entender seu programa principal.\n",
    "\n",
    "Podemos dar um passo além e armazenar suas funcões em um arquivo separado chamado *módulo* e, então, *importar* esse módulo em seu programa principal.\n",
    "\n",
    "Uma instrucão *import* diz ao Python para deixar o código de um módulo disponível no arquivo de programa em execucão no momento.\n",
    "\n",
    "Armazenar suas funcões em um arquivo separado permite ocultar os detalhes do código de seu programa e se concentrar na lógica de nível mais alto. Também permite reutilizar funcões em muitos programas diferentes.\n",
    "\n",
    "Quando armazenamos funcoes em arquivos separados, podemos compartilhar esses arquivos com outros programadores sem a necessidade de compartilhar o programa todo.\n",
    "\n",
    "Saber como importar funcões também possibilita usar bibliotecas de funcões que outros programadores escreveram."
   ]
  },
  {
   "cell_type": "markdown",
   "metadata": {
    "pycharm": {
     "name": "#%% md\n"
    }
   },
   "source": [
    "### Importando um módulo\n",
    "\n",
    "Um módulo é um arquivo terminado em .py que contém o código que queremos importar para o nosso programa. Para fazermos isso, precisamos importar o módulo. Isso faz com o código e as variáveis do módulo importado fiquem disponíveis no novo programa que estamos criando.\n",
    "\n",
    "Para comecar a importar funcões, inicialmente precisamos criar um módulo. Vamos olhar o módulo pizza.py que criamos!"
   ]
  },
  {
   "cell_type": "code",
   "execution_count": 56,
   "metadata": {
    "pycharm": {
     "name": "#%%\n"
    }
   },
   "outputs": [
    {
     "name": "stdout",
     "output_type": "stream",
     "text": [
      "Vamos preparar uma pizza de tamanho grande com os seguintes ingredientes:\n",
      " -  mussarela\n",
      " -  presunto\n",
      " -  ovos\n",
      " -  cebola\n",
      "Já escolheu a sua pizza?\n"
     ]
    }
   ],
   "source": [
    "import pizza\n",
    "# import pizza * também importa todas as funcoes\n",
    "\n",
    "pizza.faz_pizza(\"grande\", [\"mussarela\", \"presunto\", \"ovos\", \"cebola\"])\n",
    "\n",
    "pizza.assa_pizza(False)"
   ]
  },
  {
   "cell_type": "markdown",
   "source": [
    "Podemos usar um alias (nome mais curto) para o nosso módulo"
   ],
   "metadata": {
    "collapsed": false,
    "pycharm": {
     "name": "#%% md\n"
    }
   }
  },
  {
   "cell_type": "code",
   "execution_count": 57,
   "outputs": [
    {
     "name": "stdout",
     "output_type": "stream",
     "text": [
      "Vamos preparar uma pizza de tamanho grande com os seguintes ingredientes:\n",
      " -  mussarela\n",
      " -  presunto\n",
      " -  ovos\n",
      " -  cebola\n",
      "A pizza vai ser assada!\n"
     ]
    }
   ],
   "source": [
    "import pizza as p\n",
    "p.faz_pizza(\"grande\", [\"mussarela\", \"presunto\", \"ovos\", \"cebola\"])\n",
    "\n",
    "p.assa_pizza(True)\n"
   ],
   "metadata": {
    "collapsed": false,
    "pycharm": {
     "name": "#%%\n"
    }
   }
  },
  {
   "cell_type": "markdown",
   "metadata": {
    "pycharm": {
     "name": "#%% md\n"
    }
   },
   "source": [
    "Quando o Python lê esse arquivo, a linha *import pizza* lhe diz para abrir o arquivo *pizza.py* e copiar todas as funcões dele para esse programa. Nós não vemos realmente o código sendo copiado entre os arquivos porque o Python faz isso internamente, à medida que o programa é executado. Tudo que precisamos saber é que agora qualquer funcão definida em *pizza.py* estará disponível aqui no nosso notebook aula03.ipynb\n",
    "\n",
    "Nesse primeiro jeito de importar módulos, onde só escrevemos o comando import seguido do nome do módulo, ele acaba deixando disponíveis todas as funcões do módulo disponíveis no nosso notebook."
   ]
  },
  {
   "cell_type": "markdown",
   "metadata": {
    "pycharm": {
     "name": "#%% md\n"
    }
   },
   "source": [
    "### Importando funcões específicas\n",
    "\n",
    "Podemos também importar somente uma funcão específica de um módulo. Nesse caso, a sintaxe é:"
   ]
  },
  {
   "cell_type": "code",
   "execution_count": 58,
   "metadata": {
    "pycharm": {
     "name": "#%%\n"
    }
   },
   "outputs": [
    {
     "name": "stdout",
     "output_type": "stream",
     "text": [
      "Vamos preparar uma pizza de tamanho grande com os seguintes ingredientes:\n",
      " -  peperoni\n",
      " -  mussarela\n"
     ]
    }
   ],
   "source": [
    "from pizza import faz_pizza\n",
    "\n",
    "pizza.faz_pizza(\"grande\", [\"peperoni\", \"mussarela\"])\n"
   ]
  },
  {
   "cell_type": "markdown",
   "metadata": {
    "pycharm": {
     "name": "#%% md\n"
    }
   },
   "source": [
    "Também podemos usar alias para o nome das funcões"
   ]
  },
  {
   "cell_type": "code",
   "execution_count": 59,
   "outputs": [
    {
     "name": "stdout",
     "output_type": "stream",
     "text": [
      "Vamos preparar uma pizza de tamanho grande com os seguintes ingredientes:\n",
      " -  peperoni\n",
      " -  mussarela\n",
      " -  orégano\n"
     ]
    }
   ],
   "source": [
    "from pizza import faz_pizza as fp\n",
    "\n",
    "fp(\"grande\", [\"peperoni\", \"mussarela\", \"orégano\"])"
   ],
   "metadata": {
    "collapsed": false,
    "pycharm": {
     "name": "#%%\n"
    }
   }
  },
  {
   "cell_type": "markdown",
   "source": [
    "Cuidado ao importar todas as funcões de um módulo, pricipalmente quando usarmos módulos maiores não escritos por nós!\n",
    "Pois, se o módulo importado por completo tiver funcoes com um nome existente em seu projeto, podemos ter resultados inesperados. O Python poderá ver várias funcões ou variáveis com o mesmo nome e, em vez de importar todas as funcões separadamente, ele vai sobrescrever elas!\n",
    "\n",
    "A melhor abordagem é importar as funcões que queremos ou o módulo que queremos usando a notacão de ponto. Isso resulta em um código mais fácil de ler e de entender."
   ],
   "metadata": {
    "collapsed": false,
    "pycharm": {
     "name": "#%% md\n"
    }
   }
  },
  {
   "cell_type": "markdown",
   "source": [
    "## O pacote Pandas\n",
    "\n",
    "![](../img/pandas.png)"
   ],
   "metadata": {
    "collapsed": false,
    "pycharm": {
     "name": "#%% md\n"
    }
   }
  },
  {
   "cell_type": "markdown",
   "source": [
    "A biblioteca Pandas foi construída com base na biblioteca NumPy, que é voltada para o processamento de alto desempenho de arrays (vetores), e no Matplotlip que é voltada para a visualização de dados. A documentacão da biblioteca está [aqui](https://pandas.pydata.org/docs/reference/index.html)"
   ],
   "metadata": {
    "collapsed": false,
    "pycharm": {
     "name": "#%% md\n"
    }
   }
  },
  {
   "cell_type": "markdown",
   "source": [
    "Nesta atividade prática vamos utilizar o conjunto de dados **Tips**. Este é um dataset que está disponível em inglês na biblioteca Seaborn do Python, mas que o Grupo de Estudos de Ciência de Dados das Pyladies São Paulo traduziu e fez a inserção da coluna tempo_permanencia. Além desta coluna, nosso dataset tem as seguintes colunas:\n",
    "\n",
    "* **total_conta**: valor gasto na refeição\n",
    "* **gorjeta**: valor dado como gorjeta\n",
    "* **genero**: feminino ou masculino\n",
    "* **fumante**: sim ou não\n",
    "* **dia**: dia da semana\n",
    "* **pessoas_mesa**: quantas pessoas havia em cada mesa\n",
    "* **tempo_permanencia**: tempo que as pessoas permaneceram no restaurante"
   ],
   "metadata": {
    "collapsed": false,
    "pycharm": {
     "name": "#%% md\n"
    }
   }
  },
  {
   "cell_type": "markdown",
   "source": [
    "## Problemas que mais resolvemos com o Pandas:\n",
    "- 1.Abrir tabelas no Python\n",
    "- 2.Explorar rapidamente os dados de tabelas\n",
    "- 3.Selecionar linhas e colunas\n",
    "- 4.Ordenar dados de acordo com uma ou mais colunas\n",
    "- 5.Criar e modificar colunas\n",
    "- 6.Summarizar e agregar colunas\n",
    "- 7.Juntar tabelas\n",
    "- 8.Salvar/exportar tabelas"
   ],
   "metadata": {
    "collapsed": false,
    "pycharm": {
     "name": "#%% md\n"
    }
   }
  },
  {
   "cell_type": "markdown",
   "source": [
    "### 1.Abrindo tabelas no Python com Pandas"
   ],
   "metadata": {
    "collapsed": false,
    "pycharm": {
     "name": "#%% md\n"
    }
   }
  },
  {
   "cell_type": "code",
   "execution_count": null,
   "outputs": [],
   "source": [
    "# !pip install pandas # se é a primeira vez que estamos usando o pacote,precisamos instalar ele"
   ],
   "metadata": {
    "collapsed": false,
    "pycharm": {
     "name": "#%%\n"
    }
   }
  },
  {
   "cell_type": "code",
   "execution_count": 60,
   "outputs": [],
   "source": [
    "# sempre que usamos o pandas, precisamos importar ele\n",
    "import pandas as pd # é a primeira vez que estamos usando o pacote,precisamos instalar eleé a primeira vez que estamos usando o pacote,precisamos instalar ele"
   ],
   "metadata": {
    "collapsed": false,
    "pycharm": {
     "name": "#%%\n"
    }
   }
  },
  {
   "cell_type": "code",
   "execution_count": 61,
   "outputs": [],
   "source": [
    "# versao mais simples do comando\n",
    "df = pd.read_csv('../dados/tips.csv')\n",
    "\n",
    "# df = pd.read_csv('tips.csv',\n",
    "#                  sep=',',\n",
    "#                  header=1, # header=None para tabelas sem cabecalho\n",
    "#                  names=['TotalConta', 'Gorjeta', 'Fumante', 'Dia', 'Horario',\n",
    "#                         'PessoasMesa', 'TempoPermanencia'])"
   ],
   "metadata": {
    "collapsed": false,
    "pycharm": {
     "name": "#%%\n"
    }
   }
  },
  {
   "cell_type": "code",
   "execution_count": 62,
   "outputs": [
    {
     "data": {
      "text/plain": "     total_conta  gorjeta     genero fumante  dia horario  pessoas_mesa  \\\n0          16.99     1.01   Feminino     nao  dom  jantar             2   \n1          10.34     1.66  Masculino     nao  dom  jantar             3   \n2          21.01     3.50  Masculino     nao  dom  jantar             3   \n3          23.68     3.31  Masculino     nao  dom  jantar             2   \n4          24.59     3.61   Feminino     nao  dom  jantar             4   \n..           ...      ...        ...     ...  ...     ...           ...   \n239        29.03     5.92  Masculino     nao  sab  jantar             3   \n240        27.18     2.00   Feminino     sim  sab  jantar             2   \n241        22.67     2.00  Masculino     sim  sab  jantar             2   \n242        17.82     1.75  Masculino     nao  sab  jantar             2   \n243        18.78     3.00   Feminino     nao  qui  jantar             2   \n\n     tempo_permanencia  \n0                   41  \n1                   40  \n2                   49  \n3                   43  \n4                   34  \n..                 ...  \n239                 40  \n240                 35  \n241                 30  \n242                 38  \n243                 40  \n\n[244 rows x 8 columns]",
      "text/html": "<div>\n<style scoped>\n    .dataframe tbody tr th:only-of-type {\n        vertical-align: middle;\n    }\n\n    .dataframe tbody tr th {\n        vertical-align: top;\n    }\n\n    .dataframe thead th {\n        text-align: right;\n    }\n</style>\n<table border=\"1\" class=\"dataframe\">\n  <thead>\n    <tr style=\"text-align: right;\">\n      <th></th>\n      <th>total_conta</th>\n      <th>gorjeta</th>\n      <th>genero</th>\n      <th>fumante</th>\n      <th>dia</th>\n      <th>horario</th>\n      <th>pessoas_mesa</th>\n      <th>tempo_permanencia</th>\n    </tr>\n  </thead>\n  <tbody>\n    <tr>\n      <th>0</th>\n      <td>16.99</td>\n      <td>1.01</td>\n      <td>Feminino</td>\n      <td>nao</td>\n      <td>dom</td>\n      <td>jantar</td>\n      <td>2</td>\n      <td>41</td>\n    </tr>\n    <tr>\n      <th>1</th>\n      <td>10.34</td>\n      <td>1.66</td>\n      <td>Masculino</td>\n      <td>nao</td>\n      <td>dom</td>\n      <td>jantar</td>\n      <td>3</td>\n      <td>40</td>\n    </tr>\n    <tr>\n      <th>2</th>\n      <td>21.01</td>\n      <td>3.50</td>\n      <td>Masculino</td>\n      <td>nao</td>\n      <td>dom</td>\n      <td>jantar</td>\n      <td>3</td>\n      <td>49</td>\n    </tr>\n    <tr>\n      <th>3</th>\n      <td>23.68</td>\n      <td>3.31</td>\n      <td>Masculino</td>\n      <td>nao</td>\n      <td>dom</td>\n      <td>jantar</td>\n      <td>2</td>\n      <td>43</td>\n    </tr>\n    <tr>\n      <th>4</th>\n      <td>24.59</td>\n      <td>3.61</td>\n      <td>Feminino</td>\n      <td>nao</td>\n      <td>dom</td>\n      <td>jantar</td>\n      <td>4</td>\n      <td>34</td>\n    </tr>\n    <tr>\n      <th>...</th>\n      <td>...</td>\n      <td>...</td>\n      <td>...</td>\n      <td>...</td>\n      <td>...</td>\n      <td>...</td>\n      <td>...</td>\n      <td>...</td>\n    </tr>\n    <tr>\n      <th>239</th>\n      <td>29.03</td>\n      <td>5.92</td>\n      <td>Masculino</td>\n      <td>nao</td>\n      <td>sab</td>\n      <td>jantar</td>\n      <td>3</td>\n      <td>40</td>\n    </tr>\n    <tr>\n      <th>240</th>\n      <td>27.18</td>\n      <td>2.00</td>\n      <td>Feminino</td>\n      <td>sim</td>\n      <td>sab</td>\n      <td>jantar</td>\n      <td>2</td>\n      <td>35</td>\n    </tr>\n    <tr>\n      <th>241</th>\n      <td>22.67</td>\n      <td>2.00</td>\n      <td>Masculino</td>\n      <td>sim</td>\n      <td>sab</td>\n      <td>jantar</td>\n      <td>2</td>\n      <td>30</td>\n    </tr>\n    <tr>\n      <th>242</th>\n      <td>17.82</td>\n      <td>1.75</td>\n      <td>Masculino</td>\n      <td>nao</td>\n      <td>sab</td>\n      <td>jantar</td>\n      <td>2</td>\n      <td>38</td>\n    </tr>\n    <tr>\n      <th>243</th>\n      <td>18.78</td>\n      <td>3.00</td>\n      <td>Feminino</td>\n      <td>nao</td>\n      <td>qui</td>\n      <td>jantar</td>\n      <td>2</td>\n      <td>40</td>\n    </tr>\n  </tbody>\n</table>\n<p>244 rows × 8 columns</p>\n</div>"
     },
     "execution_count": 62,
     "metadata": {},
     "output_type": "execute_result"
    }
   ],
   "source": [
    "df"
   ],
   "metadata": {
    "collapsed": false,
    "pycharm": {
     "name": "#%%\n"
    }
   }
  },
  {
   "cell_type": "markdown",
   "source": [
    "### 02.Explorar rapidamente os dados"
   ],
   "metadata": {
    "collapsed": false,
    "pycharm": {
     "name": "#%% md\n"
    }
   }
  },
  {
   "cell_type": "markdown",
   "source": [
    "Assim que importamos os nossos dados, sempre queremos ver se a importação funcionou corretamente e na sequência\n",
    "é comum queremos dar uma rápida espiada nos dados. Para isso podemos fazer o seguinte:"
   ],
   "metadata": {
    "collapsed": false,
    "pycharm": {
     "name": "#%% md\n"
    }
   }
  },
  {
   "cell_type": "code",
   "execution_count": 63,
   "outputs": [
    {
     "data": {
      "text/plain": "   total_conta  gorjeta     genero fumante  dia horario  pessoas_mesa  \\\n0        16.99     1.01   Feminino     nao  dom  jantar             2   \n1        10.34     1.66  Masculino     nao  dom  jantar             3   \n2        21.01     3.50  Masculino     nao  dom  jantar             3   \n3        23.68     3.31  Masculino     nao  dom  jantar             2   \n4        24.59     3.61   Feminino     nao  dom  jantar             4   \n\n   tempo_permanencia  \n0                 41  \n1                 40  \n2                 49  \n3                 43  \n4                 34  ",
      "text/html": "<div>\n<style scoped>\n    .dataframe tbody tr th:only-of-type {\n        vertical-align: middle;\n    }\n\n    .dataframe tbody tr th {\n        vertical-align: top;\n    }\n\n    .dataframe thead th {\n        text-align: right;\n    }\n</style>\n<table border=\"1\" class=\"dataframe\">\n  <thead>\n    <tr style=\"text-align: right;\">\n      <th></th>\n      <th>total_conta</th>\n      <th>gorjeta</th>\n      <th>genero</th>\n      <th>fumante</th>\n      <th>dia</th>\n      <th>horario</th>\n      <th>pessoas_mesa</th>\n      <th>tempo_permanencia</th>\n    </tr>\n  </thead>\n  <tbody>\n    <tr>\n      <th>0</th>\n      <td>16.99</td>\n      <td>1.01</td>\n      <td>Feminino</td>\n      <td>nao</td>\n      <td>dom</td>\n      <td>jantar</td>\n      <td>2</td>\n      <td>41</td>\n    </tr>\n    <tr>\n      <th>1</th>\n      <td>10.34</td>\n      <td>1.66</td>\n      <td>Masculino</td>\n      <td>nao</td>\n      <td>dom</td>\n      <td>jantar</td>\n      <td>3</td>\n      <td>40</td>\n    </tr>\n    <tr>\n      <th>2</th>\n      <td>21.01</td>\n      <td>3.50</td>\n      <td>Masculino</td>\n      <td>nao</td>\n      <td>dom</td>\n      <td>jantar</td>\n      <td>3</td>\n      <td>49</td>\n    </tr>\n    <tr>\n      <th>3</th>\n      <td>23.68</td>\n      <td>3.31</td>\n      <td>Masculino</td>\n      <td>nao</td>\n      <td>dom</td>\n      <td>jantar</td>\n      <td>2</td>\n      <td>43</td>\n    </tr>\n    <tr>\n      <th>4</th>\n      <td>24.59</td>\n      <td>3.61</td>\n      <td>Feminino</td>\n      <td>nao</td>\n      <td>dom</td>\n      <td>jantar</td>\n      <td>4</td>\n      <td>34</td>\n    </tr>\n  </tbody>\n</table>\n</div>"
     },
     "execution_count": 63,
     "metadata": {},
     "output_type": "execute_result"
    }
   ],
   "source": [
    "df.head() # mostra as primeiras linhas do df\n",
    "# df.tail() # mostra as ultimas linhas do df\n",
    "# df.sample() # sorteia uma amostra aleatória dos nossos dados"
   ],
   "metadata": {
    "collapsed": false,
    "pycharm": {
     "name": "#%%\n"
    }
   }
  },
  {
   "cell_type": "markdown",
   "source": [
    "Para o comando .sample() podemos fixar o resultado. Ou seja, sempre que rodarmos o código, vamos visualizar sempre os mesmos registros. Para fazer isso, basta colocar o parâmetro random_state (este valor deve ser um número inteiro).\n"
   ],
   "metadata": {
    "collapsed": false,
    "pycharm": {
     "name": "#%% md\n"
    }
   }
  },
  {
   "cell_type": "code",
   "execution_count": 64,
   "outputs": [
    {
     "data": {
      "text/plain": "     total_conta  gorjeta     genero fumante  dia horario  pessoas_mesa  \\\n81         16.66     3.40  Masculino     nao  qui  almoco             2   \n119        24.08     2.92   Feminino     nao  qui  almoco             4   \n48         28.55     2.05  Masculino     nao  dom  jantar             3   \n89         21.16     3.00  Masculino     nao  qui  almoco             2   \n132        11.17     1.50   Feminino     nao  qui  almoco             2   \n5          25.29     4.71  Masculino     nao  dom  jantar             4   \n12         15.42     1.57  Masculino     nao  dom  jantar             2   \n111         7.25     1.00   Feminino     nao  sab  jantar             1   \n26         13.37     2.00  Masculino     nao  sab  jantar             2   \n210        30.06     2.00  Masculino     sim  sab  jantar             3   \n227        20.45     3.00  Masculino     nao  sab  jantar             4   \n9          14.78     3.23  Masculino     nao  dom  jantar             2   \n\n     tempo_permanencia  \n81                  37  \n119                 35  \n48                  45  \n89                  37  \n132                 38  \n5                   39  \n12                  34  \n111                 37  \n26                  46  \n210                 37  \n227                 38  \n9                   41  ",
      "text/html": "<div>\n<style scoped>\n    .dataframe tbody tr th:only-of-type {\n        vertical-align: middle;\n    }\n\n    .dataframe tbody tr th {\n        vertical-align: top;\n    }\n\n    .dataframe thead th {\n        text-align: right;\n    }\n</style>\n<table border=\"1\" class=\"dataframe\">\n  <thead>\n    <tr style=\"text-align: right;\">\n      <th></th>\n      <th>total_conta</th>\n      <th>gorjeta</th>\n      <th>genero</th>\n      <th>fumante</th>\n      <th>dia</th>\n      <th>horario</th>\n      <th>pessoas_mesa</th>\n      <th>tempo_permanencia</th>\n    </tr>\n  </thead>\n  <tbody>\n    <tr>\n      <th>81</th>\n      <td>16.66</td>\n      <td>3.40</td>\n      <td>Masculino</td>\n      <td>nao</td>\n      <td>qui</td>\n      <td>almoco</td>\n      <td>2</td>\n      <td>37</td>\n    </tr>\n    <tr>\n      <th>119</th>\n      <td>24.08</td>\n      <td>2.92</td>\n      <td>Feminino</td>\n      <td>nao</td>\n      <td>qui</td>\n      <td>almoco</td>\n      <td>4</td>\n      <td>35</td>\n    </tr>\n    <tr>\n      <th>48</th>\n      <td>28.55</td>\n      <td>2.05</td>\n      <td>Masculino</td>\n      <td>nao</td>\n      <td>dom</td>\n      <td>jantar</td>\n      <td>3</td>\n      <td>45</td>\n    </tr>\n    <tr>\n      <th>89</th>\n      <td>21.16</td>\n      <td>3.00</td>\n      <td>Masculino</td>\n      <td>nao</td>\n      <td>qui</td>\n      <td>almoco</td>\n      <td>2</td>\n      <td>37</td>\n    </tr>\n    <tr>\n      <th>132</th>\n      <td>11.17</td>\n      <td>1.50</td>\n      <td>Feminino</td>\n      <td>nao</td>\n      <td>qui</td>\n      <td>almoco</td>\n      <td>2</td>\n      <td>38</td>\n    </tr>\n    <tr>\n      <th>5</th>\n      <td>25.29</td>\n      <td>4.71</td>\n      <td>Masculino</td>\n      <td>nao</td>\n      <td>dom</td>\n      <td>jantar</td>\n      <td>4</td>\n      <td>39</td>\n    </tr>\n    <tr>\n      <th>12</th>\n      <td>15.42</td>\n      <td>1.57</td>\n      <td>Masculino</td>\n      <td>nao</td>\n      <td>dom</td>\n      <td>jantar</td>\n      <td>2</td>\n      <td>34</td>\n    </tr>\n    <tr>\n      <th>111</th>\n      <td>7.25</td>\n      <td>1.00</td>\n      <td>Feminino</td>\n      <td>nao</td>\n      <td>sab</td>\n      <td>jantar</td>\n      <td>1</td>\n      <td>37</td>\n    </tr>\n    <tr>\n      <th>26</th>\n      <td>13.37</td>\n      <td>2.00</td>\n      <td>Masculino</td>\n      <td>nao</td>\n      <td>sab</td>\n      <td>jantar</td>\n      <td>2</td>\n      <td>46</td>\n    </tr>\n    <tr>\n      <th>210</th>\n      <td>30.06</td>\n      <td>2.00</td>\n      <td>Masculino</td>\n      <td>sim</td>\n      <td>sab</td>\n      <td>jantar</td>\n      <td>3</td>\n      <td>37</td>\n    </tr>\n    <tr>\n      <th>227</th>\n      <td>20.45</td>\n      <td>3.00</td>\n      <td>Masculino</td>\n      <td>nao</td>\n      <td>sab</td>\n      <td>jantar</td>\n      <td>4</td>\n      <td>38</td>\n    </tr>\n    <tr>\n      <th>9</th>\n      <td>14.78</td>\n      <td>3.23</td>\n      <td>Masculino</td>\n      <td>nao</td>\n      <td>dom</td>\n      <td>jantar</td>\n      <td>2</td>\n      <td>41</td>\n    </tr>\n  </tbody>\n</table>\n</div>"
     },
     "execution_count": 64,
     "metadata": {},
     "output_type": "execute_result"
    }
   ],
   "source": [
    "df.sample(frac =0.05, random_state = 46) # 5% dos dados\n"
   ],
   "metadata": {
    "collapsed": false,
    "pycharm": {
     "name": "#%%\n"
    }
   }
  },
  {
   "cell_type": "code",
   "execution_count": 65,
   "outputs": [
    {
     "name": "stdout",
     "output_type": "stream",
     "text": [
      "<class 'pandas.core.frame.DataFrame'>\n",
      "RangeIndex: 244 entries, 0 to 243\n",
      "Data columns (total 8 columns):\n",
      " #   Column             Non-Null Count  Dtype  \n",
      "---  ------             --------------  -----  \n",
      " 0   total_conta        244 non-null    float64\n",
      " 1   gorjeta            244 non-null    float64\n",
      " 2   genero             244 non-null    object \n",
      " 3   fumante            244 non-null    object \n",
      " 4   dia                244 non-null    object \n",
      " 5   horario            244 non-null    object \n",
      " 6   pessoas_mesa       244 non-null    int64  \n",
      " 7   tempo_permanencia  244 non-null    int64  \n",
      "dtypes: float64(2), int64(2), object(4)\n",
      "memory usage: 15.4+ KB\n"
     ]
    }
   ],
   "source": [
    "# Para sabermos as dimensões do nosso df e os tipos de variáveis que temos:\n",
    "df.info()"
   ],
   "metadata": {
    "collapsed": false,
    "pycharm": {
     "name": "#%%\n"
    }
   }
  },
  {
   "cell_type": "code",
   "execution_count": 66,
   "outputs": [
    {
     "data": {
      "text/plain": "       total_conta     gorjeta  pessoas_mesa  tempo_permanencia\ncount   244.000000  244.000000    244.000000         244.000000\nmean     19.785943    2.998279      2.569672          40.262295\nstd       8.902412    1.383638      0.951100           5.157285\nmin       3.070000    1.000000      1.000000          26.000000\n25%      13.347500    2.000000      2.000000          37.000000\n50%      17.795000    2.900000      2.000000          40.000000\n75%      24.127500    3.562500      3.000000          44.000000\nmax      50.810000   10.000000      6.000000          53.000000",
      "text/html": "<div>\n<style scoped>\n    .dataframe tbody tr th:only-of-type {\n        vertical-align: middle;\n    }\n\n    .dataframe tbody tr th {\n        vertical-align: top;\n    }\n\n    .dataframe thead th {\n        text-align: right;\n    }\n</style>\n<table border=\"1\" class=\"dataframe\">\n  <thead>\n    <tr style=\"text-align: right;\">\n      <th></th>\n      <th>total_conta</th>\n      <th>gorjeta</th>\n      <th>pessoas_mesa</th>\n      <th>tempo_permanencia</th>\n    </tr>\n  </thead>\n  <tbody>\n    <tr>\n      <th>count</th>\n      <td>244.000000</td>\n      <td>244.000000</td>\n      <td>244.000000</td>\n      <td>244.000000</td>\n    </tr>\n    <tr>\n      <th>mean</th>\n      <td>19.785943</td>\n      <td>2.998279</td>\n      <td>2.569672</td>\n      <td>40.262295</td>\n    </tr>\n    <tr>\n      <th>std</th>\n      <td>8.902412</td>\n      <td>1.383638</td>\n      <td>0.951100</td>\n      <td>5.157285</td>\n    </tr>\n    <tr>\n      <th>min</th>\n      <td>3.070000</td>\n      <td>1.000000</td>\n      <td>1.000000</td>\n      <td>26.000000</td>\n    </tr>\n    <tr>\n      <th>25%</th>\n      <td>13.347500</td>\n      <td>2.000000</td>\n      <td>2.000000</td>\n      <td>37.000000</td>\n    </tr>\n    <tr>\n      <th>50%</th>\n      <td>17.795000</td>\n      <td>2.900000</td>\n      <td>2.000000</td>\n      <td>40.000000</td>\n    </tr>\n    <tr>\n      <th>75%</th>\n      <td>24.127500</td>\n      <td>3.562500</td>\n      <td>3.000000</td>\n      <td>44.000000</td>\n    </tr>\n    <tr>\n      <th>max</th>\n      <td>50.810000</td>\n      <td>10.000000</td>\n      <td>6.000000</td>\n      <td>53.000000</td>\n    </tr>\n  </tbody>\n</table>\n</div>"
     },
     "execution_count": 66,
     "metadata": {},
     "output_type": "execute_result"
    }
   ],
   "source": [
    "# Se quisermos obter um resumo estatístico dos nossos dados, como percentil, média, desvio padrão, etc:\n",
    "df.describe() # ou df.shape"
   ],
   "metadata": {
    "collapsed": false,
    "pycharm": {
     "name": "#%%\n"
    }
   }
  },
  {
   "cell_type": "code",
   "execution_count": 67,
   "outputs": [
    {
     "data": {
      "text/plain": "Masculino    157\nFeminino      87\nName: genero, dtype: int64"
     },
     "execution_count": 67,
     "metadata": {},
     "output_type": "execute_result"
    }
   ],
   "source": [
    "# Para retornar o número de valores únicos\n",
    "# df.nunique() # n valores unicos\n",
    "df['genero'].value_counts() # freq absoluta"
   ],
   "metadata": {
    "collapsed": false,
    "pycharm": {
     "name": "#%%\n"
    }
   }
  },
  {
   "cell_type": "code",
   "execution_count": 68,
   "outputs": [],
   "source": [
    "# Transforma dado em categoria\n",
    "df['genero'] = df['genero'].astype('category')"
   ],
   "metadata": {
    "collapsed": false,
    "pycharm": {
     "name": "#%%\n"
    }
   }
  },
  {
   "cell_type": "code",
   "execution_count": 69,
   "outputs": [
    {
     "data": {
      "text/plain": "total_conta          0\ngorjeta              0\ngenero               0\nfumante              0\ndia                  0\nhorario              0\npessoas_mesa         0\ntempo_permanencia    0\ndtype: int64"
     },
     "execution_count": 69,
     "metadata": {},
     "output_type": "execute_result"
    }
   ],
   "source": [
    "# Lidando com valores ausentes\n",
    "# Total de valores ausentes por coluna\n",
    "df.isna().sum()"
   ],
   "metadata": {
    "collapsed": false,
    "pycharm": {
     "name": "#%%\n"
    }
   }
  },
  {
   "cell_type": "code",
   "execution_count": 70,
   "outputs": [
    {
     "data": {
      "text/plain": "     total_conta  gorjeta     genero fumante  dia horario  pessoas_mesa  \\\n0          16.99     1.01   Feminino     nao  dom  jantar             2   \n1          10.34     1.66  Masculino     nao  dom  jantar             3   \n2          21.01     3.50  Masculino     nao  dom  jantar             3   \n3          23.68     3.31  Masculino     nao  dom  jantar             2   \n4          24.59     3.61   Feminino     nao  dom  jantar             4   \n..           ...      ...        ...     ...  ...     ...           ...   \n239        29.03     5.92  Masculino     nao  sab  jantar             3   \n240        27.18     2.00   Feminino     sim  sab  jantar             2   \n241        22.67     2.00  Masculino     sim  sab  jantar             2   \n242        17.82     1.75  Masculino     nao  sab  jantar             2   \n243        18.78     3.00   Feminino     nao  qui  jantar             2   \n\n     tempo_permanencia  \n0                   41  \n1                   40  \n2                   49  \n3                   43  \n4                   34  \n..                 ...  \n239                 40  \n240                 35  \n241                 30  \n242                 38  \n243                 40  \n\n[244 rows x 8 columns]",
      "text/html": "<div>\n<style scoped>\n    .dataframe tbody tr th:only-of-type {\n        vertical-align: middle;\n    }\n\n    .dataframe tbody tr th {\n        vertical-align: top;\n    }\n\n    .dataframe thead th {\n        text-align: right;\n    }\n</style>\n<table border=\"1\" class=\"dataframe\">\n  <thead>\n    <tr style=\"text-align: right;\">\n      <th></th>\n      <th>total_conta</th>\n      <th>gorjeta</th>\n      <th>genero</th>\n      <th>fumante</th>\n      <th>dia</th>\n      <th>horario</th>\n      <th>pessoas_mesa</th>\n      <th>tempo_permanencia</th>\n    </tr>\n  </thead>\n  <tbody>\n    <tr>\n      <th>0</th>\n      <td>16.99</td>\n      <td>1.01</td>\n      <td>Feminino</td>\n      <td>nao</td>\n      <td>dom</td>\n      <td>jantar</td>\n      <td>2</td>\n      <td>41</td>\n    </tr>\n    <tr>\n      <th>1</th>\n      <td>10.34</td>\n      <td>1.66</td>\n      <td>Masculino</td>\n      <td>nao</td>\n      <td>dom</td>\n      <td>jantar</td>\n      <td>3</td>\n      <td>40</td>\n    </tr>\n    <tr>\n      <th>2</th>\n      <td>21.01</td>\n      <td>3.50</td>\n      <td>Masculino</td>\n      <td>nao</td>\n      <td>dom</td>\n      <td>jantar</td>\n      <td>3</td>\n      <td>49</td>\n    </tr>\n    <tr>\n      <th>3</th>\n      <td>23.68</td>\n      <td>3.31</td>\n      <td>Masculino</td>\n      <td>nao</td>\n      <td>dom</td>\n      <td>jantar</td>\n      <td>2</td>\n      <td>43</td>\n    </tr>\n    <tr>\n      <th>4</th>\n      <td>24.59</td>\n      <td>3.61</td>\n      <td>Feminino</td>\n      <td>nao</td>\n      <td>dom</td>\n      <td>jantar</td>\n      <td>4</td>\n      <td>34</td>\n    </tr>\n    <tr>\n      <th>...</th>\n      <td>...</td>\n      <td>...</td>\n      <td>...</td>\n      <td>...</td>\n      <td>...</td>\n      <td>...</td>\n      <td>...</td>\n      <td>...</td>\n    </tr>\n    <tr>\n      <th>239</th>\n      <td>29.03</td>\n      <td>5.92</td>\n      <td>Masculino</td>\n      <td>nao</td>\n      <td>sab</td>\n      <td>jantar</td>\n      <td>3</td>\n      <td>40</td>\n    </tr>\n    <tr>\n      <th>240</th>\n      <td>27.18</td>\n      <td>2.00</td>\n      <td>Feminino</td>\n      <td>sim</td>\n      <td>sab</td>\n      <td>jantar</td>\n      <td>2</td>\n      <td>35</td>\n    </tr>\n    <tr>\n      <th>241</th>\n      <td>22.67</td>\n      <td>2.00</td>\n      <td>Masculino</td>\n      <td>sim</td>\n      <td>sab</td>\n      <td>jantar</td>\n      <td>2</td>\n      <td>30</td>\n    </tr>\n    <tr>\n      <th>242</th>\n      <td>17.82</td>\n      <td>1.75</td>\n      <td>Masculino</td>\n      <td>nao</td>\n      <td>sab</td>\n      <td>jantar</td>\n      <td>2</td>\n      <td>38</td>\n    </tr>\n    <tr>\n      <th>243</th>\n      <td>18.78</td>\n      <td>3.00</td>\n      <td>Feminino</td>\n      <td>nao</td>\n      <td>qui</td>\n      <td>jantar</td>\n      <td>2</td>\n      <td>40</td>\n    </tr>\n  </tbody>\n</table>\n<p>244 rows × 8 columns</p>\n</div>"
     },
     "execution_count": 70,
     "metadata": {},
     "output_type": "execute_result"
    }
   ],
   "source": [
    "# Podemos remover valores missing ou\n",
    "df.dropna()"
   ],
   "metadata": {
    "collapsed": false,
    "pycharm": {
     "name": "#%%\n"
    }
   }
  },
  {
   "cell_type": "code",
   "execution_count": 71,
   "outputs": [
    {
     "data": {
      "text/plain": "     total_conta  gorjeta     genero fumante  dia horario  pessoas_mesa  \\\n0          16.99     1.01   Feminino     nao  dom  jantar             2   \n1          10.34     1.66  Masculino     nao  dom  jantar             3   \n2          21.01     3.50  Masculino     nao  dom  jantar             3   \n3          23.68     3.31  Masculino     nao  dom  jantar             2   \n4          24.59     3.61   Feminino     nao  dom  jantar             4   \n..           ...      ...        ...     ...  ...     ...           ...   \n239        29.03     5.92  Masculino     nao  sab  jantar             3   \n240        27.18     2.00   Feminino     sim  sab  jantar             2   \n241        22.67     2.00  Masculino     sim  sab  jantar             2   \n242        17.82     1.75  Masculino     nao  sab  jantar             2   \n243        18.78     3.00   Feminino     nao  qui  jantar             2   \n\n     tempo_permanencia  \n0                   41  \n1                   40  \n2                   49  \n3                   43  \n4                   34  \n..                 ...  \n239                 40  \n240                 35  \n241                 30  \n242                 38  \n243                 40  \n\n[244 rows x 8 columns]",
      "text/html": "<div>\n<style scoped>\n    .dataframe tbody tr th:only-of-type {\n        vertical-align: middle;\n    }\n\n    .dataframe tbody tr th {\n        vertical-align: top;\n    }\n\n    .dataframe thead th {\n        text-align: right;\n    }\n</style>\n<table border=\"1\" class=\"dataframe\">\n  <thead>\n    <tr style=\"text-align: right;\">\n      <th></th>\n      <th>total_conta</th>\n      <th>gorjeta</th>\n      <th>genero</th>\n      <th>fumante</th>\n      <th>dia</th>\n      <th>horario</th>\n      <th>pessoas_mesa</th>\n      <th>tempo_permanencia</th>\n    </tr>\n  </thead>\n  <tbody>\n    <tr>\n      <th>0</th>\n      <td>16.99</td>\n      <td>1.01</td>\n      <td>Feminino</td>\n      <td>nao</td>\n      <td>dom</td>\n      <td>jantar</td>\n      <td>2</td>\n      <td>41</td>\n    </tr>\n    <tr>\n      <th>1</th>\n      <td>10.34</td>\n      <td>1.66</td>\n      <td>Masculino</td>\n      <td>nao</td>\n      <td>dom</td>\n      <td>jantar</td>\n      <td>3</td>\n      <td>40</td>\n    </tr>\n    <tr>\n      <th>2</th>\n      <td>21.01</td>\n      <td>3.50</td>\n      <td>Masculino</td>\n      <td>nao</td>\n      <td>dom</td>\n      <td>jantar</td>\n      <td>3</td>\n      <td>49</td>\n    </tr>\n    <tr>\n      <th>3</th>\n      <td>23.68</td>\n      <td>3.31</td>\n      <td>Masculino</td>\n      <td>nao</td>\n      <td>dom</td>\n      <td>jantar</td>\n      <td>2</td>\n      <td>43</td>\n    </tr>\n    <tr>\n      <th>4</th>\n      <td>24.59</td>\n      <td>3.61</td>\n      <td>Feminino</td>\n      <td>nao</td>\n      <td>dom</td>\n      <td>jantar</td>\n      <td>4</td>\n      <td>34</td>\n    </tr>\n    <tr>\n      <th>...</th>\n      <td>...</td>\n      <td>...</td>\n      <td>...</td>\n      <td>...</td>\n      <td>...</td>\n      <td>...</td>\n      <td>...</td>\n      <td>...</td>\n    </tr>\n    <tr>\n      <th>239</th>\n      <td>29.03</td>\n      <td>5.92</td>\n      <td>Masculino</td>\n      <td>nao</td>\n      <td>sab</td>\n      <td>jantar</td>\n      <td>3</td>\n      <td>40</td>\n    </tr>\n    <tr>\n      <th>240</th>\n      <td>27.18</td>\n      <td>2.00</td>\n      <td>Feminino</td>\n      <td>sim</td>\n      <td>sab</td>\n      <td>jantar</td>\n      <td>2</td>\n      <td>35</td>\n    </tr>\n    <tr>\n      <th>241</th>\n      <td>22.67</td>\n      <td>2.00</td>\n      <td>Masculino</td>\n      <td>sim</td>\n      <td>sab</td>\n      <td>jantar</td>\n      <td>2</td>\n      <td>30</td>\n    </tr>\n    <tr>\n      <th>242</th>\n      <td>17.82</td>\n      <td>1.75</td>\n      <td>Masculino</td>\n      <td>nao</td>\n      <td>sab</td>\n      <td>jantar</td>\n      <td>2</td>\n      <td>38</td>\n    </tr>\n    <tr>\n      <th>243</th>\n      <td>18.78</td>\n      <td>3.00</td>\n      <td>Feminino</td>\n      <td>nao</td>\n      <td>qui</td>\n      <td>jantar</td>\n      <td>2</td>\n      <td>40</td>\n    </tr>\n  </tbody>\n</table>\n<p>244 rows × 8 columns</p>\n</div>"
     },
     "execution_count": 71,
     "metadata": {},
     "output_type": "execute_result"
    }
   ],
   "source": [
    "# substituir os valores ausentes, no caso abaixo com 0:\n",
    "df.fillna(0) # 0 e NA podem ser coisas diferentes"
   ],
   "metadata": {
    "collapsed": false,
    "pycharm": {
     "name": "#%%\n"
    }
   }
  },
  {
   "cell_type": "markdown",
   "source": [
    "### 3.Selecionar linhas e colunas\n",
    "\n",
    "Há várias estratégias que podemos usar para selecionar linhas e colunas. Vamos ver algumas delas, porém vamos comentar sobre o conceito de index."
   ],
   "metadata": {
    "collapsed": false,
    "pycharm": {
     "name": "#%% md\n"
    }
   }
  },
  {
   "cell_type": "code",
   "execution_count": 72,
   "outputs": [
    {
     "data": {
      "text/plain": "Index(['total_conta', 'gorjeta', 'genero', 'fumante', 'dia', 'horario',\n       'pessoas_mesa', 'tempo_permanencia'],\n      dtype='object')"
     },
     "execution_count": 72,
     "metadata": {},
     "output_type": "execute_result"
    }
   ],
   "source": [
    "# Lista as colunas do dataset\n",
    "df.columns"
   ],
   "metadata": {
    "collapsed": false,
    "pycharm": {
     "name": "#%%\n"
    }
   }
  },
  {
   "cell_type": "code",
   "execution_count": 73,
   "outputs": [
    {
     "data": {
      "text/plain": "RangeIndex(start=0, stop=244, step=1)"
     },
     "execution_count": 73,
     "metadata": {},
     "output_type": "execute_result"
    }
   ],
   "source": [
    "# Lista os índices do dataset\n",
    "df.index"
   ],
   "metadata": {
    "collapsed": false,
    "pycharm": {
     "name": "#%%\n"
    }
   }
  },
  {
   "cell_type": "code",
   "execution_count": 77,
   "outputs": [
    {
     "data": {
      "text/plain": "   month  year  sale\n0      1  2012    55\n1      4  2014    40\n2      7  2013    84\n3     10  2014    31",
      "text/html": "<div>\n<style scoped>\n    .dataframe tbody tr th:only-of-type {\n        vertical-align: middle;\n    }\n\n    .dataframe tbody tr th {\n        vertical-align: top;\n    }\n\n    .dataframe thead th {\n        text-align: right;\n    }\n</style>\n<table border=\"1\" class=\"dataframe\">\n  <thead>\n    <tr style=\"text-align: right;\">\n      <th></th>\n      <th>month</th>\n      <th>year</th>\n      <th>sale</th>\n    </tr>\n  </thead>\n  <tbody>\n    <tr>\n      <th>0</th>\n      <td>1</td>\n      <td>2012</td>\n      <td>55</td>\n    </tr>\n    <tr>\n      <th>1</th>\n      <td>4</td>\n      <td>2014</td>\n      <td>40</td>\n    </tr>\n    <tr>\n      <th>2</th>\n      <td>7</td>\n      <td>2013</td>\n      <td>84</td>\n    </tr>\n    <tr>\n      <th>3</th>\n      <td>10</td>\n      <td>2014</td>\n      <td>31</td>\n    </tr>\n  </tbody>\n</table>\n</div>"
     },
     "execution_count": 77,
     "metadata": {},
     "output_type": "execute_result"
    }
   ],
   "source": [
    "# Configurar uma coluna como índice\n",
    "df_index = pd.DataFrame({'month': [1, 4, 7, 10],\n",
    "                   'year': [2012, 2014, 2013, 2014],\n",
    "                   'sale': [55, 40, 84, 31]})\n",
    "\n",
    "df_index"
   ],
   "metadata": {
    "collapsed": false,
    "pycharm": {
     "name": "#%%\n"
    }
   }
  },
  {
   "cell_type": "code",
   "execution_count": 81,
   "outputs": [
    {
     "data": {
      "text/plain": "       year  sale\nmonth            \n1      2012    55\n4      2014    40\n7      2013    84\n10     2014    31",
      "text/html": "<div>\n<style scoped>\n    .dataframe tbody tr th:only-of-type {\n        vertical-align: middle;\n    }\n\n    .dataframe tbody tr th {\n        vertical-align: top;\n    }\n\n    .dataframe thead th {\n        text-align: right;\n    }\n</style>\n<table border=\"1\" class=\"dataframe\">\n  <thead>\n    <tr style=\"text-align: right;\">\n      <th></th>\n      <th>year</th>\n      <th>sale</th>\n    </tr>\n    <tr>\n      <th>month</th>\n      <th></th>\n      <th></th>\n    </tr>\n  </thead>\n  <tbody>\n    <tr>\n      <th>1</th>\n      <td>2012</td>\n      <td>55</td>\n    </tr>\n    <tr>\n      <th>4</th>\n      <td>2014</td>\n      <td>40</td>\n    </tr>\n    <tr>\n      <th>7</th>\n      <td>2013</td>\n      <td>84</td>\n    </tr>\n    <tr>\n      <th>10</th>\n      <td>2014</td>\n      <td>31</td>\n    </tr>\n  </tbody>\n</table>\n</div>"
     },
     "execution_count": 81,
     "metadata": {},
     "output_type": "execute_result"
    }
   ],
   "source": [
    "df_index = df_index.set_index('month')\n",
    "df_index"
   ],
   "metadata": {
    "collapsed": false,
    "pycharm": {
     "name": "#%%\n"
    }
   }
  },
  {
   "cell_type": "code",
   "execution_count": 84,
   "outputs": [
    {
     "data": {
      "text/plain": "   month  year  sale\n0      1  2012    55\n1      4  2014    40\n2      7  2013    84\n3     10  2014    31",
      "text/html": "<div>\n<style scoped>\n    .dataframe tbody tr th:only-of-type {\n        vertical-align: middle;\n    }\n\n    .dataframe tbody tr th {\n        vertical-align: top;\n    }\n\n    .dataframe thead th {\n        text-align: right;\n    }\n</style>\n<table border=\"1\" class=\"dataframe\">\n  <thead>\n    <tr style=\"text-align: right;\">\n      <th></th>\n      <th>month</th>\n      <th>year</th>\n      <th>sale</th>\n    </tr>\n  </thead>\n  <tbody>\n    <tr>\n      <th>0</th>\n      <td>1</td>\n      <td>2012</td>\n      <td>55</td>\n    </tr>\n    <tr>\n      <th>1</th>\n      <td>4</td>\n      <td>2014</td>\n      <td>40</td>\n    </tr>\n    <tr>\n      <th>2</th>\n      <td>7</td>\n      <td>2013</td>\n      <td>84</td>\n    </tr>\n    <tr>\n      <th>3</th>\n      <td>10</td>\n      <td>2014</td>\n      <td>31</td>\n    </tr>\n  </tbody>\n</table>\n</div>"
     },
     "execution_count": 84,
     "metadata": {},
     "output_type": "execute_result"
    }
   ],
   "source": [
    "# Removendo índice\n",
    "df_index.reset_index()\n",
    "# df_index = df_index.reset_index()\n",
    "# df_index"
   ],
   "metadata": {
    "collapsed": false,
    "pycharm": {
     "name": "#%%\n"
    }
   }
  },
  {
   "cell_type": "markdown",
   "source": [
    "Há vários jeitos de se fazer essa operação, porém dois comandos famosos são: **loc** e **iloc**. Vamos ver o loc primeiro."
   ],
   "metadata": {
    "collapsed": false,
    "pycharm": {
     "name": "#%% md\n"
    }
   }
  },
  {
   "cell_type": "code",
   "execution_count": 85,
   "outputs": [
    {
     "data": {
      "text/plain": "total_conta              25.29\ngorjeta                   4.71\ngenero               Masculino\nfumante                    nao\ndia                        dom\nhorario                 jantar\npessoas_mesa                 4\ntempo_permanencia           39\nName: 5, dtype: object"
     },
     "execution_count": 85,
     "metadata": {},
     "output_type": "execute_result"
    }
   ],
   "source": [
    "# podemos chamar uma linha pelo seu índice\n",
    "df.loc[5]"
   ],
   "metadata": {
    "collapsed": false,
    "pycharm": {
     "name": "#%%\n"
    }
   }
  },
  {
   "cell_type": "code",
   "execution_count": 86,
   "outputs": [
    {
     "data": {
      "text/plain": "   total_conta  gorjeta     genero fumante  dia horario  pessoas_mesa  \\\n0        16.99     1.01   Feminino     nao  dom  jantar             2   \n1        10.34     1.66  Masculino     nao  dom  jantar             3   \n2        21.01     3.50  Masculino     nao  dom  jantar             3   \n\n   tempo_permanencia  \n0                 41  \n1                 40  \n2                 49  ",
      "text/html": "<div>\n<style scoped>\n    .dataframe tbody tr th:only-of-type {\n        vertical-align: middle;\n    }\n\n    .dataframe tbody tr th {\n        vertical-align: top;\n    }\n\n    .dataframe thead th {\n        text-align: right;\n    }\n</style>\n<table border=\"1\" class=\"dataframe\">\n  <thead>\n    <tr style=\"text-align: right;\">\n      <th></th>\n      <th>total_conta</th>\n      <th>gorjeta</th>\n      <th>genero</th>\n      <th>fumante</th>\n      <th>dia</th>\n      <th>horario</th>\n      <th>pessoas_mesa</th>\n      <th>tempo_permanencia</th>\n    </tr>\n  </thead>\n  <tbody>\n    <tr>\n      <th>0</th>\n      <td>16.99</td>\n      <td>1.01</td>\n      <td>Feminino</td>\n      <td>nao</td>\n      <td>dom</td>\n      <td>jantar</td>\n      <td>2</td>\n      <td>41</td>\n    </tr>\n    <tr>\n      <th>1</th>\n      <td>10.34</td>\n      <td>1.66</td>\n      <td>Masculino</td>\n      <td>nao</td>\n      <td>dom</td>\n      <td>jantar</td>\n      <td>3</td>\n      <td>40</td>\n    </tr>\n    <tr>\n      <th>2</th>\n      <td>21.01</td>\n      <td>3.50</td>\n      <td>Masculino</td>\n      <td>nao</td>\n      <td>dom</td>\n      <td>jantar</td>\n      <td>3</td>\n      <td>49</td>\n    </tr>\n  </tbody>\n</table>\n</div>"
     },
     "execution_count": 86,
     "metadata": {},
     "output_type": "execute_result"
    }
   ],
   "source": [
    "# ou com um array de índices\n",
    "df.loc[[0,1,2]]"
   ],
   "metadata": {
    "collapsed": false,
    "pycharm": {
     "name": "#%%\n"
    }
   }
  },
  {
   "cell_type": "code",
   "execution_count": 88,
   "outputs": [
    {
     "data": {
      "text/plain": "   total_conta  gorjeta     genero fumante  dia horario  pessoas_mesa  \\\n4        24.59     3.61   Feminino     nao  dom  jantar             4   \n5        25.29     4.71  Masculino     nao  dom  jantar             4   \n6         8.77     2.00  Masculino     nao  dom  jantar             2   \n7        26.88     3.12  Masculino     nao  dom  jantar             4   \n8        15.04     1.96  Masculino     nao  dom  jantar             2   \n\n   tempo_permanencia  \n4                 34  \n5                 39  \n6                 41  \n7                 31  \n8                 35  ",
      "text/html": "<div>\n<style scoped>\n    .dataframe tbody tr th:only-of-type {\n        vertical-align: middle;\n    }\n\n    .dataframe tbody tr th {\n        vertical-align: top;\n    }\n\n    .dataframe thead th {\n        text-align: right;\n    }\n</style>\n<table border=\"1\" class=\"dataframe\">\n  <thead>\n    <tr style=\"text-align: right;\">\n      <th></th>\n      <th>total_conta</th>\n      <th>gorjeta</th>\n      <th>genero</th>\n      <th>fumante</th>\n      <th>dia</th>\n      <th>horario</th>\n      <th>pessoas_mesa</th>\n      <th>tempo_permanencia</th>\n    </tr>\n  </thead>\n  <tbody>\n    <tr>\n      <th>4</th>\n      <td>24.59</td>\n      <td>3.61</td>\n      <td>Feminino</td>\n      <td>nao</td>\n      <td>dom</td>\n      <td>jantar</td>\n      <td>4</td>\n      <td>34</td>\n    </tr>\n    <tr>\n      <th>5</th>\n      <td>25.29</td>\n      <td>4.71</td>\n      <td>Masculino</td>\n      <td>nao</td>\n      <td>dom</td>\n      <td>jantar</td>\n      <td>4</td>\n      <td>39</td>\n    </tr>\n    <tr>\n      <th>6</th>\n      <td>8.77</td>\n      <td>2.00</td>\n      <td>Masculino</td>\n      <td>nao</td>\n      <td>dom</td>\n      <td>jantar</td>\n      <td>2</td>\n      <td>41</td>\n    </tr>\n    <tr>\n      <th>7</th>\n      <td>26.88</td>\n      <td>3.12</td>\n      <td>Masculino</td>\n      <td>nao</td>\n      <td>dom</td>\n      <td>jantar</td>\n      <td>4</td>\n      <td>31</td>\n    </tr>\n    <tr>\n      <th>8</th>\n      <td>15.04</td>\n      <td>1.96</td>\n      <td>Masculino</td>\n      <td>nao</td>\n      <td>dom</td>\n      <td>jantar</td>\n      <td>2</td>\n      <td>35</td>\n    </tr>\n  </tbody>\n</table>\n</div>"
     },
     "execution_count": 88,
     "metadata": {},
     "output_type": "execute_result"
    }
   ],
   "source": [
    "# uma fatia, do quarto ao oitavo elemento\n",
    "df.loc[4:8] # aqui o intervalo inclui o ultimo numero"
   ],
   "metadata": {
    "collapsed": false,
    "pycharm": {
     "name": "#%%\n"
    }
   }
  },
  {
   "cell_type": "markdown",
   "source": [
    "Também podemos combinar operadores lógicos para chegar no resultado que queremos."
   ],
   "metadata": {
    "collapsed": false,
    "pycharm": {
     "name": "#%% md\n"
    }
   }
  },
  {
   "cell_type": "code",
   "execution_count": 89,
   "outputs": [
    {
     "data": {
      "text/plain": "     total_conta  gorjeta     genero fumante  dia horario  pessoas_mesa  \\\n22         15.77     2.23   Feminino     nao  sab  jantar             2   \n127        14.52     2.00   Feminino     nao  qui  almoco             2   \n148         9.78     1.73  Masculino     nao  qui  almoco             2   \n185        20.69     5.00  Masculino     nao  dom  jantar             5   \n203        16.40     2.50   Feminino     sim  qui  almoco             2   \n225        16.27     2.50   Feminino     sim  sex  almoco             2   \n226        10.09     2.00   Feminino     sim  sex  almoco             2   \n234        15.53     3.00  Masculino     sim  sab  jantar             2   \n236        12.60     1.00  Masculino     sim  sab  jantar             2   \n\n     tempo_permanencia  \n22                  50  \n127                 52  \n148                 50  \n185                 50  \n203                 53  \n225                 50  \n226                 51  \n234                 52  \n236                 50  ",
      "text/html": "<div>\n<style scoped>\n    .dataframe tbody tr th:only-of-type {\n        vertical-align: middle;\n    }\n\n    .dataframe tbody tr th {\n        vertical-align: top;\n    }\n\n    .dataframe thead th {\n        text-align: right;\n    }\n</style>\n<table border=\"1\" class=\"dataframe\">\n  <thead>\n    <tr style=\"text-align: right;\">\n      <th></th>\n      <th>total_conta</th>\n      <th>gorjeta</th>\n      <th>genero</th>\n      <th>fumante</th>\n      <th>dia</th>\n      <th>horario</th>\n      <th>pessoas_mesa</th>\n      <th>tempo_permanencia</th>\n    </tr>\n  </thead>\n  <tbody>\n    <tr>\n      <th>22</th>\n      <td>15.77</td>\n      <td>2.23</td>\n      <td>Feminino</td>\n      <td>nao</td>\n      <td>sab</td>\n      <td>jantar</td>\n      <td>2</td>\n      <td>50</td>\n    </tr>\n    <tr>\n      <th>127</th>\n      <td>14.52</td>\n      <td>2.00</td>\n      <td>Feminino</td>\n      <td>nao</td>\n      <td>qui</td>\n      <td>almoco</td>\n      <td>2</td>\n      <td>52</td>\n    </tr>\n    <tr>\n      <th>148</th>\n      <td>9.78</td>\n      <td>1.73</td>\n      <td>Masculino</td>\n      <td>nao</td>\n      <td>qui</td>\n      <td>almoco</td>\n      <td>2</td>\n      <td>50</td>\n    </tr>\n    <tr>\n      <th>185</th>\n      <td>20.69</td>\n      <td>5.00</td>\n      <td>Masculino</td>\n      <td>nao</td>\n      <td>dom</td>\n      <td>jantar</td>\n      <td>5</td>\n      <td>50</td>\n    </tr>\n    <tr>\n      <th>203</th>\n      <td>16.40</td>\n      <td>2.50</td>\n      <td>Feminino</td>\n      <td>sim</td>\n      <td>qui</td>\n      <td>almoco</td>\n      <td>2</td>\n      <td>53</td>\n    </tr>\n    <tr>\n      <th>225</th>\n      <td>16.27</td>\n      <td>2.50</td>\n      <td>Feminino</td>\n      <td>sim</td>\n      <td>sex</td>\n      <td>almoco</td>\n      <td>2</td>\n      <td>50</td>\n    </tr>\n    <tr>\n      <th>226</th>\n      <td>10.09</td>\n      <td>2.00</td>\n      <td>Feminino</td>\n      <td>sim</td>\n      <td>sex</td>\n      <td>almoco</td>\n      <td>2</td>\n      <td>51</td>\n    </tr>\n    <tr>\n      <th>234</th>\n      <td>15.53</td>\n      <td>3.00</td>\n      <td>Masculino</td>\n      <td>sim</td>\n      <td>sab</td>\n      <td>jantar</td>\n      <td>2</td>\n      <td>52</td>\n    </tr>\n    <tr>\n      <th>236</th>\n      <td>12.60</td>\n      <td>1.00</td>\n      <td>Masculino</td>\n      <td>sim</td>\n      <td>sab</td>\n      <td>jantar</td>\n      <td>2</td>\n      <td>50</td>\n    </tr>\n  </tbody>\n</table>\n</div>"
     },
     "execution_count": 89,
     "metadata": {},
     "output_type": "execute_result"
    }
   ],
   "source": [
    "# vamos selecionar as entradas cujo *tempo_permanencia* seja maior de 50 minutos.\n",
    "df.loc[(df['tempo_permanencia']) >= 50]"
   ],
   "metadata": {
    "collapsed": false,
    "pycharm": {
     "name": "#%%\n"
    }
   }
  },
  {
   "cell_type": "code",
   "execution_count": 90,
   "outputs": [
    {
     "data": {
      "text/plain": "   total_conta  gorjeta     genero fumante  dia horario  pessoas_mesa  \\\n0        16.99     1.01   Feminino     nao  dom  jantar             2   \n1        10.34     1.66  Masculino     nao  dom  jantar             3   \n2        21.01     3.50  Masculino     nao  dom  jantar             3   \n3        23.68     3.31  Masculino     nao  dom  jantar             2   \n4        24.59     3.61   Feminino     nao  dom  jantar             4   \n\n   tempo_permanencia  \n0                 60  \n1                 60  \n2                 60  \n3                 60  \n4                 60  ",
      "text/html": "<div>\n<style scoped>\n    .dataframe tbody tr th:only-of-type {\n        vertical-align: middle;\n    }\n\n    .dataframe tbody tr th {\n        vertical-align: top;\n    }\n\n    .dataframe thead th {\n        text-align: right;\n    }\n</style>\n<table border=\"1\" class=\"dataframe\">\n  <thead>\n    <tr style=\"text-align: right;\">\n      <th></th>\n      <th>total_conta</th>\n      <th>gorjeta</th>\n      <th>genero</th>\n      <th>fumante</th>\n      <th>dia</th>\n      <th>horario</th>\n      <th>pessoas_mesa</th>\n      <th>tempo_permanencia</th>\n    </tr>\n  </thead>\n  <tbody>\n    <tr>\n      <th>0</th>\n      <td>16.99</td>\n      <td>1.01</td>\n      <td>Feminino</td>\n      <td>nao</td>\n      <td>dom</td>\n      <td>jantar</td>\n      <td>2</td>\n      <td>60</td>\n    </tr>\n    <tr>\n      <th>1</th>\n      <td>10.34</td>\n      <td>1.66</td>\n      <td>Masculino</td>\n      <td>nao</td>\n      <td>dom</td>\n      <td>jantar</td>\n      <td>3</td>\n      <td>60</td>\n    </tr>\n    <tr>\n      <th>2</th>\n      <td>21.01</td>\n      <td>3.50</td>\n      <td>Masculino</td>\n      <td>nao</td>\n      <td>dom</td>\n      <td>jantar</td>\n      <td>3</td>\n      <td>60</td>\n    </tr>\n    <tr>\n      <th>3</th>\n      <td>23.68</td>\n      <td>3.31</td>\n      <td>Masculino</td>\n      <td>nao</td>\n      <td>dom</td>\n      <td>jantar</td>\n      <td>2</td>\n      <td>60</td>\n    </tr>\n    <tr>\n      <th>4</th>\n      <td>24.59</td>\n      <td>3.61</td>\n      <td>Feminino</td>\n      <td>nao</td>\n      <td>dom</td>\n      <td>jantar</td>\n      <td>4</td>\n      <td>60</td>\n    </tr>\n  </tbody>\n</table>\n</div>"
     },
     "execution_count": 90,
     "metadata": {},
     "output_type": "execute_result"
    }
   ],
   "source": [
    "#Mudando os 5 primeiros registros para um tempo de permanencia de 60min\n",
    "df2 = df.copy() # faco uma cópia do objeto\n",
    "df2.loc[0:5, 'tempo_permanencia'] = 60\n",
    "df2.head(5)"
   ],
   "metadata": {
    "collapsed": false,
    "pycharm": {
     "name": "#%%\n"
    }
   }
  },
  {
   "cell_type": "code",
   "execution_count": 91,
   "outputs": [
    {
     "data": {
      "text/plain": "   total_conta  gorjeta     genero fumante  dia horario  pessoas_mesa  \\\n0        16.99     1.01   Feminino     nao  dom  jantar             2   \n1        10.34     1.66  Masculino     nao  dom  jantar             3   \n2        21.01     3.50  Masculino     nao  dom  jantar             3   \n3        23.68     3.31  Masculino     nao  dom  jantar             2   \n4        24.59     3.61   Feminino     nao  dom  jantar             4   \n5        25.29     4.71  Masculino     nao  dom  jantar             4   \n\n   tempo_permanencia  \n0                 41  \n1                 40  \n2                 49  \n3                 43  \n4                 34  \n5                 39  ",
      "text/html": "<div>\n<style scoped>\n    .dataframe tbody tr th:only-of-type {\n        vertical-align: middle;\n    }\n\n    .dataframe tbody tr th {\n        vertical-align: top;\n    }\n\n    .dataframe thead th {\n        text-align: right;\n    }\n</style>\n<table border=\"1\" class=\"dataframe\">\n  <thead>\n    <tr style=\"text-align: right;\">\n      <th></th>\n      <th>total_conta</th>\n      <th>gorjeta</th>\n      <th>genero</th>\n      <th>fumante</th>\n      <th>dia</th>\n      <th>horario</th>\n      <th>pessoas_mesa</th>\n      <th>tempo_permanencia</th>\n    </tr>\n  </thead>\n  <tbody>\n    <tr>\n      <th>0</th>\n      <td>16.99</td>\n      <td>1.01</td>\n      <td>Feminino</td>\n      <td>nao</td>\n      <td>dom</td>\n      <td>jantar</td>\n      <td>2</td>\n      <td>41</td>\n    </tr>\n    <tr>\n      <th>1</th>\n      <td>10.34</td>\n      <td>1.66</td>\n      <td>Masculino</td>\n      <td>nao</td>\n      <td>dom</td>\n      <td>jantar</td>\n      <td>3</td>\n      <td>40</td>\n    </tr>\n    <tr>\n      <th>2</th>\n      <td>21.01</td>\n      <td>3.50</td>\n      <td>Masculino</td>\n      <td>nao</td>\n      <td>dom</td>\n      <td>jantar</td>\n      <td>3</td>\n      <td>49</td>\n    </tr>\n    <tr>\n      <th>3</th>\n      <td>23.68</td>\n      <td>3.31</td>\n      <td>Masculino</td>\n      <td>nao</td>\n      <td>dom</td>\n      <td>jantar</td>\n      <td>2</td>\n      <td>43</td>\n    </tr>\n    <tr>\n      <th>4</th>\n      <td>24.59</td>\n      <td>3.61</td>\n      <td>Feminino</td>\n      <td>nao</td>\n      <td>dom</td>\n      <td>jantar</td>\n      <td>4</td>\n      <td>34</td>\n    </tr>\n    <tr>\n      <th>5</th>\n      <td>25.29</td>\n      <td>4.71</td>\n      <td>Masculino</td>\n      <td>nao</td>\n      <td>dom</td>\n      <td>jantar</td>\n      <td>4</td>\n      <td>39</td>\n    </tr>\n  </tbody>\n</table>\n</div>"
     },
     "execution_count": 91,
     "metadata": {},
     "output_type": "execute_result"
    }
   ],
   "source": [
    "df.loc[0:5] # com o comando .copy() os dados modificados no df2 nao sao vistos no df"
   ],
   "metadata": {
    "collapsed": false,
    "pycharm": {
     "name": "#%%\n"
    }
   }
  },
  {
   "cell_type": "code",
   "execution_count": 92,
   "outputs": [
    {
     "data": {
      "text/plain": "     total_conta  gorjeta     genero fumante  dia horario  pessoas_mesa  \\\n77         27.20     4.00  Masculino     nao  qui  almoco             4   \n78         22.76     3.00  Masculino     nao  qui  almoco             2   \n79         17.29     2.71  Masculino     nao  qui  almoco             2   \n80         19.44     3.00  Masculino     sim  qui  almoco             2   \n81         16.66     3.40  Masculino     nao  qui  almoco             2   \n..           ...      ...        ...     ...  ...     ...           ...   \n223        15.98     3.00   Feminino     nao  sex  almoco             3   \n224        13.42     1.58  Masculino     sim  sex  almoco             2   \n225        16.27     2.50   Feminino     sim  sex  almoco             2   \n226        10.09     2.00   Feminino     sim  sex  almoco             2   \n243        18.78     3.00   Feminino     nao  qui  jantar             2   \n\n     tempo_permanencia  \n77                  47  \n78                  36  \n79                  38  \n80                  36  \n81                  37  \n..                 ...  \n223                 40  \n224                 45  \n225                 50  \n226                 51  \n243                 40  \n\n[81 rows x 8 columns]",
      "text/html": "<div>\n<style scoped>\n    .dataframe tbody tr th:only-of-type {\n        vertical-align: middle;\n    }\n\n    .dataframe tbody tr th {\n        vertical-align: top;\n    }\n\n    .dataframe thead th {\n        text-align: right;\n    }\n</style>\n<table border=\"1\" class=\"dataframe\">\n  <thead>\n    <tr style=\"text-align: right;\">\n      <th></th>\n      <th>total_conta</th>\n      <th>gorjeta</th>\n      <th>genero</th>\n      <th>fumante</th>\n      <th>dia</th>\n      <th>horario</th>\n      <th>pessoas_mesa</th>\n      <th>tempo_permanencia</th>\n    </tr>\n  </thead>\n  <tbody>\n    <tr>\n      <th>77</th>\n      <td>27.20</td>\n      <td>4.00</td>\n      <td>Masculino</td>\n      <td>nao</td>\n      <td>qui</td>\n      <td>almoco</td>\n      <td>4</td>\n      <td>47</td>\n    </tr>\n    <tr>\n      <th>78</th>\n      <td>22.76</td>\n      <td>3.00</td>\n      <td>Masculino</td>\n      <td>nao</td>\n      <td>qui</td>\n      <td>almoco</td>\n      <td>2</td>\n      <td>36</td>\n    </tr>\n    <tr>\n      <th>79</th>\n      <td>17.29</td>\n      <td>2.71</td>\n      <td>Masculino</td>\n      <td>nao</td>\n      <td>qui</td>\n      <td>almoco</td>\n      <td>2</td>\n      <td>38</td>\n    </tr>\n    <tr>\n      <th>80</th>\n      <td>19.44</td>\n      <td>3.00</td>\n      <td>Masculino</td>\n      <td>sim</td>\n      <td>qui</td>\n      <td>almoco</td>\n      <td>2</td>\n      <td>36</td>\n    </tr>\n    <tr>\n      <th>81</th>\n      <td>16.66</td>\n      <td>3.40</td>\n      <td>Masculino</td>\n      <td>nao</td>\n      <td>qui</td>\n      <td>almoco</td>\n      <td>2</td>\n      <td>37</td>\n    </tr>\n    <tr>\n      <th>...</th>\n      <td>...</td>\n      <td>...</td>\n      <td>...</td>\n      <td>...</td>\n      <td>...</td>\n      <td>...</td>\n      <td>...</td>\n      <td>...</td>\n    </tr>\n    <tr>\n      <th>223</th>\n      <td>15.98</td>\n      <td>3.00</td>\n      <td>Feminino</td>\n      <td>nao</td>\n      <td>sex</td>\n      <td>almoco</td>\n      <td>3</td>\n      <td>40</td>\n    </tr>\n    <tr>\n      <th>224</th>\n      <td>13.42</td>\n      <td>1.58</td>\n      <td>Masculino</td>\n      <td>sim</td>\n      <td>sex</td>\n      <td>almoco</td>\n      <td>2</td>\n      <td>45</td>\n    </tr>\n    <tr>\n      <th>225</th>\n      <td>16.27</td>\n      <td>2.50</td>\n      <td>Feminino</td>\n      <td>sim</td>\n      <td>sex</td>\n      <td>almoco</td>\n      <td>2</td>\n      <td>50</td>\n    </tr>\n    <tr>\n      <th>226</th>\n      <td>10.09</td>\n      <td>2.00</td>\n      <td>Feminino</td>\n      <td>sim</td>\n      <td>sex</td>\n      <td>almoco</td>\n      <td>2</td>\n      <td>51</td>\n    </tr>\n    <tr>\n      <th>243</th>\n      <td>18.78</td>\n      <td>3.00</td>\n      <td>Feminino</td>\n      <td>nao</td>\n      <td>qui</td>\n      <td>jantar</td>\n      <td>2</td>\n      <td>40</td>\n    </tr>\n  </tbody>\n</table>\n<p>81 rows × 8 columns</p>\n</div>"
     },
     "execution_count": 92,
     "metadata": {},
     "output_type": "execute_result"
    }
   ],
   "source": [
    "df2.loc[df2['dia'].isin(['seg', 'ter', 'qua', 'qui', 'sex'])]"
   ],
   "metadata": {
    "collapsed": false,
    "pycharm": {
     "name": "#%%\n"
    }
   }
  },
  {
   "cell_type": "code",
   "execution_count": 93,
   "outputs": [
    {
     "data": {
      "text/plain": "     total_conta  gorjeta     genero fumante  dia horario  pessoas_mesa  \\\n77         27.20     4.00  Masculino     nao  qui  almoco             4   \n78         22.76     3.00  Masculino     nao  qui  almoco             2   \n79         17.29     2.71  Masculino     nao  qui  almoco             2   \n80         19.44     3.00  Masculino     sim  qui  almoco             2   \n81         16.66     3.40  Masculino     nao  qui  almoco             2   \n..           ...      ...        ...     ...  ...     ...           ...   \n223        15.98     3.00   Feminino     nao  sex  almoco             3   \n224        13.42     1.58  Masculino     sim  sex  almoco             2   \n225        16.27     2.50   Feminino     sim  sex  almoco             2   \n226        10.09     2.00   Feminino     sim  sex  almoco             2   \n243        18.78     3.00   Feminino     nao  qui  jantar             2   \n\n     tempo_permanencia  \n77                  47  \n78                  36  \n79                  38  \n80                  36  \n81                  37  \n..                 ...  \n223                 40  \n224                 45  \n225                 50  \n226                 51  \n243                 40  \n\n[81 rows x 8 columns]",
      "text/html": "<div>\n<style scoped>\n    .dataframe tbody tr th:only-of-type {\n        vertical-align: middle;\n    }\n\n    .dataframe tbody tr th {\n        vertical-align: top;\n    }\n\n    .dataframe thead th {\n        text-align: right;\n    }\n</style>\n<table border=\"1\" class=\"dataframe\">\n  <thead>\n    <tr style=\"text-align: right;\">\n      <th></th>\n      <th>total_conta</th>\n      <th>gorjeta</th>\n      <th>genero</th>\n      <th>fumante</th>\n      <th>dia</th>\n      <th>horario</th>\n      <th>pessoas_mesa</th>\n      <th>tempo_permanencia</th>\n    </tr>\n  </thead>\n  <tbody>\n    <tr>\n      <th>77</th>\n      <td>27.20</td>\n      <td>4.00</td>\n      <td>Masculino</td>\n      <td>nao</td>\n      <td>qui</td>\n      <td>almoco</td>\n      <td>4</td>\n      <td>47</td>\n    </tr>\n    <tr>\n      <th>78</th>\n      <td>22.76</td>\n      <td>3.00</td>\n      <td>Masculino</td>\n      <td>nao</td>\n      <td>qui</td>\n      <td>almoco</td>\n      <td>2</td>\n      <td>36</td>\n    </tr>\n    <tr>\n      <th>79</th>\n      <td>17.29</td>\n      <td>2.71</td>\n      <td>Masculino</td>\n      <td>nao</td>\n      <td>qui</td>\n      <td>almoco</td>\n      <td>2</td>\n      <td>38</td>\n    </tr>\n    <tr>\n      <th>80</th>\n      <td>19.44</td>\n      <td>3.00</td>\n      <td>Masculino</td>\n      <td>sim</td>\n      <td>qui</td>\n      <td>almoco</td>\n      <td>2</td>\n      <td>36</td>\n    </tr>\n    <tr>\n      <th>81</th>\n      <td>16.66</td>\n      <td>3.40</td>\n      <td>Masculino</td>\n      <td>nao</td>\n      <td>qui</td>\n      <td>almoco</td>\n      <td>2</td>\n      <td>37</td>\n    </tr>\n    <tr>\n      <th>...</th>\n      <td>...</td>\n      <td>...</td>\n      <td>...</td>\n      <td>...</td>\n      <td>...</td>\n      <td>...</td>\n      <td>...</td>\n      <td>...</td>\n    </tr>\n    <tr>\n      <th>223</th>\n      <td>15.98</td>\n      <td>3.00</td>\n      <td>Feminino</td>\n      <td>nao</td>\n      <td>sex</td>\n      <td>almoco</td>\n      <td>3</td>\n      <td>40</td>\n    </tr>\n    <tr>\n      <th>224</th>\n      <td>13.42</td>\n      <td>1.58</td>\n      <td>Masculino</td>\n      <td>sim</td>\n      <td>sex</td>\n      <td>almoco</td>\n      <td>2</td>\n      <td>45</td>\n    </tr>\n    <tr>\n      <th>225</th>\n      <td>16.27</td>\n      <td>2.50</td>\n      <td>Feminino</td>\n      <td>sim</td>\n      <td>sex</td>\n      <td>almoco</td>\n      <td>2</td>\n      <td>50</td>\n    </tr>\n    <tr>\n      <th>226</th>\n      <td>10.09</td>\n      <td>2.00</td>\n      <td>Feminino</td>\n      <td>sim</td>\n      <td>sex</td>\n      <td>almoco</td>\n      <td>2</td>\n      <td>51</td>\n    </tr>\n    <tr>\n      <th>243</th>\n      <td>18.78</td>\n      <td>3.00</td>\n      <td>Feminino</td>\n      <td>nao</td>\n      <td>qui</td>\n      <td>jantar</td>\n      <td>2</td>\n      <td>40</td>\n    </tr>\n  </tbody>\n</table>\n<p>81 rows × 8 columns</p>\n</div>"
     },
     "execution_count": 93,
     "metadata": {},
     "output_type": "execute_result"
    }
   ],
   "source": [
    "df2.loc[~df2['dia'].isin(['sab', 'dom'])] # pega tudo que nao eh sabado ou domingo\n",
    "# o acento til é negacao"
   ],
   "metadata": {
    "collapsed": false,
    "pycharm": {
     "name": "#%%\n"
    }
   }
  },
  {
   "cell_type": "markdown",
   "source": [
    "Basicamente o comando **iloc** é usado quando queremos selecionar dados de linhas e colunas pelo seu valor numérico de índice. Isso torna o seu uso mais restrito, logo ele é menos utilizado que loc."
   ],
   "metadata": {
    "collapsed": false,
    "pycharm": {
     "name": "#%% md\n"
    }
   }
  },
  {
   "cell_type": "code",
   "execution_count": 95,
   "outputs": [
    {
     "data": {
      "text/plain": "   total_conta  gorjeta     genero fumante  dia horario  pessoas_mesa  \\\n0        16.99     1.01   Feminino     nao  dom  jantar             2   \n1        10.34     1.66  Masculino     nao  dom  jantar             3   \n2        21.01     3.50  Masculino     nao  dom  jantar             3   \n3        23.68     3.31  Masculino     nao  dom  jantar             2   \n\n   tempo_permanencia  \n0                 41  \n1                 40  \n2                 49  \n3                 43  ",
      "text/html": "<div>\n<style scoped>\n    .dataframe tbody tr th:only-of-type {\n        vertical-align: middle;\n    }\n\n    .dataframe tbody tr th {\n        vertical-align: top;\n    }\n\n    .dataframe thead th {\n        text-align: right;\n    }\n</style>\n<table border=\"1\" class=\"dataframe\">\n  <thead>\n    <tr style=\"text-align: right;\">\n      <th></th>\n      <th>total_conta</th>\n      <th>gorjeta</th>\n      <th>genero</th>\n      <th>fumante</th>\n      <th>dia</th>\n      <th>horario</th>\n      <th>pessoas_mesa</th>\n      <th>tempo_permanencia</th>\n    </tr>\n  </thead>\n  <tbody>\n    <tr>\n      <th>0</th>\n      <td>16.99</td>\n      <td>1.01</td>\n      <td>Feminino</td>\n      <td>nao</td>\n      <td>dom</td>\n      <td>jantar</td>\n      <td>2</td>\n      <td>41</td>\n    </tr>\n    <tr>\n      <th>1</th>\n      <td>10.34</td>\n      <td>1.66</td>\n      <td>Masculino</td>\n      <td>nao</td>\n      <td>dom</td>\n      <td>jantar</td>\n      <td>3</td>\n      <td>40</td>\n    </tr>\n    <tr>\n      <th>2</th>\n      <td>21.01</td>\n      <td>3.50</td>\n      <td>Masculino</td>\n      <td>nao</td>\n      <td>dom</td>\n      <td>jantar</td>\n      <td>3</td>\n      <td>49</td>\n    </tr>\n    <tr>\n      <th>3</th>\n      <td>23.68</td>\n      <td>3.31</td>\n      <td>Masculino</td>\n      <td>nao</td>\n      <td>dom</td>\n      <td>jantar</td>\n      <td>2</td>\n      <td>43</td>\n    </tr>\n  </tbody>\n</table>\n</div>"
     },
     "execution_count": 95,
     "metadata": {},
     "output_type": "execute_result"
    }
   ],
   "source": [
    "df.loc[0:3] # pega valor do ultimo índice"
   ],
   "metadata": {
    "collapsed": false,
    "pycharm": {
     "name": "#%%\n"
    }
   }
  },
  {
   "cell_type": "code",
   "execution_count": 94,
   "outputs": [
    {
     "data": {
      "text/plain": "   total_conta  gorjeta     genero fumante  dia horario  pessoas_mesa  \\\n0        16.99     1.01   Feminino     nao  dom  jantar             2   \n1        10.34     1.66  Masculino     nao  dom  jantar             3   \n2        21.01     3.50  Masculino     nao  dom  jantar             3   \n\n   tempo_permanencia  \n0                 41  \n1                 40  \n2                 49  ",
      "text/html": "<div>\n<style scoped>\n    .dataframe tbody tr th:only-of-type {\n        vertical-align: middle;\n    }\n\n    .dataframe tbody tr th {\n        vertical-align: top;\n    }\n\n    .dataframe thead th {\n        text-align: right;\n    }\n</style>\n<table border=\"1\" class=\"dataframe\">\n  <thead>\n    <tr style=\"text-align: right;\">\n      <th></th>\n      <th>total_conta</th>\n      <th>gorjeta</th>\n      <th>genero</th>\n      <th>fumante</th>\n      <th>dia</th>\n      <th>horario</th>\n      <th>pessoas_mesa</th>\n      <th>tempo_permanencia</th>\n    </tr>\n  </thead>\n  <tbody>\n    <tr>\n      <th>0</th>\n      <td>16.99</td>\n      <td>1.01</td>\n      <td>Feminino</td>\n      <td>nao</td>\n      <td>dom</td>\n      <td>jantar</td>\n      <td>2</td>\n      <td>41</td>\n    </tr>\n    <tr>\n      <th>1</th>\n      <td>10.34</td>\n      <td>1.66</td>\n      <td>Masculino</td>\n      <td>nao</td>\n      <td>dom</td>\n      <td>jantar</td>\n      <td>3</td>\n      <td>40</td>\n    </tr>\n    <tr>\n      <th>2</th>\n      <td>21.01</td>\n      <td>3.50</td>\n      <td>Masculino</td>\n      <td>nao</td>\n      <td>dom</td>\n      <td>jantar</td>\n      <td>3</td>\n      <td>49</td>\n    </tr>\n  </tbody>\n</table>\n</div>"
     },
     "execution_count": 94,
     "metadata": {},
     "output_type": "execute_result"
    }
   ],
   "source": [
    "# resgatando as primeiras três linhas do dataset\n",
    "df.iloc[0:3] # não pega o valor do último índice\n",
    "# df.iloc[:, 1:3] # todos os dados da segunda e terceira coluna\n",
    "# df.iloc[[0,2,4], 5:8] # 1º,3º e 5º elementos e 6ª a 8ª colunas"
   ],
   "metadata": {
    "collapsed": false,
    "pycharm": {
     "name": "#%%\n"
    }
   }
  },
  {
   "cell_type": "markdown",
   "source": [],
   "metadata": {
    "collapsed": false,
    "pycharm": {
     "name": "#%% md\n"
    }
   }
  },
  {
   "cell_type": "markdown",
   "source": [
    "### 4.Criar e modificar colunas"
   ],
   "metadata": {
    "collapsed": false,
    "pycharm": {
     "name": "#%% md\n"
    }
   }
  },
  {
   "cell_type": "code",
   "execution_count": 96,
   "outputs": [
    {
     "data": {
      "text/plain": "   total_conta  gorjeta     genero fumante  dia horario  pessoas_mesa  \\\n0        16.99     1.01   Feminino     nao  dom  jantar             2   \n1        10.34     1.66  Masculino     nao  dom  jantar             3   \n2        21.01     3.50  Masculino     nao  dom  jantar             3   \n3        23.68     3.31  Masculino     nao  dom  jantar             2   \n4        24.59     3.61   Feminino     nao  dom  jantar             4   \n\n   tempo_permanencia  total_conta_reais  \n0                 60             88.348  \n1                 60             53.768  \n2                 60            109.252  \n3                 60            123.136  \n4                 60            127.868  ",
      "text/html": "<div>\n<style scoped>\n    .dataframe tbody tr th:only-of-type {\n        vertical-align: middle;\n    }\n\n    .dataframe tbody tr th {\n        vertical-align: top;\n    }\n\n    .dataframe thead th {\n        text-align: right;\n    }\n</style>\n<table border=\"1\" class=\"dataframe\">\n  <thead>\n    <tr style=\"text-align: right;\">\n      <th></th>\n      <th>total_conta</th>\n      <th>gorjeta</th>\n      <th>genero</th>\n      <th>fumante</th>\n      <th>dia</th>\n      <th>horario</th>\n      <th>pessoas_mesa</th>\n      <th>tempo_permanencia</th>\n      <th>total_conta_reais</th>\n    </tr>\n  </thead>\n  <tbody>\n    <tr>\n      <th>0</th>\n      <td>16.99</td>\n      <td>1.01</td>\n      <td>Feminino</td>\n      <td>nao</td>\n      <td>dom</td>\n      <td>jantar</td>\n      <td>2</td>\n      <td>60</td>\n      <td>88.348</td>\n    </tr>\n    <tr>\n      <th>1</th>\n      <td>10.34</td>\n      <td>1.66</td>\n      <td>Masculino</td>\n      <td>nao</td>\n      <td>dom</td>\n      <td>jantar</td>\n      <td>3</td>\n      <td>60</td>\n      <td>53.768</td>\n    </tr>\n    <tr>\n      <th>2</th>\n      <td>21.01</td>\n      <td>3.50</td>\n      <td>Masculino</td>\n      <td>nao</td>\n      <td>dom</td>\n      <td>jantar</td>\n      <td>3</td>\n      <td>60</td>\n      <td>109.252</td>\n    </tr>\n    <tr>\n      <th>3</th>\n      <td>23.68</td>\n      <td>3.31</td>\n      <td>Masculino</td>\n      <td>nao</td>\n      <td>dom</td>\n      <td>jantar</td>\n      <td>2</td>\n      <td>60</td>\n      <td>123.136</td>\n    </tr>\n    <tr>\n      <th>4</th>\n      <td>24.59</td>\n      <td>3.61</td>\n      <td>Feminino</td>\n      <td>nao</td>\n      <td>dom</td>\n      <td>jantar</td>\n      <td>4</td>\n      <td>60</td>\n      <td>127.868</td>\n    </tr>\n  </tbody>\n</table>\n</div>"
     },
     "execution_count": 96,
     "metadata": {},
     "output_type": "execute_result"
    }
   ],
   "source": [
    "# podemos executar diretamente a operação necessária na coluna desejada linha a linha.\n",
    "df2['total_conta_reais'] = df2['total_conta']*5.20\n",
    "df2.head()"
   ],
   "metadata": {
    "collapsed": false,
    "pycharm": {
     "name": "#%%\n"
    }
   }
  },
  {
   "cell_type": "code",
   "execution_count": 97,
   "outputs": [
    {
     "data": {
      "text/plain": "   total_conta  gorjeta     genero fumante  dia horario  pessoas_mesa  \\\n0        16.99     1.01   Feminino     nao  dom  jantar             2   \n1        10.34     1.66  Masculino     nao  dom  jantar             3   \n2        21.01     3.50  Masculino     nao  dom  jantar             3   \n3        23.68     3.31  Masculino     nao  dom  jantar             2   \n4        24.59     3.61   Feminino     nao  dom  jantar             4   \n\n   tempo_permanencia  total_conta_reais tipo_ticket  \n0                 60             88.348       baixo  \n1                 60             53.768       baixo  \n2                 60            109.252       baixo  \n3                 60            123.136       baixo  \n4                 60            127.868       baixo  ",
      "text/html": "<div>\n<style scoped>\n    .dataframe tbody tr th:only-of-type {\n        vertical-align: middle;\n    }\n\n    .dataframe tbody tr th {\n        vertical-align: top;\n    }\n\n    .dataframe thead th {\n        text-align: right;\n    }\n</style>\n<table border=\"1\" class=\"dataframe\">\n  <thead>\n    <tr style=\"text-align: right;\">\n      <th></th>\n      <th>total_conta</th>\n      <th>gorjeta</th>\n      <th>genero</th>\n      <th>fumante</th>\n      <th>dia</th>\n      <th>horario</th>\n      <th>pessoas_mesa</th>\n      <th>tempo_permanencia</th>\n      <th>total_conta_reais</th>\n      <th>tipo_ticket</th>\n    </tr>\n  </thead>\n  <tbody>\n    <tr>\n      <th>0</th>\n      <td>16.99</td>\n      <td>1.01</td>\n      <td>Feminino</td>\n      <td>nao</td>\n      <td>dom</td>\n      <td>jantar</td>\n      <td>2</td>\n      <td>60</td>\n      <td>88.348</td>\n      <td>baixo</td>\n    </tr>\n    <tr>\n      <th>1</th>\n      <td>10.34</td>\n      <td>1.66</td>\n      <td>Masculino</td>\n      <td>nao</td>\n      <td>dom</td>\n      <td>jantar</td>\n      <td>3</td>\n      <td>60</td>\n      <td>53.768</td>\n      <td>baixo</td>\n    </tr>\n    <tr>\n      <th>2</th>\n      <td>21.01</td>\n      <td>3.50</td>\n      <td>Masculino</td>\n      <td>nao</td>\n      <td>dom</td>\n      <td>jantar</td>\n      <td>3</td>\n      <td>60</td>\n      <td>109.252</td>\n      <td>baixo</td>\n    </tr>\n    <tr>\n      <th>3</th>\n      <td>23.68</td>\n      <td>3.31</td>\n      <td>Masculino</td>\n      <td>nao</td>\n      <td>dom</td>\n      <td>jantar</td>\n      <td>2</td>\n      <td>60</td>\n      <td>123.136</td>\n      <td>baixo</td>\n    </tr>\n    <tr>\n      <th>4</th>\n      <td>24.59</td>\n      <td>3.61</td>\n      <td>Feminino</td>\n      <td>nao</td>\n      <td>dom</td>\n      <td>jantar</td>\n      <td>4</td>\n      <td>60</td>\n      <td>127.868</td>\n      <td>baixo</td>\n    </tr>\n  </tbody>\n</table>\n</div>"
     },
     "execution_count": 97,
     "metadata": {},
     "output_type": "execute_result"
    }
   ],
   "source": [
    "# podemos usar o metodo .apply() que aplica uma funcao na coluna que vai dar origem a nova coluna\n",
    "# definimos a nossa regra de criacao da nova coluna\n",
    "\n",
    "def classifica_ticket(row_value):\n",
    "    if row_value >= 50:\n",
    "        ticket = 'alto'\n",
    "    elif row_value >= 30:\n",
    "        ticket = 'medio'\n",
    "    else:\n",
    "        ticket = 'baixo'\n",
    "    return ticket\n",
    "\n",
    "\n",
    "# aplicamos a regra na coluna que nos interessa\n",
    "df2['tipo_ticket'] = df['total_conta'].apply(classifica_ticket)\n",
    "df2.head()"
   ],
   "metadata": {
    "collapsed": false,
    "pycharm": {
     "name": "#%%\n"
    }
   }
  },
  {
   "cell_type": "code",
   "execution_count": 98,
   "outputs": [
    {
     "data": {
      "text/plain": "     total_conta  gorjeta     genero fumante  dia horario  pessoas_mesa  \\\n0          16.99     1.01   Feminino     nao  dom  jantar             2   \n1          10.34     1.66  Masculino     nao  dom  jantar             3   \n2          21.01     3.50  Masculino     nao  dom  jantar             3   \n3          23.68     3.31  Masculino     nao  dom  jantar             2   \n4          24.59     3.61   Feminino     nao  dom  jantar             4   \n..           ...      ...        ...     ...  ...     ...           ...   \n239        29.03     5.92  Masculino     nao  sab  jantar             3   \n240        27.18     2.00   Feminino     sim  sab  jantar             2   \n241        22.67     2.00  Masculino     sim  sab  jantar             2   \n242        17.82     1.75  Masculino     nao  sab  jantar             2   \n243        18.78     3.00   Feminino     nao  qui  jantar             2   \n\n     tempo_permanencia  total_conta_reais tipo_ticket genero2  \n0                   60             88.348       baixo       1  \n1                   60             53.768       baixo       0  \n2                   60            109.252       baixo       0  \n3                   60            123.136       baixo       0  \n4                   60            127.868       baixo       1  \n..                 ...                ...         ...     ...  \n239                 40            150.956       baixo       0  \n240                 35            141.336       baixo       1  \n241                 30            117.884       baixo       0  \n242                 38             92.664       baixo       0  \n243                 40             97.656       baixo       1  \n\n[244 rows x 11 columns]",
      "text/html": "<div>\n<style scoped>\n    .dataframe tbody tr th:only-of-type {\n        vertical-align: middle;\n    }\n\n    .dataframe tbody tr th {\n        vertical-align: top;\n    }\n\n    .dataframe thead th {\n        text-align: right;\n    }\n</style>\n<table border=\"1\" class=\"dataframe\">\n  <thead>\n    <tr style=\"text-align: right;\">\n      <th></th>\n      <th>total_conta</th>\n      <th>gorjeta</th>\n      <th>genero</th>\n      <th>fumante</th>\n      <th>dia</th>\n      <th>horario</th>\n      <th>pessoas_mesa</th>\n      <th>tempo_permanencia</th>\n      <th>total_conta_reais</th>\n      <th>tipo_ticket</th>\n      <th>genero2</th>\n    </tr>\n  </thead>\n  <tbody>\n    <tr>\n      <th>0</th>\n      <td>16.99</td>\n      <td>1.01</td>\n      <td>Feminino</td>\n      <td>nao</td>\n      <td>dom</td>\n      <td>jantar</td>\n      <td>2</td>\n      <td>60</td>\n      <td>88.348</td>\n      <td>baixo</td>\n      <td>1</td>\n    </tr>\n    <tr>\n      <th>1</th>\n      <td>10.34</td>\n      <td>1.66</td>\n      <td>Masculino</td>\n      <td>nao</td>\n      <td>dom</td>\n      <td>jantar</td>\n      <td>3</td>\n      <td>60</td>\n      <td>53.768</td>\n      <td>baixo</td>\n      <td>0</td>\n    </tr>\n    <tr>\n      <th>2</th>\n      <td>21.01</td>\n      <td>3.50</td>\n      <td>Masculino</td>\n      <td>nao</td>\n      <td>dom</td>\n      <td>jantar</td>\n      <td>3</td>\n      <td>60</td>\n      <td>109.252</td>\n      <td>baixo</td>\n      <td>0</td>\n    </tr>\n    <tr>\n      <th>3</th>\n      <td>23.68</td>\n      <td>3.31</td>\n      <td>Masculino</td>\n      <td>nao</td>\n      <td>dom</td>\n      <td>jantar</td>\n      <td>2</td>\n      <td>60</td>\n      <td>123.136</td>\n      <td>baixo</td>\n      <td>0</td>\n    </tr>\n    <tr>\n      <th>4</th>\n      <td>24.59</td>\n      <td>3.61</td>\n      <td>Feminino</td>\n      <td>nao</td>\n      <td>dom</td>\n      <td>jantar</td>\n      <td>4</td>\n      <td>60</td>\n      <td>127.868</td>\n      <td>baixo</td>\n      <td>1</td>\n    </tr>\n    <tr>\n      <th>...</th>\n      <td>...</td>\n      <td>...</td>\n      <td>...</td>\n      <td>...</td>\n      <td>...</td>\n      <td>...</td>\n      <td>...</td>\n      <td>...</td>\n      <td>...</td>\n      <td>...</td>\n      <td>...</td>\n    </tr>\n    <tr>\n      <th>239</th>\n      <td>29.03</td>\n      <td>5.92</td>\n      <td>Masculino</td>\n      <td>nao</td>\n      <td>sab</td>\n      <td>jantar</td>\n      <td>3</td>\n      <td>40</td>\n      <td>150.956</td>\n      <td>baixo</td>\n      <td>0</td>\n    </tr>\n    <tr>\n      <th>240</th>\n      <td>27.18</td>\n      <td>2.00</td>\n      <td>Feminino</td>\n      <td>sim</td>\n      <td>sab</td>\n      <td>jantar</td>\n      <td>2</td>\n      <td>35</td>\n      <td>141.336</td>\n      <td>baixo</td>\n      <td>1</td>\n    </tr>\n    <tr>\n      <th>241</th>\n      <td>22.67</td>\n      <td>2.00</td>\n      <td>Masculino</td>\n      <td>sim</td>\n      <td>sab</td>\n      <td>jantar</td>\n      <td>2</td>\n      <td>30</td>\n      <td>117.884</td>\n      <td>baixo</td>\n      <td>0</td>\n    </tr>\n    <tr>\n      <th>242</th>\n      <td>17.82</td>\n      <td>1.75</td>\n      <td>Masculino</td>\n      <td>nao</td>\n      <td>sab</td>\n      <td>jantar</td>\n      <td>2</td>\n      <td>38</td>\n      <td>92.664</td>\n      <td>baixo</td>\n      <td>0</td>\n    </tr>\n    <tr>\n      <th>243</th>\n      <td>18.78</td>\n      <td>3.00</td>\n      <td>Feminino</td>\n      <td>nao</td>\n      <td>qui</td>\n      <td>jantar</td>\n      <td>2</td>\n      <td>40</td>\n      <td>97.656</td>\n      <td>baixo</td>\n      <td>1</td>\n    </tr>\n  </tbody>\n</table>\n<p>244 rows × 11 columns</p>\n</div>"
     },
     "execution_count": 98,
     "metadata": {},
     "output_type": "execute_result"
    }
   ],
   "source": [
    "# podemos usar o metodo .map() que mapeia os dados atraves de um dicionario\n",
    "# criamos o dicionario\n",
    "de_para ={'Feminino' : 1, 'Masculino' : 0}\n",
    "\n",
    "# cria a coluna genero2\n",
    "df2['genero2'] = df2['genero'].map(de_para)\n",
    "\n",
    "# Print the DataFrame\n",
    "df2"
   ],
   "metadata": {
    "collapsed": false,
    "pycharm": {
     "name": "#%%\n"
    }
   }
  },
  {
   "cell_type": "markdown",
   "source": [
    "### 5.Ordenar de acordo com uma ou mais colunas"
   ],
   "metadata": {
    "collapsed": false,
    "pycharm": {
     "name": "#%% md\n"
    }
   }
  },
  {
   "cell_type": "markdown",
   "source": [
    "Classificando o df em ordem crescente"
   ],
   "metadata": {
    "collapsed": false,
    "pycharm": {
     "name": "#%% md\n"
    }
   }
  },
  {
   "cell_type": "code",
   "execution_count": 99,
   "outputs": [
    {
     "data": {
      "text/plain": "     total_conta  gorjeta     genero fumante  dia horario  pessoas_mesa  \\\n121        13.42     1.68   Feminino     nao  qui  almoco             2   \n145         8.35     1.50   Feminino     nao  qui  almoco             2   \n146        18.64     1.36   Feminino     nao  qui  almoco             3   \n147        11.87     1.63   Feminino     nao  qui  almoco             2   \n148         9.78     1.73  Masculino     nao  qui  almoco             2   \n..           ...      ...        ...     ...  ...     ...           ...   \n74         14.73     2.20   Feminino     nao  sab  jantar             2   \n75         10.51     1.25  Masculino     nao  sab  jantar             2   \n76         17.92     3.08  Masculino     sim  sab  jantar             2   \n52         34.81     5.20   Feminino     nao  dom  jantar             4   \n243        18.78     3.00   Feminino     nao  qui  jantar             2   \n\n     tempo_permanencia  \n121                 33  \n145                 48  \n146                 38  \n147                 49  \n148                 50  \n..                 ...  \n74                  43  \n75                  32  \n76                  35  \n52                  40  \n243                 40  \n\n[244 rows x 8 columns]",
      "text/html": "<div>\n<style scoped>\n    .dataframe tbody tr th:only-of-type {\n        vertical-align: middle;\n    }\n\n    .dataframe tbody tr th {\n        vertical-align: top;\n    }\n\n    .dataframe thead th {\n        text-align: right;\n    }\n</style>\n<table border=\"1\" class=\"dataframe\">\n  <thead>\n    <tr style=\"text-align: right;\">\n      <th></th>\n      <th>total_conta</th>\n      <th>gorjeta</th>\n      <th>genero</th>\n      <th>fumante</th>\n      <th>dia</th>\n      <th>horario</th>\n      <th>pessoas_mesa</th>\n      <th>tempo_permanencia</th>\n    </tr>\n  </thead>\n  <tbody>\n    <tr>\n      <th>121</th>\n      <td>13.42</td>\n      <td>1.68</td>\n      <td>Feminino</td>\n      <td>nao</td>\n      <td>qui</td>\n      <td>almoco</td>\n      <td>2</td>\n      <td>33</td>\n    </tr>\n    <tr>\n      <th>145</th>\n      <td>8.35</td>\n      <td>1.50</td>\n      <td>Feminino</td>\n      <td>nao</td>\n      <td>qui</td>\n      <td>almoco</td>\n      <td>2</td>\n      <td>48</td>\n    </tr>\n    <tr>\n      <th>146</th>\n      <td>18.64</td>\n      <td>1.36</td>\n      <td>Feminino</td>\n      <td>nao</td>\n      <td>qui</td>\n      <td>almoco</td>\n      <td>3</td>\n      <td>38</td>\n    </tr>\n    <tr>\n      <th>147</th>\n      <td>11.87</td>\n      <td>1.63</td>\n      <td>Feminino</td>\n      <td>nao</td>\n      <td>qui</td>\n      <td>almoco</td>\n      <td>2</td>\n      <td>49</td>\n    </tr>\n    <tr>\n      <th>148</th>\n      <td>9.78</td>\n      <td>1.73</td>\n      <td>Masculino</td>\n      <td>nao</td>\n      <td>qui</td>\n      <td>almoco</td>\n      <td>2</td>\n      <td>50</td>\n    </tr>\n    <tr>\n      <th>...</th>\n      <td>...</td>\n      <td>...</td>\n      <td>...</td>\n      <td>...</td>\n      <td>...</td>\n      <td>...</td>\n      <td>...</td>\n      <td>...</td>\n    </tr>\n    <tr>\n      <th>74</th>\n      <td>14.73</td>\n      <td>2.20</td>\n      <td>Feminino</td>\n      <td>nao</td>\n      <td>sab</td>\n      <td>jantar</td>\n      <td>2</td>\n      <td>43</td>\n    </tr>\n    <tr>\n      <th>75</th>\n      <td>10.51</td>\n      <td>1.25</td>\n      <td>Masculino</td>\n      <td>nao</td>\n      <td>sab</td>\n      <td>jantar</td>\n      <td>2</td>\n      <td>32</td>\n    </tr>\n    <tr>\n      <th>76</th>\n      <td>17.92</td>\n      <td>3.08</td>\n      <td>Masculino</td>\n      <td>sim</td>\n      <td>sab</td>\n      <td>jantar</td>\n      <td>2</td>\n      <td>35</td>\n    </tr>\n    <tr>\n      <th>52</th>\n      <td>34.81</td>\n      <td>5.20</td>\n      <td>Feminino</td>\n      <td>nao</td>\n      <td>dom</td>\n      <td>jantar</td>\n      <td>4</td>\n      <td>40</td>\n    </tr>\n    <tr>\n      <th>243</th>\n      <td>18.78</td>\n      <td>3.00</td>\n      <td>Feminino</td>\n      <td>nao</td>\n      <td>qui</td>\n      <td>jantar</td>\n      <td>2</td>\n      <td>40</td>\n    </tr>\n  </tbody>\n</table>\n<p>244 rows × 8 columns</p>\n</div>"
     },
     "execution_count": 99,
     "metadata": {},
     "output_type": "execute_result"
    }
   ],
   "source": [
    "# sort pela coluna 'horario'\n",
    "df.sort_values(by=['horario'])"
   ],
   "metadata": {
    "collapsed": false,
    "pycharm": {
     "name": "#%%\n"
    }
   }
  },
  {
   "cell_type": "markdown",
   "source": [
    "Classificando o df em ordem decrescente"
   ],
   "metadata": {
    "collapsed": false,
    "pycharm": {
     "name": "#%% md\n"
    }
   }
  },
  {
   "cell_type": "code",
   "execution_count": 100,
   "outputs": [
    {
     "data": {
      "text/plain": "     total_conta  gorjeta     genero fumante  dia horario  pessoas_mesa  \\\n0          16.99     1.01   Feminino     nao  dom  jantar             2   \n162        16.21     2.00   Feminino     nao  dom  jantar             3   \n153        24.55     2.00  Masculino     nao  dom  jantar             4   \n154        19.77     2.00  Masculino     nao  dom  jantar             4   \n155        29.85     5.14   Feminino     nao  dom  jantar             5   \n..           ...      ...        ...     ...  ...     ...           ...   \n191        19.81     4.19   Feminino     sim  qui  almoco             2   \n128        11.38     2.00   Feminino     nao  qui  almoco             2   \n129        22.82     2.18  Masculino     nao  qui  almoco             3   \n130        19.08     1.50  Masculino     nao  qui  almoco             2   \n122        14.26     2.50  Masculino     nao  qui  almoco             2   \n\n     tempo_permanencia  \n0                   41  \n162                 46  \n153                 33  \n154                 39  \n155                 38  \n..                 ...  \n191                 32  \n128                 36  \n129                 46  \n130                 36  \n122                 36  \n\n[244 rows x 8 columns]",
      "text/html": "<div>\n<style scoped>\n    .dataframe tbody tr th:only-of-type {\n        vertical-align: middle;\n    }\n\n    .dataframe tbody tr th {\n        vertical-align: top;\n    }\n\n    .dataframe thead th {\n        text-align: right;\n    }\n</style>\n<table border=\"1\" class=\"dataframe\">\n  <thead>\n    <tr style=\"text-align: right;\">\n      <th></th>\n      <th>total_conta</th>\n      <th>gorjeta</th>\n      <th>genero</th>\n      <th>fumante</th>\n      <th>dia</th>\n      <th>horario</th>\n      <th>pessoas_mesa</th>\n      <th>tempo_permanencia</th>\n    </tr>\n  </thead>\n  <tbody>\n    <tr>\n      <th>0</th>\n      <td>16.99</td>\n      <td>1.01</td>\n      <td>Feminino</td>\n      <td>nao</td>\n      <td>dom</td>\n      <td>jantar</td>\n      <td>2</td>\n      <td>41</td>\n    </tr>\n    <tr>\n      <th>162</th>\n      <td>16.21</td>\n      <td>2.00</td>\n      <td>Feminino</td>\n      <td>nao</td>\n      <td>dom</td>\n      <td>jantar</td>\n      <td>3</td>\n      <td>46</td>\n    </tr>\n    <tr>\n      <th>153</th>\n      <td>24.55</td>\n      <td>2.00</td>\n      <td>Masculino</td>\n      <td>nao</td>\n      <td>dom</td>\n      <td>jantar</td>\n      <td>4</td>\n      <td>33</td>\n    </tr>\n    <tr>\n      <th>154</th>\n      <td>19.77</td>\n      <td>2.00</td>\n      <td>Masculino</td>\n      <td>nao</td>\n      <td>dom</td>\n      <td>jantar</td>\n      <td>4</td>\n      <td>39</td>\n    </tr>\n    <tr>\n      <th>155</th>\n      <td>29.85</td>\n      <td>5.14</td>\n      <td>Feminino</td>\n      <td>nao</td>\n      <td>dom</td>\n      <td>jantar</td>\n      <td>5</td>\n      <td>38</td>\n    </tr>\n    <tr>\n      <th>...</th>\n      <td>...</td>\n      <td>...</td>\n      <td>...</td>\n      <td>...</td>\n      <td>...</td>\n      <td>...</td>\n      <td>...</td>\n      <td>...</td>\n    </tr>\n    <tr>\n      <th>191</th>\n      <td>19.81</td>\n      <td>4.19</td>\n      <td>Feminino</td>\n      <td>sim</td>\n      <td>qui</td>\n      <td>almoco</td>\n      <td>2</td>\n      <td>32</td>\n    </tr>\n    <tr>\n      <th>128</th>\n      <td>11.38</td>\n      <td>2.00</td>\n      <td>Feminino</td>\n      <td>nao</td>\n      <td>qui</td>\n      <td>almoco</td>\n      <td>2</td>\n      <td>36</td>\n    </tr>\n    <tr>\n      <th>129</th>\n      <td>22.82</td>\n      <td>2.18</td>\n      <td>Masculino</td>\n      <td>nao</td>\n      <td>qui</td>\n      <td>almoco</td>\n      <td>3</td>\n      <td>46</td>\n    </tr>\n    <tr>\n      <th>130</th>\n      <td>19.08</td>\n      <td>1.50</td>\n      <td>Masculino</td>\n      <td>nao</td>\n      <td>qui</td>\n      <td>almoco</td>\n      <td>2</td>\n      <td>36</td>\n    </tr>\n    <tr>\n      <th>122</th>\n      <td>14.26</td>\n      <td>2.50</td>\n      <td>Masculino</td>\n      <td>nao</td>\n      <td>qui</td>\n      <td>almoco</td>\n      <td>2</td>\n      <td>36</td>\n    </tr>\n  </tbody>\n</table>\n<p>244 rows × 8 columns</p>\n</div>"
     },
     "execution_count": 100,
     "metadata": {},
     "output_type": "execute_result"
    }
   ],
   "source": [
    "# sort pela coluna 'horario'\n",
    "df.sort_values(by=['horario'], ascending=False)"
   ],
   "metadata": {
    "collapsed": false,
    "pycharm": {
     "name": "#%%\n"
    }
   }
  },
  {
   "cell_type": "markdown",
   "source": [
    "Classificando o df colocando os valores ausentes primeiro"
   ],
   "metadata": {
    "collapsed": false,
    "pycharm": {
     "name": "#%% md\n"
    }
   }
  },
  {
   "cell_type": "code",
   "execution_count": 101,
   "outputs": [
    {
     "data": {
      "text/plain": "     total_conta  gorjeta     genero fumante  dia horario  pessoas_mesa  \\\n121        13.42     1.68   Feminino     nao  qui  almoco             2   \n145         8.35     1.50   Feminino     nao  qui  almoco             2   \n146        18.64     1.36   Feminino     nao  qui  almoco             3   \n147        11.87     1.63   Feminino     nao  qui  almoco             2   \n148         9.78     1.73  Masculino     nao  qui  almoco             2   \n..           ...      ...        ...     ...  ...     ...           ...   \n74         14.73     2.20   Feminino     nao  sab  jantar             2   \n75         10.51     1.25  Masculino     nao  sab  jantar             2   \n76         17.92     3.08  Masculino     sim  sab  jantar             2   \n52         34.81     5.20   Feminino     nao  dom  jantar             4   \n243        18.78     3.00   Feminino     nao  qui  jantar             2   \n\n     tempo_permanencia  \n121                 33  \n145                 48  \n146                 38  \n147                 49  \n148                 50  \n..                 ...  \n74                  43  \n75                  32  \n76                  35  \n52                  40  \n243                 40  \n\n[244 rows x 8 columns]",
      "text/html": "<div>\n<style scoped>\n    .dataframe tbody tr th:only-of-type {\n        vertical-align: middle;\n    }\n\n    .dataframe tbody tr th {\n        vertical-align: top;\n    }\n\n    .dataframe thead th {\n        text-align: right;\n    }\n</style>\n<table border=\"1\" class=\"dataframe\">\n  <thead>\n    <tr style=\"text-align: right;\">\n      <th></th>\n      <th>total_conta</th>\n      <th>gorjeta</th>\n      <th>genero</th>\n      <th>fumante</th>\n      <th>dia</th>\n      <th>horario</th>\n      <th>pessoas_mesa</th>\n      <th>tempo_permanencia</th>\n    </tr>\n  </thead>\n  <tbody>\n    <tr>\n      <th>121</th>\n      <td>13.42</td>\n      <td>1.68</td>\n      <td>Feminino</td>\n      <td>nao</td>\n      <td>qui</td>\n      <td>almoco</td>\n      <td>2</td>\n      <td>33</td>\n    </tr>\n    <tr>\n      <th>145</th>\n      <td>8.35</td>\n      <td>1.50</td>\n      <td>Feminino</td>\n      <td>nao</td>\n      <td>qui</td>\n      <td>almoco</td>\n      <td>2</td>\n      <td>48</td>\n    </tr>\n    <tr>\n      <th>146</th>\n      <td>18.64</td>\n      <td>1.36</td>\n      <td>Feminino</td>\n      <td>nao</td>\n      <td>qui</td>\n      <td>almoco</td>\n      <td>3</td>\n      <td>38</td>\n    </tr>\n    <tr>\n      <th>147</th>\n      <td>11.87</td>\n      <td>1.63</td>\n      <td>Feminino</td>\n      <td>nao</td>\n      <td>qui</td>\n      <td>almoco</td>\n      <td>2</td>\n      <td>49</td>\n    </tr>\n    <tr>\n      <th>148</th>\n      <td>9.78</td>\n      <td>1.73</td>\n      <td>Masculino</td>\n      <td>nao</td>\n      <td>qui</td>\n      <td>almoco</td>\n      <td>2</td>\n      <td>50</td>\n    </tr>\n    <tr>\n      <th>...</th>\n      <td>...</td>\n      <td>...</td>\n      <td>...</td>\n      <td>...</td>\n      <td>...</td>\n      <td>...</td>\n      <td>...</td>\n      <td>...</td>\n    </tr>\n    <tr>\n      <th>74</th>\n      <td>14.73</td>\n      <td>2.20</td>\n      <td>Feminino</td>\n      <td>nao</td>\n      <td>sab</td>\n      <td>jantar</td>\n      <td>2</td>\n      <td>43</td>\n    </tr>\n    <tr>\n      <th>75</th>\n      <td>10.51</td>\n      <td>1.25</td>\n      <td>Masculino</td>\n      <td>nao</td>\n      <td>sab</td>\n      <td>jantar</td>\n      <td>2</td>\n      <td>32</td>\n    </tr>\n    <tr>\n      <th>76</th>\n      <td>17.92</td>\n      <td>3.08</td>\n      <td>Masculino</td>\n      <td>sim</td>\n      <td>sab</td>\n      <td>jantar</td>\n      <td>2</td>\n      <td>35</td>\n    </tr>\n    <tr>\n      <th>52</th>\n      <td>34.81</td>\n      <td>5.20</td>\n      <td>Feminino</td>\n      <td>nao</td>\n      <td>dom</td>\n      <td>jantar</td>\n      <td>4</td>\n      <td>40</td>\n    </tr>\n    <tr>\n      <th>243</th>\n      <td>18.78</td>\n      <td>3.00</td>\n      <td>Feminino</td>\n      <td>nao</td>\n      <td>qui</td>\n      <td>jantar</td>\n      <td>2</td>\n      <td>40</td>\n    </tr>\n  </tbody>\n</table>\n<p>244 rows × 8 columns</p>\n</div>"
     },
     "execution_count": 101,
     "metadata": {},
     "output_type": "execute_result"
    }
   ],
   "source": [
    "# sort pela coluna 'horario'\n",
    "# colocando os valores nulos primeiro\n",
    "df.sort_values(by=['horario'], na_position='first') # nao temos NA, lembram?"
   ],
   "metadata": {
    "collapsed": false,
    "pycharm": {
     "name": "#%%\n"
    }
   }
  },
  {
   "cell_type": "markdown",
   "source": [
    "Classificando o df por várias colunas, mas em ordem diferente"
   ],
   "metadata": {
    "collapsed": false,
    "pycharm": {
     "name": "#%% md\n"
    }
   }
  },
  {
   "cell_type": "code",
   "execution_count": 102,
   "outputs": [
    {
     "data": {
      "text/plain": "     total_conta  gorjeta     genero fumante  dia horario  pessoas_mesa  \\\n0          16.99     1.01   Feminino     nao  dom  jantar             2   \n4          24.59     3.61   Feminino     nao  dom  jantar             4   \n11         35.26     5.00   Feminino     nao  dom  jantar             4   \n14         14.83     3.02   Feminino     nao  dom  jantar             2   \n16         10.33     1.67   Feminino     nao  dom  jantar             3   \n..           ...      ...        ...     ...  ...     ...           ...   \n200        18.71     4.00  Masculino     sim  qui  almoco             3   \n204        20.53     4.00  Masculino     sim  qui  almoco             4   \n220        12.16     2.20  Masculino     sim  sex  almoco             2   \n222         8.58     1.92  Masculino     sim  sex  almoco             1   \n224        13.42     1.58  Masculino     sim  sex  almoco             2   \n\n     tempo_permanencia  \n0                   41  \n4                   34  \n11                  38  \n14                  42  \n16                  35  \n..                 ...  \n200                 48  \n204                 45  \n220                 49  \n222                 36  \n224                 45  \n\n[244 rows x 8 columns]",
      "text/html": "<div>\n<style scoped>\n    .dataframe tbody tr th:only-of-type {\n        vertical-align: middle;\n    }\n\n    .dataframe tbody tr th {\n        vertical-align: top;\n    }\n\n    .dataframe thead th {\n        text-align: right;\n    }\n</style>\n<table border=\"1\" class=\"dataframe\">\n  <thead>\n    <tr style=\"text-align: right;\">\n      <th></th>\n      <th>total_conta</th>\n      <th>gorjeta</th>\n      <th>genero</th>\n      <th>fumante</th>\n      <th>dia</th>\n      <th>horario</th>\n      <th>pessoas_mesa</th>\n      <th>tempo_permanencia</th>\n    </tr>\n  </thead>\n  <tbody>\n    <tr>\n      <th>0</th>\n      <td>16.99</td>\n      <td>1.01</td>\n      <td>Feminino</td>\n      <td>nao</td>\n      <td>dom</td>\n      <td>jantar</td>\n      <td>2</td>\n      <td>41</td>\n    </tr>\n    <tr>\n      <th>4</th>\n      <td>24.59</td>\n      <td>3.61</td>\n      <td>Feminino</td>\n      <td>nao</td>\n      <td>dom</td>\n      <td>jantar</td>\n      <td>4</td>\n      <td>34</td>\n    </tr>\n    <tr>\n      <th>11</th>\n      <td>35.26</td>\n      <td>5.00</td>\n      <td>Feminino</td>\n      <td>nao</td>\n      <td>dom</td>\n      <td>jantar</td>\n      <td>4</td>\n      <td>38</td>\n    </tr>\n    <tr>\n      <th>14</th>\n      <td>14.83</td>\n      <td>3.02</td>\n      <td>Feminino</td>\n      <td>nao</td>\n      <td>dom</td>\n      <td>jantar</td>\n      <td>2</td>\n      <td>42</td>\n    </tr>\n    <tr>\n      <th>16</th>\n      <td>10.33</td>\n      <td>1.67</td>\n      <td>Feminino</td>\n      <td>nao</td>\n      <td>dom</td>\n      <td>jantar</td>\n      <td>3</td>\n      <td>35</td>\n    </tr>\n    <tr>\n      <th>...</th>\n      <td>...</td>\n      <td>...</td>\n      <td>...</td>\n      <td>...</td>\n      <td>...</td>\n      <td>...</td>\n      <td>...</td>\n      <td>...</td>\n    </tr>\n    <tr>\n      <th>200</th>\n      <td>18.71</td>\n      <td>4.00</td>\n      <td>Masculino</td>\n      <td>sim</td>\n      <td>qui</td>\n      <td>almoco</td>\n      <td>3</td>\n      <td>48</td>\n    </tr>\n    <tr>\n      <th>204</th>\n      <td>20.53</td>\n      <td>4.00</td>\n      <td>Masculino</td>\n      <td>sim</td>\n      <td>qui</td>\n      <td>almoco</td>\n      <td>4</td>\n      <td>45</td>\n    </tr>\n    <tr>\n      <th>220</th>\n      <td>12.16</td>\n      <td>2.20</td>\n      <td>Masculino</td>\n      <td>sim</td>\n      <td>sex</td>\n      <td>almoco</td>\n      <td>2</td>\n      <td>49</td>\n    </tr>\n    <tr>\n      <th>222</th>\n      <td>8.58</td>\n      <td>1.92</td>\n      <td>Masculino</td>\n      <td>sim</td>\n      <td>sex</td>\n      <td>almoco</td>\n      <td>1</td>\n      <td>36</td>\n    </tr>\n    <tr>\n      <th>224</th>\n      <td>13.42</td>\n      <td>1.58</td>\n      <td>Masculino</td>\n      <td>sim</td>\n      <td>sex</td>\n      <td>almoco</td>\n      <td>2</td>\n      <td>45</td>\n    </tr>\n  </tbody>\n</table>\n<p>244 rows × 8 columns</p>\n</div>"
     },
     "execution_count": 102,
     "metadata": {},
     "output_type": "execute_result"
    }
   ],
   "source": [
    "# sort pela coluna 'horario' em ordem descrecente e pela coluna 'genero' em ordem crescente\n",
    "df.sort_values(by=['horario', 'genero'], ascending=[False, True])"
   ],
   "metadata": {
    "collapsed": false,
    "pycharm": {
     "name": "#%%\n"
    }
   }
  },
  {
   "cell_type": "markdown",
   "source": [
    "### 6.Summarizar e agregar colunas\n",
    "\n",
    "Podemos utilizar os métodos .aggregate() ou .agg() e o .groupby() ou ainda esses dois métodos juntos\n"
   ],
   "metadata": {
    "collapsed": false,
    "pycharm": {
     "name": "#%% md\n"
    }
   }
  },
  {
   "cell_type": "code",
   "execution_count": 103,
   "outputs": [
    {
     "data": {
      "text/plain": "     total_conta  gorjeta\nsum      4827.77   731.58\nmin         3.07     1.00\nmax        50.81    10.00",
      "text/html": "<div>\n<style scoped>\n    .dataframe tbody tr th:only-of-type {\n        vertical-align: middle;\n    }\n\n    .dataframe tbody tr th {\n        vertical-align: top;\n    }\n\n    .dataframe thead th {\n        text-align: right;\n    }\n</style>\n<table border=\"1\" class=\"dataframe\">\n  <thead>\n    <tr style=\"text-align: right;\">\n      <th></th>\n      <th>total_conta</th>\n      <th>gorjeta</th>\n    </tr>\n  </thead>\n  <tbody>\n    <tr>\n      <th>sum</th>\n      <td>4827.77</td>\n      <td>731.58</td>\n    </tr>\n    <tr>\n      <th>min</th>\n      <td>3.07</td>\n      <td>1.00</td>\n    </tr>\n    <tr>\n      <th>max</th>\n      <td>50.81</td>\n      <td>10.00</td>\n    </tr>\n  </tbody>\n</table>\n</div>"
     },
     "execution_count": 103,
     "metadata": {},
     "output_type": "execute_result"
    }
   ],
   "source": [
    "df[['total_conta', 'gorjeta']].agg(['sum', 'min', 'max'])"
   ],
   "metadata": {
    "collapsed": false,
    "pycharm": {
     "name": "#%%\n"
    }
   }
  },
  {
   "cell_type": "code",
   "execution_count": 104,
   "outputs": [
    {
     "data": {
      "text/plain": "       total_conta  gorjeta  genero\nsum    4827.770000      NaN     NaN\nmean     19.785943      NaN     NaN\nmax            NaN     10.0     NaN\nmin            NaN      1.0     NaN\ncount          NaN      NaN   244.0",
      "text/html": "<div>\n<style scoped>\n    .dataframe tbody tr th:only-of-type {\n        vertical-align: middle;\n    }\n\n    .dataframe tbody tr th {\n        vertical-align: top;\n    }\n\n    .dataframe thead th {\n        text-align: right;\n    }\n</style>\n<table border=\"1\" class=\"dataframe\">\n  <thead>\n    <tr style=\"text-align: right;\">\n      <th></th>\n      <th>total_conta</th>\n      <th>gorjeta</th>\n      <th>genero</th>\n    </tr>\n  </thead>\n  <tbody>\n    <tr>\n      <th>sum</th>\n      <td>4827.770000</td>\n      <td>NaN</td>\n      <td>NaN</td>\n    </tr>\n    <tr>\n      <th>mean</th>\n      <td>19.785943</td>\n      <td>NaN</td>\n      <td>NaN</td>\n    </tr>\n    <tr>\n      <th>max</th>\n      <td>NaN</td>\n      <td>10.0</td>\n      <td>NaN</td>\n    </tr>\n    <tr>\n      <th>min</th>\n      <td>NaN</td>\n      <td>1.0</td>\n      <td>NaN</td>\n    </tr>\n    <tr>\n      <th>count</th>\n      <td>NaN</td>\n      <td>NaN</td>\n      <td>244.0</td>\n    </tr>\n  </tbody>\n</table>\n</div>"
     },
     "execution_count": 104,
     "metadata": {},
     "output_type": "execute_result"
    }
   ],
   "source": [
    "# agregando com base em um dicionário\n",
    "df.agg({\"total_conta\":['sum', 'mean'],\n",
    "              \"gorjeta\":['max', 'min'],\n",
    "              \"genero\":['count']})"
   ],
   "metadata": {
    "collapsed": false,
    "pycharm": {
     "name": "#%%\n"
    }
   }
  },
  {
   "cell_type": "code",
   "execution_count": 110,
   "outputs": [
    {
     "data": {
      "text/plain": "<pandas.core.groupby.generic.DataFrameGroupBy object at 0x7f96f60e9be0>"
     },
     "execution_count": 110,
     "metadata": {},
     "output_type": "execute_result"
    }
   ],
   "source": [
    "df.groupby('genero')"
   ],
   "metadata": {
    "collapsed": false,
    "pycharm": {
     "name": "#%%\n"
    }
   }
  },
  {
   "cell_type": "code",
   "execution_count": 111,
   "outputs": [
    {
     "data": {
      "text/plain": "<pandas.core.groupby.generic.DataFrameGroupBy object at 0x7f96f60e91c0>"
     },
     "execution_count": 111,
     "metadata": {},
     "output_type": "execute_result"
    }
   ],
   "source": [
    "df.groupby(['genero', 'horario'])"
   ],
   "metadata": {
    "collapsed": false,
    "pycharm": {
     "name": "#%%\n"
    }
   }
  },
  {
   "cell_type": "markdown",
   "source": [
    "O groupby está esperando a operacão  ser feita pelo dado agrupado"
   ],
   "metadata": {
    "collapsed": false,
    "pycharm": {
     "name": "#%% md\n"
    }
   }
  },
  {
   "cell_type": "code",
   "execution_count": 113,
   "outputs": [
    {
     "data": {
      "text/plain": "           total_conta  gorjeta  fumante  dia  horario  pessoas_mesa  \\\ngenero                                                                 \nFeminino            87       87       87   87       87            87   \nMasculino          157      157      157  157      157           157   \n\n           tempo_permanencia  \ngenero                        \nFeminino                  87  \nMasculino                157  ",
      "text/html": "<div>\n<style scoped>\n    .dataframe tbody tr th:only-of-type {\n        vertical-align: middle;\n    }\n\n    .dataframe tbody tr th {\n        vertical-align: top;\n    }\n\n    .dataframe thead th {\n        text-align: right;\n    }\n</style>\n<table border=\"1\" class=\"dataframe\">\n  <thead>\n    <tr style=\"text-align: right;\">\n      <th></th>\n      <th>total_conta</th>\n      <th>gorjeta</th>\n      <th>fumante</th>\n      <th>dia</th>\n      <th>horario</th>\n      <th>pessoas_mesa</th>\n      <th>tempo_permanencia</th>\n    </tr>\n    <tr>\n      <th>genero</th>\n      <th></th>\n      <th></th>\n      <th></th>\n      <th></th>\n      <th></th>\n      <th></th>\n      <th></th>\n    </tr>\n  </thead>\n  <tbody>\n    <tr>\n      <th>Feminino</th>\n      <td>87</td>\n      <td>87</td>\n      <td>87</td>\n      <td>87</td>\n      <td>87</td>\n      <td>87</td>\n      <td>87</td>\n    </tr>\n    <tr>\n      <th>Masculino</th>\n      <td>157</td>\n      <td>157</td>\n      <td>157</td>\n      <td>157</td>\n      <td>157</td>\n      <td>157</td>\n      <td>157</td>\n    </tr>\n  </tbody>\n</table>\n</div>"
     },
     "execution_count": 113,
     "metadata": {},
     "output_type": "execute_result"
    }
   ],
   "source": [
    "df.groupby(['genero']).count()"
   ],
   "metadata": {
    "collapsed": false,
    "pycharm": {
     "name": "#%%\n"
    }
   }
  },
  {
   "cell_type": "markdown",
   "source": [
    "Podemos agrupar os dados por gênero e calcular estatísticas báscicas para cada uma das categorias"
   ],
   "metadata": {
    "collapsed": false,
    "pycharm": {
     "name": "#%% md\n"
    }
   }
  },
  {
   "cell_type": "code",
   "execution_count": 114,
   "outputs": [
    {
     "data": {
      "text/plain": "          total_conta                   gorjeta                \n                  min       mean    max     min      mean   max\ngenero                                                         \nFeminino         3.07  18.056897  44.30     1.0  2.833448   6.5\nMasculino        7.25  20.744076  50.81     1.0  3.089618  10.0",
      "text/html": "<div>\n<style scoped>\n    .dataframe tbody tr th:only-of-type {\n        vertical-align: middle;\n    }\n\n    .dataframe tbody tr th {\n        vertical-align: top;\n    }\n\n    .dataframe thead tr th {\n        text-align: left;\n    }\n\n    .dataframe thead tr:last-of-type th {\n        text-align: right;\n    }\n</style>\n<table border=\"1\" class=\"dataframe\">\n  <thead>\n    <tr>\n      <th></th>\n      <th colspan=\"3\" halign=\"left\">total_conta</th>\n      <th colspan=\"3\" halign=\"left\">gorjeta</th>\n    </tr>\n    <tr>\n      <th></th>\n      <th>min</th>\n      <th>mean</th>\n      <th>max</th>\n      <th>min</th>\n      <th>mean</th>\n      <th>max</th>\n    </tr>\n    <tr>\n      <th>genero</th>\n      <th></th>\n      <th></th>\n      <th></th>\n      <th></th>\n      <th></th>\n      <th></th>\n    </tr>\n  </thead>\n  <tbody>\n    <tr>\n      <th>Feminino</th>\n      <td>3.07</td>\n      <td>18.056897</td>\n      <td>44.30</td>\n      <td>1.0</td>\n      <td>2.833448</td>\n      <td>6.5</td>\n    </tr>\n    <tr>\n      <th>Masculino</th>\n      <td>7.25</td>\n      <td>20.744076</td>\n      <td>50.81</td>\n      <td>1.0</td>\n      <td>3.089618</td>\n      <td>10.0</td>\n    </tr>\n  </tbody>\n</table>\n</div>"
     },
     "execution_count": 114,
     "metadata": {},
     "output_type": "execute_result"
    }
   ],
   "source": [
    "df[['genero','total_conta','gorjeta']].groupby('genero').agg(['min','mean', 'max']) # .mean()"
   ],
   "metadata": {
    "collapsed": false,
    "pycharm": {
     "name": "#%%\n"
    }
   }
  },
  {
   "cell_type": "markdown",
   "source": [
    "### 8.Juntar tabelas\n",
    "\n",
    "A primeira estratégia que podemos pensar para juntar duas ou mais colunas é através do comando .concat(). Ele basicamente empilha as colunas ou os dados das nossas tabelas.\n",
    "\n",
    "![Concatenando tabelas](../img/concat.png \"Concatenando tabelas\")."
   ],
   "metadata": {
    "collapsed": false,
    "pycharm": {
     "name": "#%% md\n"
    }
   }
  },
  {
   "cell_type": "code",
   "execution_count": 115,
   "outputs": [
    {
     "data": {
      "text/plain": "   total_conta  gorjeta     genero fumante  dia horario  pessoas_mesa  \\\n0        16.99     1.01   Feminino     nao  dom  jantar             2   \n1        10.34     1.66  Masculino     nao  dom  jantar             3   \n2        21.01     3.50  Masculino     nao  dom  jantar             3   \n3        23.68     3.31  Masculino     nao  dom  jantar             2   \n4        24.59     3.61   Feminino     nao  dom  jantar             4   \n\n   tempo_permanencia  total_conta_reais tipo_ticket genero2  \n0                 41                NaN         NaN     NaN  \n1                 40                NaN         NaN     NaN  \n2                 49                NaN         NaN     NaN  \n3                 43                NaN         NaN     NaN  \n4                 34                NaN         NaN     NaN  ",
      "text/html": "<div>\n<style scoped>\n    .dataframe tbody tr th:only-of-type {\n        vertical-align: middle;\n    }\n\n    .dataframe tbody tr th {\n        vertical-align: top;\n    }\n\n    .dataframe thead th {\n        text-align: right;\n    }\n</style>\n<table border=\"1\" class=\"dataframe\">\n  <thead>\n    <tr style=\"text-align: right;\">\n      <th></th>\n      <th>total_conta</th>\n      <th>gorjeta</th>\n      <th>genero</th>\n      <th>fumante</th>\n      <th>dia</th>\n      <th>horario</th>\n      <th>pessoas_mesa</th>\n      <th>tempo_permanencia</th>\n      <th>total_conta_reais</th>\n      <th>tipo_ticket</th>\n      <th>genero2</th>\n    </tr>\n  </thead>\n  <tbody>\n    <tr>\n      <th>0</th>\n      <td>16.99</td>\n      <td>1.01</td>\n      <td>Feminino</td>\n      <td>nao</td>\n      <td>dom</td>\n      <td>jantar</td>\n      <td>2</td>\n      <td>41</td>\n      <td>NaN</td>\n      <td>NaN</td>\n      <td>NaN</td>\n    </tr>\n    <tr>\n      <th>1</th>\n      <td>10.34</td>\n      <td>1.66</td>\n      <td>Masculino</td>\n      <td>nao</td>\n      <td>dom</td>\n      <td>jantar</td>\n      <td>3</td>\n      <td>40</td>\n      <td>NaN</td>\n      <td>NaN</td>\n      <td>NaN</td>\n    </tr>\n    <tr>\n      <th>2</th>\n      <td>21.01</td>\n      <td>3.50</td>\n      <td>Masculino</td>\n      <td>nao</td>\n      <td>dom</td>\n      <td>jantar</td>\n      <td>3</td>\n      <td>49</td>\n      <td>NaN</td>\n      <td>NaN</td>\n      <td>NaN</td>\n    </tr>\n    <tr>\n      <th>3</th>\n      <td>23.68</td>\n      <td>3.31</td>\n      <td>Masculino</td>\n      <td>nao</td>\n      <td>dom</td>\n      <td>jantar</td>\n      <td>2</td>\n      <td>43</td>\n      <td>NaN</td>\n      <td>NaN</td>\n      <td>NaN</td>\n    </tr>\n    <tr>\n      <th>4</th>\n      <td>24.59</td>\n      <td>3.61</td>\n      <td>Feminino</td>\n      <td>nao</td>\n      <td>dom</td>\n      <td>jantar</td>\n      <td>4</td>\n      <td>34</td>\n      <td>NaN</td>\n      <td>NaN</td>\n      <td>NaN</td>\n    </tr>\n  </tbody>\n</table>\n</div>"
     },
     "execution_count": 115,
     "metadata": {},
     "output_type": "execute_result"
    }
   ],
   "source": [
    "result = pd.concat([df, df2])\n",
    "result.head()"
   ],
   "metadata": {
    "collapsed": false,
    "pycharm": {
     "name": "#%%\n"
    }
   }
  },
  {
   "cell_type": "code",
   "execution_count": 116,
   "outputs": [
    {
     "data": {
      "text/plain": "   total_conta  gorjeta     genero fumante  dia horario  pessoas_mesa  \\\n0        16.99     1.01   Feminino     nao  dom  jantar             2   \n1        10.34     1.66  Masculino     nao  dom  jantar             3   \n2        21.01     3.50  Masculino     nao  dom  jantar             3   \n3        23.68     3.31  Masculino     nao  dom  jantar             2   \n4        24.59     3.61   Feminino     nao  dom  jantar             4   \n\n   tempo_permanencia  total_conta  gorjeta     genero fumante  dia horario  \\\n0                 41        16.99     1.01   Feminino     nao  dom  jantar   \n1                 40        10.34     1.66  Masculino     nao  dom  jantar   \n2                 49        21.01     3.50  Masculino     nao  dom  jantar   \n3                 43        23.68     3.31  Masculino     nao  dom  jantar   \n4                 34        24.59     3.61   Feminino     nao  dom  jantar   \n\n   pessoas_mesa  tempo_permanencia  total_conta_reais tipo_ticket genero2  \n0             2                 60             88.348       baixo       1  \n1             3                 60             53.768       baixo       0  \n2             3                 60            109.252       baixo       0  \n3             2                 60            123.136       baixo       0  \n4             4                 60            127.868       baixo       1  ",
      "text/html": "<div>\n<style scoped>\n    .dataframe tbody tr th:only-of-type {\n        vertical-align: middle;\n    }\n\n    .dataframe tbody tr th {\n        vertical-align: top;\n    }\n\n    .dataframe thead th {\n        text-align: right;\n    }\n</style>\n<table border=\"1\" class=\"dataframe\">\n  <thead>\n    <tr style=\"text-align: right;\">\n      <th></th>\n      <th>total_conta</th>\n      <th>gorjeta</th>\n      <th>genero</th>\n      <th>fumante</th>\n      <th>dia</th>\n      <th>horario</th>\n      <th>pessoas_mesa</th>\n      <th>tempo_permanencia</th>\n      <th>total_conta</th>\n      <th>gorjeta</th>\n      <th>genero</th>\n      <th>fumante</th>\n      <th>dia</th>\n      <th>horario</th>\n      <th>pessoas_mesa</th>\n      <th>tempo_permanencia</th>\n      <th>total_conta_reais</th>\n      <th>tipo_ticket</th>\n      <th>genero2</th>\n    </tr>\n  </thead>\n  <tbody>\n    <tr>\n      <th>0</th>\n      <td>16.99</td>\n      <td>1.01</td>\n      <td>Feminino</td>\n      <td>nao</td>\n      <td>dom</td>\n      <td>jantar</td>\n      <td>2</td>\n      <td>41</td>\n      <td>16.99</td>\n      <td>1.01</td>\n      <td>Feminino</td>\n      <td>nao</td>\n      <td>dom</td>\n      <td>jantar</td>\n      <td>2</td>\n      <td>60</td>\n      <td>88.348</td>\n      <td>baixo</td>\n      <td>1</td>\n    </tr>\n    <tr>\n      <th>1</th>\n      <td>10.34</td>\n      <td>1.66</td>\n      <td>Masculino</td>\n      <td>nao</td>\n      <td>dom</td>\n      <td>jantar</td>\n      <td>3</td>\n      <td>40</td>\n      <td>10.34</td>\n      <td>1.66</td>\n      <td>Masculino</td>\n      <td>nao</td>\n      <td>dom</td>\n      <td>jantar</td>\n      <td>3</td>\n      <td>60</td>\n      <td>53.768</td>\n      <td>baixo</td>\n      <td>0</td>\n    </tr>\n    <tr>\n      <th>2</th>\n      <td>21.01</td>\n      <td>3.50</td>\n      <td>Masculino</td>\n      <td>nao</td>\n      <td>dom</td>\n      <td>jantar</td>\n      <td>3</td>\n      <td>49</td>\n      <td>21.01</td>\n      <td>3.50</td>\n      <td>Masculino</td>\n      <td>nao</td>\n      <td>dom</td>\n      <td>jantar</td>\n      <td>3</td>\n      <td>60</td>\n      <td>109.252</td>\n      <td>baixo</td>\n      <td>0</td>\n    </tr>\n    <tr>\n      <th>3</th>\n      <td>23.68</td>\n      <td>3.31</td>\n      <td>Masculino</td>\n      <td>nao</td>\n      <td>dom</td>\n      <td>jantar</td>\n      <td>2</td>\n      <td>43</td>\n      <td>23.68</td>\n      <td>3.31</td>\n      <td>Masculino</td>\n      <td>nao</td>\n      <td>dom</td>\n      <td>jantar</td>\n      <td>2</td>\n      <td>60</td>\n      <td>123.136</td>\n      <td>baixo</td>\n      <td>0</td>\n    </tr>\n    <tr>\n      <th>4</th>\n      <td>24.59</td>\n      <td>3.61</td>\n      <td>Feminino</td>\n      <td>nao</td>\n      <td>dom</td>\n      <td>jantar</td>\n      <td>4</td>\n      <td>34</td>\n      <td>24.59</td>\n      <td>3.61</td>\n      <td>Feminino</td>\n      <td>nao</td>\n      <td>dom</td>\n      <td>jantar</td>\n      <td>4</td>\n      <td>60</td>\n      <td>127.868</td>\n      <td>baixo</td>\n      <td>1</td>\n    </tr>\n  </tbody>\n</table>\n</div>"
     },
     "execution_count": 116,
     "metadata": {},
     "output_type": "execute_result"
    }
   ],
   "source": [
    "result = pd.concat([df, df2], axis=\"columns\")\n",
    "result.head()"
   ],
   "metadata": {
    "collapsed": false,
    "pycharm": {
     "name": "#%%\n"
    }
   }
  },
  {
   "cell_type": "markdown",
   "source": [
    "A segunda estratégia é atravé do comando .merge() que é o análogo da instrução JOIN do SQL!"
   ],
   "metadata": {
    "collapsed": false,
    "pycharm": {
     "name": "#%% md\n"
    }
   }
  },
  {
   "cell_type": "code",
   "execution_count": 117,
   "outputs": [
    {
     "data": {
      "text/plain": "   id     nome  idade  id_produto produto_comprado          cidade\n0   1   Olivia     20         101          Relógio          Paraná\n1   2    Maria     25           0               NA  Rio de Janeiro\n2   3    Carol     15         106            Cinto          Manaus\n3   4   Isabel     10           0               NA        Brasília\n4   5    Diego     30         103          Sapatos        Brasília\n5   6   Thiago     65         104       Smartphone  Rio de Janeiro\n6   7   Samuel     35           0               NA          Recife\n7   8   Daniel     18           0               NA  Rio de Janeiro\n8   9  Juliana     23         107         Notebook          Paraná\n9  10  Juliana     23         106            Cinto          Paraná",
      "text/html": "<div>\n<style scoped>\n    .dataframe tbody tr th:only-of-type {\n        vertical-align: middle;\n    }\n\n    .dataframe tbody tr th {\n        vertical-align: top;\n    }\n\n    .dataframe thead th {\n        text-align: right;\n    }\n</style>\n<table border=\"1\" class=\"dataframe\">\n  <thead>\n    <tr style=\"text-align: right;\">\n      <th></th>\n      <th>id</th>\n      <th>nome</th>\n      <th>idade</th>\n      <th>id_produto</th>\n      <th>produto_comprado</th>\n      <th>cidade</th>\n    </tr>\n  </thead>\n  <tbody>\n    <tr>\n      <th>0</th>\n      <td>1</td>\n      <td>Olivia</td>\n      <td>20</td>\n      <td>101</td>\n      <td>Relógio</td>\n      <td>Paraná</td>\n    </tr>\n    <tr>\n      <th>1</th>\n      <td>2</td>\n      <td>Maria</td>\n      <td>25</td>\n      <td>0</td>\n      <td>NA</td>\n      <td>Rio de Janeiro</td>\n    </tr>\n    <tr>\n      <th>2</th>\n      <td>3</td>\n      <td>Carol</td>\n      <td>15</td>\n      <td>106</td>\n      <td>Cinto</td>\n      <td>Manaus</td>\n    </tr>\n    <tr>\n      <th>3</th>\n      <td>4</td>\n      <td>Isabel</td>\n      <td>10</td>\n      <td>0</td>\n      <td>NA</td>\n      <td>Brasília</td>\n    </tr>\n    <tr>\n      <th>4</th>\n      <td>5</td>\n      <td>Diego</td>\n      <td>30</td>\n      <td>103</td>\n      <td>Sapatos</td>\n      <td>Brasília</td>\n    </tr>\n    <tr>\n      <th>5</th>\n      <td>6</td>\n      <td>Thiago</td>\n      <td>65</td>\n      <td>104</td>\n      <td>Smartphone</td>\n      <td>Rio de Janeiro</td>\n    </tr>\n    <tr>\n      <th>6</th>\n      <td>7</td>\n      <td>Samuel</td>\n      <td>35</td>\n      <td>0</td>\n      <td>NA</td>\n      <td>Recife</td>\n    </tr>\n    <tr>\n      <th>7</th>\n      <td>8</td>\n      <td>Daniel</td>\n      <td>18</td>\n      <td>0</td>\n      <td>NA</td>\n      <td>Rio de Janeiro</td>\n    </tr>\n    <tr>\n      <th>8</th>\n      <td>9</td>\n      <td>Juliana</td>\n      <td>23</td>\n      <td>107</td>\n      <td>Notebook</td>\n      <td>Paraná</td>\n    </tr>\n    <tr>\n      <th>9</th>\n      <td>10</td>\n      <td>Juliana</td>\n      <td>23</td>\n      <td>106</td>\n      <td>Cinto</td>\n      <td>Paraná</td>\n    </tr>\n  </tbody>\n</table>\n</div>"
     },
     "execution_count": 117,
     "metadata": {},
     "output_type": "execute_result"
    }
   ],
   "source": [
    "# um jeito de criar df sem importar dados\n",
    "cliente=pd.DataFrame({\n",
    "    'id':[1,2,3,4,5,6,7,8,9,10],\n",
    "    'nome':['Olivia','Maria','Carol','Isabel','Diego','Thiago','Samuel','Daniel','Juliana', 'Juliana'],\n",
    "    'idade':[20,25,15,10,30,65,35,18,23, 23],\n",
    "    'id_produto':[101,0,106,0,103,104,0,0,107,106],\n",
    "    'produto_comprado':['Relógio','NA','Cinto','NA','Sapatos','Smartphone','NA','NA','Notebook', 'Cinto'],\n",
    "    'cidade':['Paraná','Rio de Janeiro','Manaus','Brasília','Brasília','Rio de Janeiro','Recife','Rio de Janeiro','Paraná', 'Paraná']\n",
    "})\n",
    "cliente"
   ],
   "metadata": {
    "collapsed": false,
    "pycharm": {
     "name": "#%%\n"
    }
   }
  },
  {
   "cell_type": "code",
   "execution_count": 118,
   "outputs": [
    {
     "data": {
      "text/plain": "   id_produto nome_produto    categoria  preco    cidade_venda\n0         101      Relógio         Moda    300  Rio de Janeiro\n1         102        Bolsa         Moda    600          Paraná\n2         103      Sapatos         Moda    400        Brasília\n3         104   Smartphone  Eletrônicos   4500          Recife\n4         105       Livros       Estudo     60  Rio de Janeiro\n5         106        Cinto         Moda    100        Brasília\n6         107     Notebook  Eletrônicos   6320          Manaus\n7         108     Carteira         Moda    130          Paraná",
      "text/html": "<div>\n<style scoped>\n    .dataframe tbody tr th:only-of-type {\n        vertical-align: middle;\n    }\n\n    .dataframe tbody tr th {\n        vertical-align: top;\n    }\n\n    .dataframe thead th {\n        text-align: right;\n    }\n</style>\n<table border=\"1\" class=\"dataframe\">\n  <thead>\n    <tr style=\"text-align: right;\">\n      <th></th>\n      <th>id_produto</th>\n      <th>nome_produto</th>\n      <th>categoria</th>\n      <th>preco</th>\n      <th>cidade_venda</th>\n    </tr>\n  </thead>\n  <tbody>\n    <tr>\n      <th>0</th>\n      <td>101</td>\n      <td>Relógio</td>\n      <td>Moda</td>\n      <td>300</td>\n      <td>Rio de Janeiro</td>\n    </tr>\n    <tr>\n      <th>1</th>\n      <td>102</td>\n      <td>Bolsa</td>\n      <td>Moda</td>\n      <td>600</td>\n      <td>Paraná</td>\n    </tr>\n    <tr>\n      <th>2</th>\n      <td>103</td>\n      <td>Sapatos</td>\n      <td>Moda</td>\n      <td>400</td>\n      <td>Brasília</td>\n    </tr>\n    <tr>\n      <th>3</th>\n      <td>104</td>\n      <td>Smartphone</td>\n      <td>Eletrônicos</td>\n      <td>4500</td>\n      <td>Recife</td>\n    </tr>\n    <tr>\n      <th>4</th>\n      <td>105</td>\n      <td>Livros</td>\n      <td>Estudo</td>\n      <td>60</td>\n      <td>Rio de Janeiro</td>\n    </tr>\n    <tr>\n      <th>5</th>\n      <td>106</td>\n      <td>Cinto</td>\n      <td>Moda</td>\n      <td>100</td>\n      <td>Brasília</td>\n    </tr>\n    <tr>\n      <th>6</th>\n      <td>107</td>\n      <td>Notebook</td>\n      <td>Eletrônicos</td>\n      <td>6320</td>\n      <td>Manaus</td>\n    </tr>\n    <tr>\n      <th>7</th>\n      <td>108</td>\n      <td>Carteira</td>\n      <td>Moda</td>\n      <td>130</td>\n      <td>Paraná</td>\n    </tr>\n  </tbody>\n</table>\n</div>"
     },
     "execution_count": 118,
     "metadata": {},
     "output_type": "execute_result"
    }
   ],
   "source": [
    "produto = pd.DataFrame({\n",
    "    'id_produto':[101, 102, 103, 104, 105, 106, 107, 108],\n",
    "    'nome_produto':['Relógio','Bolsa','Sapatos','Smartphone','Livros','Cinto','Notebook','Carteira'],\n",
    "    'categoria':['Moda','Moda','Moda','Eletrônicos','Estudo','Moda','Eletrônicos', 'Moda'],\n",
    "    'preco':[300, 600, 400, 4500, 60, 100, 6320, 130],\n",
    "    'cidade_venda':['Rio de Janeiro','Paraná','Brasília','Recife','Rio de Janeiro','Brasília','Manaus', 'Paraná']\n",
    "})\n",
    "produto"
   ],
   "metadata": {
    "collapsed": false,
    "pycharm": {
     "name": "#%%\n"
    }
   }
  },
  {
   "cell_type": "markdown",
   "source": [
    "Digamos que queremos saber sobre todos os produtos vendidos online e quem os comprou. Podemos obter isso usando o comando .merge() que por padrão faz um **inner join** nos *dataframes*. Ele recebe os dfs e o nome da coluna no qual o **inner_join** deve ser executado."
   ],
   "metadata": {
    "collapsed": false,
    "pycharm": {
     "name": "#%% md\n"
    }
   }
  },
  {
   "cell_type": "code",
   "execution_count": 119,
   "outputs": [
    {
     "data": {
      "text/plain": "   id_produto nome_produto    categoria  preco    cidade_venda  id     nome  \\\n0         101      Relógio         Moda    300  Rio de Janeiro   1   Olivia   \n1         103      Sapatos         Moda    400        Brasília   5    Diego   \n2         104   Smartphone  Eletrônicos   4500          Recife   6   Thiago   \n3         106        Cinto         Moda    100        Brasília   3    Carol   \n4         106        Cinto         Moda    100        Brasília  10  Juliana   \n5         107     Notebook  Eletrônicos   6320          Manaus   9  Juliana   \n\n   idade produto_comprado          cidade  \n0     20          Relógio          Paraná  \n1     30          Sapatos        Brasília  \n2     65       Smartphone  Rio de Janeiro  \n3     15            Cinto          Manaus  \n4     23            Cinto          Paraná  \n5     23         Notebook          Paraná  ",
      "text/html": "<div>\n<style scoped>\n    .dataframe tbody tr th:only-of-type {\n        vertical-align: middle;\n    }\n\n    .dataframe tbody tr th {\n        vertical-align: top;\n    }\n\n    .dataframe thead th {\n        text-align: right;\n    }\n</style>\n<table border=\"1\" class=\"dataframe\">\n  <thead>\n    <tr style=\"text-align: right;\">\n      <th></th>\n      <th>id_produto</th>\n      <th>nome_produto</th>\n      <th>categoria</th>\n      <th>preco</th>\n      <th>cidade_venda</th>\n      <th>id</th>\n      <th>nome</th>\n      <th>idade</th>\n      <th>produto_comprado</th>\n      <th>cidade</th>\n    </tr>\n  </thead>\n  <tbody>\n    <tr>\n      <th>0</th>\n      <td>101</td>\n      <td>Relógio</td>\n      <td>Moda</td>\n      <td>300</td>\n      <td>Rio de Janeiro</td>\n      <td>1</td>\n      <td>Olivia</td>\n      <td>20</td>\n      <td>Relógio</td>\n      <td>Paraná</td>\n    </tr>\n    <tr>\n      <th>1</th>\n      <td>103</td>\n      <td>Sapatos</td>\n      <td>Moda</td>\n      <td>400</td>\n      <td>Brasília</td>\n      <td>5</td>\n      <td>Diego</td>\n      <td>30</td>\n      <td>Sapatos</td>\n      <td>Brasília</td>\n    </tr>\n    <tr>\n      <th>2</th>\n      <td>104</td>\n      <td>Smartphone</td>\n      <td>Eletrônicos</td>\n      <td>4500</td>\n      <td>Recife</td>\n      <td>6</td>\n      <td>Thiago</td>\n      <td>65</td>\n      <td>Smartphone</td>\n      <td>Rio de Janeiro</td>\n    </tr>\n    <tr>\n      <th>3</th>\n      <td>106</td>\n      <td>Cinto</td>\n      <td>Moda</td>\n      <td>100</td>\n      <td>Brasília</td>\n      <td>3</td>\n      <td>Carol</td>\n      <td>15</td>\n      <td>Cinto</td>\n      <td>Manaus</td>\n    </tr>\n    <tr>\n      <th>4</th>\n      <td>106</td>\n      <td>Cinto</td>\n      <td>Moda</td>\n      <td>100</td>\n      <td>Brasília</td>\n      <td>10</td>\n      <td>Juliana</td>\n      <td>23</td>\n      <td>Cinto</td>\n      <td>Paraná</td>\n    </tr>\n    <tr>\n      <th>5</th>\n      <td>107</td>\n      <td>Notebook</td>\n      <td>Eletrônicos</td>\n      <td>6320</td>\n      <td>Manaus</td>\n      <td>9</td>\n      <td>Juliana</td>\n      <td>23</td>\n      <td>Notebook</td>\n      <td>Paraná</td>\n    </tr>\n  </tbody>\n</table>\n</div>"
     },
     "execution_count": 119,
     "metadata": {},
     "output_type": "execute_result"
    }
   ],
   "source": [
    "pd.merge(produto,cliente,on='id_produto')\n",
    "# um mesmo produto é comprado por diferentes clientes"
   ],
   "metadata": {
    "collapsed": false,
    "pycharm": {
     "name": "#%%\n"
    }
   }
  },
  {
   "cell_type": "code",
   "execution_count": 120,
   "outputs": [
    {
     "data": {
      "text/plain": "   id     nome  idade  id_produto produto_comprado          cidade  \\\n0   1   Olivia     20         101          Relógio          Paraná   \n1   3    Carol     15         106            Cinto          Manaus   \n2  10  Juliana     23         106            Cinto          Paraná   \n3   5    Diego     30         103          Sapatos        Brasília   \n4   6   Thiago     65         104       Smartphone  Rio de Janeiro   \n5   9  Juliana     23         107         Notebook          Paraná   \n\n  nome_produto    categoria  preco    cidade_venda  \n0      Relógio         Moda    300  Rio de Janeiro  \n1        Cinto         Moda    100        Brasília  \n2        Cinto         Moda    100        Brasília  \n3      Sapatos         Moda    400        Brasília  \n4   Smartphone  Eletrônicos   4500          Recife  \n5     Notebook  Eletrônicos   6320          Manaus  ",
      "text/html": "<div>\n<style scoped>\n    .dataframe tbody tr th:only-of-type {\n        vertical-align: middle;\n    }\n\n    .dataframe tbody tr th {\n        vertical-align: top;\n    }\n\n    .dataframe thead th {\n        text-align: right;\n    }\n</style>\n<table border=\"1\" class=\"dataframe\">\n  <thead>\n    <tr style=\"text-align: right;\">\n      <th></th>\n      <th>id</th>\n      <th>nome</th>\n      <th>idade</th>\n      <th>id_produto</th>\n      <th>produto_comprado</th>\n      <th>cidade</th>\n      <th>nome_produto</th>\n      <th>categoria</th>\n      <th>preco</th>\n      <th>cidade_venda</th>\n    </tr>\n  </thead>\n  <tbody>\n    <tr>\n      <th>0</th>\n      <td>1</td>\n      <td>Olivia</td>\n      <td>20</td>\n      <td>101</td>\n      <td>Relógio</td>\n      <td>Paraná</td>\n      <td>Relógio</td>\n      <td>Moda</td>\n      <td>300</td>\n      <td>Rio de Janeiro</td>\n    </tr>\n    <tr>\n      <th>1</th>\n      <td>3</td>\n      <td>Carol</td>\n      <td>15</td>\n      <td>106</td>\n      <td>Cinto</td>\n      <td>Manaus</td>\n      <td>Cinto</td>\n      <td>Moda</td>\n      <td>100</td>\n      <td>Brasília</td>\n    </tr>\n    <tr>\n      <th>2</th>\n      <td>10</td>\n      <td>Juliana</td>\n      <td>23</td>\n      <td>106</td>\n      <td>Cinto</td>\n      <td>Paraná</td>\n      <td>Cinto</td>\n      <td>Moda</td>\n      <td>100</td>\n      <td>Brasília</td>\n    </tr>\n    <tr>\n      <th>3</th>\n      <td>5</td>\n      <td>Diego</td>\n      <td>30</td>\n      <td>103</td>\n      <td>Sapatos</td>\n      <td>Brasília</td>\n      <td>Sapatos</td>\n      <td>Moda</td>\n      <td>400</td>\n      <td>Brasília</td>\n    </tr>\n    <tr>\n      <th>4</th>\n      <td>6</td>\n      <td>Thiago</td>\n      <td>65</td>\n      <td>104</td>\n      <td>Smartphone</td>\n      <td>Rio de Janeiro</td>\n      <td>Smartphone</td>\n      <td>Eletrônicos</td>\n      <td>4500</td>\n      <td>Recife</td>\n    </tr>\n    <tr>\n      <th>5</th>\n      <td>9</td>\n      <td>Juliana</td>\n      <td>23</td>\n      <td>107</td>\n      <td>Notebook</td>\n      <td>Paraná</td>\n      <td>Notebook</td>\n      <td>Eletrônicos</td>\n      <td>6320</td>\n      <td>Manaus</td>\n    </tr>\n  </tbody>\n</table>\n</div>"
     },
     "execution_count": 120,
     "metadata": {},
     "output_type": "execute_result"
    }
   ],
   "source": [
    "# trocamos a ordem dos dfs mas o resultado é o mesmo.\n",
    "# porque por padrão o .merge() faz um inner join\n",
    "pd.merge(cliente,produto,on='id_produto')"
   ],
   "metadata": {
    "collapsed": false,
    "pycharm": {
     "name": "#%%\n"
    }
   }
  },
  {
   "cell_type": "markdown",
   "source": [
    "Quando as colunas são diferentes precisamos explicitamente dizer o nome delas"
   ],
   "metadata": {
    "collapsed": false,
    "pycharm": {
     "name": "#%% md\n"
    }
   }
  },
  {
   "cell_type": "code",
   "execution_count": 121,
   "outputs": [
    {
     "data": {
      "text/plain": "   id_produto_x nome_produto    categoria  preco    cidade_venda  id     nome  \\\n0           101      Relógio         Moda    300  Rio de Janeiro   1   Olivia   \n1           103      Sapatos         Moda    400        Brasília   5    Diego   \n2           104   Smartphone  Eletrônicos   4500          Recife   6   Thiago   \n3           106        Cinto         Moda    100        Brasília   3    Carol   \n4           106        Cinto         Moda    100        Brasília  10  Juliana   \n5           107     Notebook  Eletrônicos   6320          Manaus   9  Juliana   \n\n   idade  id_produto_y produto_comprado          cidade  \n0     20           101          Relógio          Paraná  \n1     30           103          Sapatos        Brasília  \n2     65           104       Smartphone  Rio de Janeiro  \n3     15           106            Cinto          Manaus  \n4     23           106            Cinto          Paraná  \n5     23           107         Notebook          Paraná  ",
      "text/html": "<div>\n<style scoped>\n    .dataframe tbody tr th:only-of-type {\n        vertical-align: middle;\n    }\n\n    .dataframe tbody tr th {\n        vertical-align: top;\n    }\n\n    .dataframe thead th {\n        text-align: right;\n    }\n</style>\n<table border=\"1\" class=\"dataframe\">\n  <thead>\n    <tr style=\"text-align: right;\">\n      <th></th>\n      <th>id_produto_x</th>\n      <th>nome_produto</th>\n      <th>categoria</th>\n      <th>preco</th>\n      <th>cidade_venda</th>\n      <th>id</th>\n      <th>nome</th>\n      <th>idade</th>\n      <th>id_produto_y</th>\n      <th>produto_comprado</th>\n      <th>cidade</th>\n    </tr>\n  </thead>\n  <tbody>\n    <tr>\n      <th>0</th>\n      <td>101</td>\n      <td>Relógio</td>\n      <td>Moda</td>\n      <td>300</td>\n      <td>Rio de Janeiro</td>\n      <td>1</td>\n      <td>Olivia</td>\n      <td>20</td>\n      <td>101</td>\n      <td>Relógio</td>\n      <td>Paraná</td>\n    </tr>\n    <tr>\n      <th>1</th>\n      <td>103</td>\n      <td>Sapatos</td>\n      <td>Moda</td>\n      <td>400</td>\n      <td>Brasília</td>\n      <td>5</td>\n      <td>Diego</td>\n      <td>30</td>\n      <td>103</td>\n      <td>Sapatos</td>\n      <td>Brasília</td>\n    </tr>\n    <tr>\n      <th>2</th>\n      <td>104</td>\n      <td>Smartphone</td>\n      <td>Eletrônicos</td>\n      <td>4500</td>\n      <td>Recife</td>\n      <td>6</td>\n      <td>Thiago</td>\n      <td>65</td>\n      <td>104</td>\n      <td>Smartphone</td>\n      <td>Rio de Janeiro</td>\n    </tr>\n    <tr>\n      <th>3</th>\n      <td>106</td>\n      <td>Cinto</td>\n      <td>Moda</td>\n      <td>100</td>\n      <td>Brasília</td>\n      <td>3</td>\n      <td>Carol</td>\n      <td>15</td>\n      <td>106</td>\n      <td>Cinto</td>\n      <td>Manaus</td>\n    </tr>\n    <tr>\n      <th>4</th>\n      <td>106</td>\n      <td>Cinto</td>\n      <td>Moda</td>\n      <td>100</td>\n      <td>Brasília</td>\n      <td>10</td>\n      <td>Juliana</td>\n      <td>23</td>\n      <td>106</td>\n      <td>Cinto</td>\n      <td>Paraná</td>\n    </tr>\n    <tr>\n      <th>5</th>\n      <td>107</td>\n      <td>Notebook</td>\n      <td>Eletrônicos</td>\n      <td>6320</td>\n      <td>Manaus</td>\n      <td>9</td>\n      <td>Juliana</td>\n      <td>23</td>\n      <td>107</td>\n      <td>Notebook</td>\n      <td>Paraná</td>\n    </tr>\n  </tbody>\n</table>\n</div>"
     },
     "execution_count": 121,
     "metadata": {},
     "output_type": "execute_result"
    }
   ],
   "source": [
    "pd.merge(produto, cliente,\n",
    "         left_on='nome_produto',\n",
    "         right_on='produto_comprado')"
   ],
   "metadata": {
    "collapsed": false,
    "pycharm": {
     "name": "#%%\n"
    }
   }
  },
  {
   "cell_type": "markdown",
   "source": [
    "Assim como no SQL há outros tipos de join, que alteramos no argumento *how*."
   ],
   "metadata": {
    "collapsed": false,
    "pycharm": {
     "name": "#%% md\n"
    }
   }
  },
  {
   "cell_type": "code",
   "execution_count": 122,
   "outputs": [
    {
     "data": {
      "text/plain": "   id     nome  idade  id_produto produto_comprado          cidade  \\\n0   1   Olivia     20         101          Relógio          Paraná   \n1   2    Maria     25           0               NA  Rio de Janeiro   \n2   3    Carol     15         106            Cinto          Manaus   \n3   4   Isabel     10           0               NA        Brasília   \n4   5    Diego     30         103          Sapatos        Brasília   \n5   6   Thiago     65         104       Smartphone  Rio de Janeiro   \n6   7   Samuel     35           0               NA          Recife   \n7   8   Daniel     18           0               NA  Rio de Janeiro   \n8   9  Juliana     23         107         Notebook          Paraná   \n9  10  Juliana     23         106            Cinto          Paraná   \n\n  nome_produto    categoria   preco    cidade_venda  \n0      Relógio         Moda   300.0  Rio de Janeiro  \n1          NaN          NaN     NaN             NaN  \n2        Cinto         Moda   100.0        Brasília  \n3          NaN          NaN     NaN             NaN  \n4      Sapatos         Moda   400.0        Brasília  \n5   Smartphone  Eletrônicos  4500.0          Recife  \n6          NaN          NaN     NaN             NaN  \n7          NaN          NaN     NaN             NaN  \n8     Notebook  Eletrônicos  6320.0          Manaus  \n9        Cinto         Moda   100.0        Brasília  ",
      "text/html": "<div>\n<style scoped>\n    .dataframe tbody tr th:only-of-type {\n        vertical-align: middle;\n    }\n\n    .dataframe tbody tr th {\n        vertical-align: top;\n    }\n\n    .dataframe thead th {\n        text-align: right;\n    }\n</style>\n<table border=\"1\" class=\"dataframe\">\n  <thead>\n    <tr style=\"text-align: right;\">\n      <th></th>\n      <th>id</th>\n      <th>nome</th>\n      <th>idade</th>\n      <th>id_produto</th>\n      <th>produto_comprado</th>\n      <th>cidade</th>\n      <th>nome_produto</th>\n      <th>categoria</th>\n      <th>preco</th>\n      <th>cidade_venda</th>\n    </tr>\n  </thead>\n  <tbody>\n    <tr>\n      <th>0</th>\n      <td>1</td>\n      <td>Olivia</td>\n      <td>20</td>\n      <td>101</td>\n      <td>Relógio</td>\n      <td>Paraná</td>\n      <td>Relógio</td>\n      <td>Moda</td>\n      <td>300.0</td>\n      <td>Rio de Janeiro</td>\n    </tr>\n    <tr>\n      <th>1</th>\n      <td>2</td>\n      <td>Maria</td>\n      <td>25</td>\n      <td>0</td>\n      <td>NA</td>\n      <td>Rio de Janeiro</td>\n      <td>NaN</td>\n      <td>NaN</td>\n      <td>NaN</td>\n      <td>NaN</td>\n    </tr>\n    <tr>\n      <th>2</th>\n      <td>3</td>\n      <td>Carol</td>\n      <td>15</td>\n      <td>106</td>\n      <td>Cinto</td>\n      <td>Manaus</td>\n      <td>Cinto</td>\n      <td>Moda</td>\n      <td>100.0</td>\n      <td>Brasília</td>\n    </tr>\n    <tr>\n      <th>3</th>\n      <td>4</td>\n      <td>Isabel</td>\n      <td>10</td>\n      <td>0</td>\n      <td>NA</td>\n      <td>Brasília</td>\n      <td>NaN</td>\n      <td>NaN</td>\n      <td>NaN</td>\n      <td>NaN</td>\n    </tr>\n    <tr>\n      <th>4</th>\n      <td>5</td>\n      <td>Diego</td>\n      <td>30</td>\n      <td>103</td>\n      <td>Sapatos</td>\n      <td>Brasília</td>\n      <td>Sapatos</td>\n      <td>Moda</td>\n      <td>400.0</td>\n      <td>Brasília</td>\n    </tr>\n    <tr>\n      <th>5</th>\n      <td>6</td>\n      <td>Thiago</td>\n      <td>65</td>\n      <td>104</td>\n      <td>Smartphone</td>\n      <td>Rio de Janeiro</td>\n      <td>Smartphone</td>\n      <td>Eletrônicos</td>\n      <td>4500.0</td>\n      <td>Recife</td>\n    </tr>\n    <tr>\n      <th>6</th>\n      <td>7</td>\n      <td>Samuel</td>\n      <td>35</td>\n      <td>0</td>\n      <td>NA</td>\n      <td>Recife</td>\n      <td>NaN</td>\n      <td>NaN</td>\n      <td>NaN</td>\n      <td>NaN</td>\n    </tr>\n    <tr>\n      <th>7</th>\n      <td>8</td>\n      <td>Daniel</td>\n      <td>18</td>\n      <td>0</td>\n      <td>NA</td>\n      <td>Rio de Janeiro</td>\n      <td>NaN</td>\n      <td>NaN</td>\n      <td>NaN</td>\n      <td>NaN</td>\n    </tr>\n    <tr>\n      <th>8</th>\n      <td>9</td>\n      <td>Juliana</td>\n      <td>23</td>\n      <td>107</td>\n      <td>Notebook</td>\n      <td>Paraná</td>\n      <td>Notebook</td>\n      <td>Eletrônicos</td>\n      <td>6320.0</td>\n      <td>Manaus</td>\n    </tr>\n    <tr>\n      <th>9</th>\n      <td>10</td>\n      <td>Juliana</td>\n      <td>23</td>\n      <td>106</td>\n      <td>Cinto</td>\n      <td>Paraná</td>\n      <td>Cinto</td>\n      <td>Moda</td>\n      <td>100.0</td>\n      <td>Brasília</td>\n    </tr>\n  </tbody>\n</table>\n</div>"
     },
     "execution_count": 122,
     "metadata": {},
     "output_type": "execute_result"
    }
   ],
   "source": [
    "pd.merge(cliente, produto,on='id_produto',how='left' )\n",
    "# produto carteira nao aparece porque nenhum cliente comprou"
   ],
   "metadata": {
    "collapsed": false,
    "pycharm": {
     "name": "#%%\n"
    }
   }
  },
  {
   "cell_type": "code",
   "execution_count": 123,
   "outputs": [
    {
     "data": {
      "text/plain": "   id_produto_x nome_produto    categoria  preco    cidade_venda    id  \\\n0           101      Relógio         Moda    300  Rio de Janeiro   1.0   \n1           102        Bolsa         Moda    600          Paraná   NaN   \n2           103      Sapatos         Moda    400        Brasília   5.0   \n3           104   Smartphone  Eletrônicos   4500          Recife   6.0   \n4           105       Livros       Estudo     60  Rio de Janeiro   NaN   \n5           106        Cinto         Moda    100        Brasília   3.0   \n6           106        Cinto         Moda    100        Brasília  10.0   \n7           107     Notebook  Eletrônicos   6320          Manaus   9.0   \n8           108     Carteira         Moda    130          Paraná   NaN   \n\n      nome  idade  id_produto_y produto_comprado          cidade     _merge  \n0   Olivia   20.0         101.0          Relógio          Paraná       both  \n1      NaN    NaN           NaN              NaN             NaN  left_only  \n2    Diego   30.0         103.0          Sapatos        Brasília       both  \n3   Thiago   65.0         104.0       Smartphone  Rio de Janeiro       both  \n4      NaN    NaN           NaN              NaN             NaN  left_only  \n5    Carol   15.0         106.0            Cinto          Manaus       both  \n6  Juliana   23.0         106.0            Cinto          Paraná       both  \n7  Juliana   23.0         107.0         Notebook          Paraná       both  \n8      NaN    NaN           NaN              NaN             NaN  left_only  ",
      "text/html": "<div>\n<style scoped>\n    .dataframe tbody tr th:only-of-type {\n        vertical-align: middle;\n    }\n\n    .dataframe tbody tr th {\n        vertical-align: top;\n    }\n\n    .dataframe thead th {\n        text-align: right;\n    }\n</style>\n<table border=\"1\" class=\"dataframe\">\n  <thead>\n    <tr style=\"text-align: right;\">\n      <th></th>\n      <th>id_produto_x</th>\n      <th>nome_produto</th>\n      <th>categoria</th>\n      <th>preco</th>\n      <th>cidade_venda</th>\n      <th>id</th>\n      <th>nome</th>\n      <th>idade</th>\n      <th>id_produto_y</th>\n      <th>produto_comprado</th>\n      <th>cidade</th>\n      <th>_merge</th>\n    </tr>\n  </thead>\n  <tbody>\n    <tr>\n      <th>0</th>\n      <td>101</td>\n      <td>Relógio</td>\n      <td>Moda</td>\n      <td>300</td>\n      <td>Rio de Janeiro</td>\n      <td>1.0</td>\n      <td>Olivia</td>\n      <td>20.0</td>\n      <td>101.0</td>\n      <td>Relógio</td>\n      <td>Paraná</td>\n      <td>both</td>\n    </tr>\n    <tr>\n      <th>1</th>\n      <td>102</td>\n      <td>Bolsa</td>\n      <td>Moda</td>\n      <td>600</td>\n      <td>Paraná</td>\n      <td>NaN</td>\n      <td>NaN</td>\n      <td>NaN</td>\n      <td>NaN</td>\n      <td>NaN</td>\n      <td>NaN</td>\n      <td>left_only</td>\n    </tr>\n    <tr>\n      <th>2</th>\n      <td>103</td>\n      <td>Sapatos</td>\n      <td>Moda</td>\n      <td>400</td>\n      <td>Brasília</td>\n      <td>5.0</td>\n      <td>Diego</td>\n      <td>30.0</td>\n      <td>103.0</td>\n      <td>Sapatos</td>\n      <td>Brasília</td>\n      <td>both</td>\n    </tr>\n    <tr>\n      <th>3</th>\n      <td>104</td>\n      <td>Smartphone</td>\n      <td>Eletrônicos</td>\n      <td>4500</td>\n      <td>Recife</td>\n      <td>6.0</td>\n      <td>Thiago</td>\n      <td>65.0</td>\n      <td>104.0</td>\n      <td>Smartphone</td>\n      <td>Rio de Janeiro</td>\n      <td>both</td>\n    </tr>\n    <tr>\n      <th>4</th>\n      <td>105</td>\n      <td>Livros</td>\n      <td>Estudo</td>\n      <td>60</td>\n      <td>Rio de Janeiro</td>\n      <td>NaN</td>\n      <td>NaN</td>\n      <td>NaN</td>\n      <td>NaN</td>\n      <td>NaN</td>\n      <td>NaN</td>\n      <td>left_only</td>\n    </tr>\n    <tr>\n      <th>5</th>\n      <td>106</td>\n      <td>Cinto</td>\n      <td>Moda</td>\n      <td>100</td>\n      <td>Brasília</td>\n      <td>3.0</td>\n      <td>Carol</td>\n      <td>15.0</td>\n      <td>106.0</td>\n      <td>Cinto</td>\n      <td>Manaus</td>\n      <td>both</td>\n    </tr>\n    <tr>\n      <th>6</th>\n      <td>106</td>\n      <td>Cinto</td>\n      <td>Moda</td>\n      <td>100</td>\n      <td>Brasília</td>\n      <td>10.0</td>\n      <td>Juliana</td>\n      <td>23.0</td>\n      <td>106.0</td>\n      <td>Cinto</td>\n      <td>Paraná</td>\n      <td>both</td>\n    </tr>\n    <tr>\n      <th>7</th>\n      <td>107</td>\n      <td>Notebook</td>\n      <td>Eletrônicos</td>\n      <td>6320</td>\n      <td>Manaus</td>\n      <td>9.0</td>\n      <td>Juliana</td>\n      <td>23.0</td>\n      <td>107.0</td>\n      <td>Notebook</td>\n      <td>Paraná</td>\n      <td>both</td>\n    </tr>\n    <tr>\n      <th>8</th>\n      <td>108</td>\n      <td>Carteira</td>\n      <td>Moda</td>\n      <td>130</td>\n      <td>Paraná</td>\n      <td>NaN</td>\n      <td>NaN</td>\n      <td>NaN</td>\n      <td>NaN</td>\n      <td>NaN</td>\n      <td>NaN</td>\n      <td>left_only</td>\n    </tr>\n  </tbody>\n</table>\n</div>"
     },
     "execution_count": 123,
     "metadata": {},
     "output_type": "execute_result"
    }
   ],
   "source": [
    "# podemos pedir par o merge indicar de onde os dados vieram\n",
    "pd.merge(produto, cliente,\n",
    "         left_on='nome_produto',\n",
    "         right_on='produto_comprado',\n",
    "         how='left',\n",
    "         indicator=True)"
   ],
   "metadata": {
    "collapsed": false,
    "pycharm": {
     "name": "#%%\n"
    }
   }
  },
  {
   "cell_type": "markdown",
   "source": [
    "Aqui vai um esquema representando os tipos de join feitos no Pandas\n",
    "\n",
    "![Tipos de join](../img/join_pandas.png \"Tipos de join\")."
   ],
   "metadata": {
    "collapsed": false,
    "pycharm": {
     "name": "#%% md\n"
    }
   }
  },
  {
   "cell_type": "code",
   "execution_count": null,
   "outputs": [],
   "source": [
    "### 9.Salvar/exportar tabelas\n",
    "df.to_csv('../dados/exemplo_aula-pratica.csv') # salva no mesmo lugar onde seu codigo esta"
   ],
   "metadata": {
    "collapsed": false,
    "pycharm": {
     "name": "#%%\n"
    }
   }
  },
  {
   "cell_type": "code",
   "execution_count": null,
   "outputs": [],
   "source": [
    "df.to_csv('../dados/exemplo_aula-pratica.csv', index=False, header=True, sep='\\t')"
   ],
   "metadata": {
    "collapsed": false,
    "pycharm": {
     "name": "#%%\n"
    }
   }
  },
  {
   "cell_type": "code",
   "execution_count": null,
   "outputs": [],
   "source": [
    "df.to_excel(r'../dados/exemplo_aula-pratica.xlsx', sheet_name='dados', index = False)"
   ],
   "metadata": {
    "collapsed": false,
    "pycharm": {
     "name": "#%%\n"
    }
   }
  }
 ],
 "metadata": {
  "kernelspec": {
   "display_name": "Python 3 (ipykernel)",
   "language": "python",
   "name": "python3"
  },
  "language_info": {
   "codemirror_mode": {
    "name": "ipython",
    "version": 3
   },
   "file_extension": ".py",
   "mimetype": "text/x-python",
   "name": "python",
   "nbconvert_exporter": "python",
   "pygments_lexer": "ipython3",
   "version": "3.9.5"
  }
 },
 "nbformat": 4,
 "nbformat_minor": 1
}